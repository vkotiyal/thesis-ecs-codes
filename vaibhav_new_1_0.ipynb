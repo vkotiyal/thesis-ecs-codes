{
  "nbformat": 4,
  "nbformat_minor": 0,
  "metadata": {
    "colab": {
      "name": "vaibhav_new_1_0.ipynb",
      "provenance": [],
      "collapsed_sections": []
    },
    "kernelspec": {
      "name": "python3",
      "display_name": "Python 3"
    }
  },
  "cells": [
    {
      "cell_type": "code",
      "metadata": {
        "id": "t_dz8E8lJ3gX",
        "colab_type": "code",
        "colab": {}
      },
      "source": [
        "import numpy as np\n",
        "import matplotlib.pyplot as plt\n",
        "import pandas as pd\n",
        "from scipy.special import gamma as gamma_function"
      ],
      "execution_count": 0,
      "outputs": []
    },
    {
      "cell_type": "code",
      "metadata": {
        "id": "vzpc2IkaP3py",
        "colab_type": "code",
        "colab": {}
      },
      "source": [
        "# constant parameters\n",
        "X_min = 0\n",
        "X_max = 100\n",
        "alpha_min = 0.9\n",
        "alpha_max = 1.0\n",
        "pa_min = 0.05\n",
        "pa_max = 0.25\n",
        "N_nest = 25\n",
        "N_itertotal = 100\n",
        "\n",
        "gamma = 0.1          # noise factor\n",
        "lamda = 1.5          # constant used in le'vy flight"
      ],
      "execution_count": 0,
      "outputs": []
    },
    {
      "cell_type": "code",
      "metadata": {
        "id": "auLebkboQo7B",
        "colab_type": "code",
        "colab": {}
      },
      "source": [
        "# scalable parameters\n",
        "total_nodes = 100\n",
        "anchor_percent = 0.1\n",
        "M = int(anchor_percent*total_nodes) # no. of anchor nodes\n",
        "N = total_nodes - M # no. of unknown nodes\n",
        "\n",
        "t_range = 25 # transmission range"
      ],
      "execution_count": 0,
      "outputs": []
    },
    {
      "cell_type": "code",
      "metadata": {
        "id": "VveTW6TOfhm1",
        "colab_type": "code",
        "colab": {}
      },
      "source": [
        "# X_anchor = [[33,500],[1000,1000]]"
      ],
      "execution_count": 0,
      "outputs": []
    },
    {
      "cell_type": "code",
      "metadata": {
        "id": "ulSu6oyrgKx3",
        "colab_type": "code",
        "colab": {}
      },
      "source": [
        "# # distance calculator\n",
        "# def dist(x1,y1,x2,y2):\n",
        "#   dist_real = np.power(np.power(x1-x2,2) + np.power(y1-y2,2),0.5)\n",
        "#   dist_err = dist_real + np.random.normal(0, gamma*dist_real)\n",
        "#   return dist_real, dist_err"
      ],
      "execution_count": 0,
      "outputs": []
    },
    {
      "cell_type": "code",
      "metadata": {
        "id": "4ifq_35ZKAXF",
        "colab_type": "code",
        "colab": {}
      },
      "source": [
        "# neighbour anchors calculator\n",
        "def neighbours(x, y):\n",
        "  l = []\n",
        "  for j in range(len(X_anchor)): # for every anchor nodes\n",
        "    dist_real = np.power((np.power((x - X_anchor[j][0]), 2) + np.power((y - X_anchor[j][1]), 2)), 0.5)\n",
        "    dist_err = dist_real + np.random.normal(0, (gamma*dist_real))\n",
        "\n",
        "    if dist_err < t_range:\n",
        "      l.append(X_anchor[j])\n",
        "  \n",
        "  # return len(l),l # returns no. of neighbouring anchors and  their coords as a tuple\n",
        "  return l # neighbouring anchors coordinates"
      ],
      "execution_count": 0,
      "outputs": []
    },
    {
      "cell_type": "code",
      "metadata": {
        "id": "X3Kp-qxdfbsS",
        "colab_type": "code",
        "colab": {}
      },
      "source": [
        "# l = neighbours(2,3)\n",
        "# print(l)\n",
        "# print(len(l))"
      ],
      "execution_count": 0,
      "outputs": []
    },
    {
      "cell_type": "code",
      "metadata": {
        "id": "bVLYYDOcMft8",
        "colab_type": "code",
        "colab": {}
      },
      "source": [
        "# step size (alpha)\n",
        "def alpha(n_iter):\n",
        "  return alpha_max - ((n_iter/ N_itertotal) * (alpha_max - alpha_min)) # returns step size value\n",
        "\n",
        "# Le'vy flight function\n",
        "def levy():\n",
        "  temp = np.power(((gamma_function(1 + lamda) * np.sin(np.pi * (lamda /2))) / (gamma_function((1 + lamda)/2) * lamda * np.power(2, ((lamda - 1)/2)) )), 1/lamda)\n",
        "  u = np.random.normal(0, temp)\n",
        "  v = np.random.normal(0,1)\n",
        "  r = u / (np.power(abs(v), (1/lamda)))\n",
        "\n",
        "  return r  # random walk value\n"
      ],
      "execution_count": 0,
      "outputs": []
    },
    {
      "cell_type": "code",
      "metadata": {
        "id": "RUHTISXRVk8Z",
        "colab_type": "code",
        "colab": {}
      },
      "source": [
        "# location limit tester\n",
        "def limiter(x,y):\n",
        "  if x > X_max and y > X_max:\n",
        "    x,y = X_max, X_max\n",
        "    # X_j = X_rand\n",
        "  elif x > X_max and X_min < y < X_max:\n",
        "    x,y = X_max, y\n",
        "    # X_j = X_rand\n",
        "  elif x > X_max and y < X_min:\n",
        "    x,y = X_max, X_min\n",
        "    # X_j = X_rand\n",
        "  elif X_min < x < X_max and y < X_min:\n",
        "    x,y = x, X_min\n",
        "    # X_j = X_rand\n",
        "  elif x < X_min and y < X_min:\n",
        "    x,y = X_min, X_min\n",
        "    # X_j = X_rand\n",
        "  elif x < X_min and X_min < y < X_max:\n",
        "    x,y = X_min, y\n",
        "    # X_j = X_rand\n",
        "  elif x < X_min and y > X_max:\n",
        "    x,y = X_min, X_max\n",
        "    # X_j = X_rand\n",
        "  elif X_min < x < X_max and y > X_max:\n",
        "    x,y = x, X_max\n",
        "    # X_j = X_rand\n",
        "  \n",
        "  return x,y"
      ],
      "execution_count": 0,
      "outputs": []
    },
    {
      "cell_type": "code",
      "metadata": {
        "id": "7dEEKJ61YB-e",
        "colab_type": "code",
        "colab": {}
      },
      "source": [
        "# print(limiter(0,0))\n",
        "# print(limiter(100,0))\n",
        "# print(limiter(0,100))\n",
        "# print(limiter(100,100))\n",
        "# print(limiter(22,55))\n",
        "# print(limiter(150,150))\n",
        "# print(limiter(150,25))\n",
        "# print(limiter(151,-40))\n",
        "# print(limiter(34,-60))\n",
        "# print(limiter(-32,-45))\n",
        "# print(limiter(-70,22))\n",
        "# print(limiter(-70,120))\n",
        "# print(limiter(24,155))\n",
        "\n",
        "# v = limiter(24,155)\n",
        "# v = np.array(v)\n",
        "# print(v[0])"
      ],
      "execution_count": 0,
      "outputs": []
    },
    {
      "cell_type": "code",
      "metadata": {
        "id": "HmSE37QzZdHU",
        "colab_type": "code",
        "colab": {}
      },
      "source": [
        "# objective function (to minimize)\n",
        "def objective(x,y):\n",
        "  l = neighbours(x,y)\n",
        "  if len(l) >= 3:\n",
        "    m = len(l)\n",
        "    rerror = []\n",
        "    for ancn in l:\n",
        "      dist_real = np.power((np.power((x - ancn[0]), 2) + np.power((y - ancn[1]), 2)), 0.5)\n",
        "      dist_err = dist_real + np.random.normal(0, (gamma*dist_real))\n",
        "      rerror.append(np.power(dist_real - dist_err,2))\n",
        "    \n",
        "    return np.sum(rerror)/m or None # mean of square of ranging error\n"
      ],
      "execution_count": 0,
      "outputs": []
    },
    {
      "cell_type": "code",
      "metadata": {
        "id": "IK3ppVQXIvFN",
        "colab_type": "code",
        "colab": {}
      },
      "source": [
        "# X_anchor = [[29,68],[16,79],[45,57]]\n",
        "# neighbours(38,81)\n",
        "# v = objective(38,81)\n",
        "# print(v)"
      ],
      "execution_count": 0,
      "outputs": []
    },
    {
      "cell_type": "code",
      "metadata": {
        "id": "6CdtCOo9RmFH",
        "colab_type": "code",
        "colab": {}
      },
      "source": [
        "# # average localization error (ALE)\n",
        "# def ale():\n",
        "#   ans ="
      ],
      "execution_count": 0,
      "outputs": []
    },
    {
      "cell_type": "code",
      "metadata": {
        "id": "qj75nYc4Rp7B",
        "colab_type": "code",
        "colab": {}
      },
      "source": [
        "# localization success ratio (LSR)\n",
        "def lsr(x,y):\n",
        "  ans = (x/y) * 100\n",
        "\n",
        "  return ans"
      ],
      "execution_count": 0,
      "outputs": []
    },
    {
      "cell_type": "code",
      "metadata": {
        "id": "6a7BK54TYTY5",
        "colab_type": "code",
        "colab": {}
      },
      "source": [
        "# modified CS algorithm (paper)\n",
        "def mod_cs():\n",
        "  X_nest = []\n",
        "\n",
        "  for i in range(N_nest):\n",
        "    x_nest = np.random.randint(100)\n",
        "    y_nest = np.random.randint(100)\n",
        "\n",
        "    X_nest.append([x_nest, y_nest])\n",
        "\n",
        "  Obj_X_nest = []\n",
        "  for i in range(len(X_nest)):\n",
        "    Obj_X_nest.append(objective(X_nest[i][0],X_nest[i][1]))\n",
        "    # print(Obj_X_nest)\n",
        "\n",
        "  N_iter = 1\n",
        "  while (N_iter < N_itertotal):\n",
        "    X_js = []\n",
        "    for i in range(len(X_nest)):\n",
        "      X_j = X_nest[i]\n",
        "      X_j[0] = X_nest[i][0] + alpha(N_iter) * levy()\n",
        "      X_j[1] = X_nest[i][1] + alpha(N_iter) * levy()\n",
        "\n",
        "      v = limiter(X_j[0],X_j[1])\n",
        "      X_j[0] = v[0]\n",
        "      X_j[1] = v[1]\n",
        "\n",
        "      F_j = objective(X_j[0],X_j[1]) or 0\n",
        "      rand_k = np.random.randint(0, len(X_nest))\n",
        "      F_k = objective(X_nest[rand_k][0], X_nest[rand_k][1]) or 0\n",
        "\n",
        "      if F_j > F_k:\n",
        "        X_j[0] = X_nest[rand_k][0]\n",
        "        X_j[1] = X_nest[rand_k][1]\n",
        "        F_j = F_k\n",
        "\n",
        "      X_js.append(X_j)\n",
        "      # X_js = np.array(X_js)\n",
        "      # print(X_js)\n",
        "      # break\n",
        "\n",
        "    # Fitness values of current iteration's solutions\n",
        "    Obj_X_js = []\n",
        "    for i in range(len(X_js)):\n",
        "      Obj_X_js.append(objective(X_js[i][0], X_js[i][1]))\n",
        "    \n",
        "    # Best solution selection\n",
        "    Obj_X_js = np.array([np.inf if i is None else i for i in Obj_X_js])\n",
        "    F_min = Obj_X_js[np.argmin(Obj_X_js)]\n",
        "    best_sol = X_js[np.argmin(Obj_X_js)]\n",
        "\n",
        "    # Mutation probability\n",
        "    Pa_j = []\n",
        "    for i in Obj_X_js:\n",
        "      K = i - F_min\n",
        "      if K < 1:\n",
        "        Pa_j.append(pa_min + (pa_max - pa_min) * K)\n",
        "      else:\n",
        "        Pa_j.append(pa_max / N_iter)\n",
        "\n",
        "    # New random solutions generation according to mutation probability\n",
        "    for i in range(len(Pa_j)):\n",
        "      rand_temp = np.random.uniform(0, 1)\n",
        "      if rand_temp < Pa_j[i]:\n",
        "        my_x = np.random.randint(100)\n",
        "        my_y = np.random.randint(100)\n",
        "        X_js[i] = [my_x, my_y]\n",
        "\n",
        "        v = limiter(X_js[i][0],X_js[i][1])\n",
        "        X_js[i][0] = v[0]\n",
        "        X_js[i][1] = v[1]\n",
        "\n",
        "        Obj_X_js[i] = objective(X_js[i][0],X_js[i][1])\n",
        "    # end for\n",
        "\n",
        "    # Rank all solutions (and find current best)\n",
        "    Obj_X_js = np.array([np.inf if i is None else i for i in Obj_X_js])\n",
        "    F_min = Obj_X_js[np.argmin(Obj_X_js)]\n",
        "    best_sol = X_js[np.argmin(Obj_X_js)]\n",
        "\n",
        "\n",
        "    X_js = np.array(X_js)\n",
        "    X_nest = X_js\n",
        "    # print([X_js, Obj_X_js, best_sol, X_])\n",
        "    # print(best_sol)\n",
        "    \n",
        "    N_iter += 1\n",
        "  return best_sol\n"
      ],
      "execution_count": 0,
      "outputs": []
    },
    {
      "cell_type": "markdown",
      "metadata": {
        "id": "ZL8_2poGPJN4",
        "colab_type": "text"
      },
      "source": [
        "### MAIN"
      ]
    },
    {
      "cell_type": "code",
      "metadata": {
        "id": "CCSiVFF_Iw2o",
        "colab_type": "code",
        "colab": {}
      },
      "source": [
        "# anchor nodes random placement\n",
        "X_anchor = []\n",
        "\n",
        "for i in range(M):\n",
        "  x_anchor = np.random.randint(100)\n",
        "  y_anchor = np.random.randint(100)\n",
        "\n",
        "  X_anchor.append([x_anchor, y_anchor])"
      ],
      "execution_count": 0,
      "outputs": []
    },
    {
      "cell_type": "code",
      "metadata": {
        "id": "uPTpK6L7r47o",
        "colab_type": "code",
        "outputId": "f3c6b3a3-9dbf-4ab7-9ce3-a9b1658f8a04",
        "colab": {
          "base_uri": "https://localhost:8080/",
          "height": 187
        }
      },
      "source": [
        "X_anchor"
      ],
      "execution_count": 118,
      "outputs": [
        {
          "output_type": "execute_result",
          "data": {
            "text/plain": [
              "[[89, 15],\n",
              " [45, 48],\n",
              " [4, 92],\n",
              " [49, 92],\n",
              " [48, 63],\n",
              " [87, 32],\n",
              " [76, 37],\n",
              " [62, 65],\n",
              " [58, 74],\n",
              " [23, 12]]"
            ]
          },
          "metadata": {
            "tags": []
          },
          "execution_count": 118
        }
      ]
    },
    {
      "cell_type": "code",
      "metadata": {
        "id": "UpxyIPJjO-2l",
        "colab_type": "code",
        "colab": {}
      },
      "source": [
        "# unknown nodes random placement\n",
        "X_unknown = []\n",
        "\n",
        "for i in range(N):\n",
        "  x_unknown = np.random.randint(100)\n",
        "  y_unknown = np.random.randint(100)\n",
        "\n",
        "  X_unknown.append([x_unknown, y_unknown])"
      ],
      "execution_count": 0,
      "outputs": []
    },
    {
      "cell_type": "code",
      "metadata": {
        "id": "rwBgbqGIPmxH",
        "colab_type": "code",
        "colab": {}
      },
      "source": [
        "X_unknown = np.array(X_unknown)\n",
        "X_anchor = np.array(X_anchor)"
      ],
      "execution_count": 0,
      "outputs": []
    },
    {
      "cell_type": "code",
      "metadata": {
        "id": "v4m8GUQOr-YJ",
        "colab_type": "code",
        "outputId": "a182a487-9719-484c-8f0d-0f4046ebc199",
        "colab": {
          "base_uri": "https://localhost:8080/",
          "height": 187
        }
      },
      "source": [
        "X_anchor"
      ],
      "execution_count": 121,
      "outputs": [
        {
          "output_type": "execute_result",
          "data": {
            "text/plain": [
              "array([[89, 15],\n",
              "       [45, 48],\n",
              "       [ 4, 92],\n",
              "       [49, 92],\n",
              "       [48, 63],\n",
              "       [87, 32],\n",
              "       [76, 37],\n",
              "       [62, 65],\n",
              "       [58, 74],\n",
              "       [23, 12]])"
            ]
          },
          "metadata": {
            "tags": []
          },
          "execution_count": 121
        }
      ]
    },
    {
      "cell_type": "code",
      "metadata": {
        "id": "u1_ROuW9PvXx",
        "colab_type": "code",
        "colab": {}
      },
      "source": [
        "# back up of original anchors and unknowns\n",
        "X_anchor_og = X_anchor.copy()\n",
        "X_unknown_og = X_unknown.copy()"
      ],
      "execution_count": 0,
      "outputs": []
    },
    {
      "cell_type": "code",
      "metadata": {
        "id": "RnxSpK_0P6i5",
        "colab_type": "code",
        "outputId": "e5872477-c89d-4803-fa08-91afce06ef5f",
        "colab": {
          "base_uri": "https://localhost:8080/",
          "height": 483
        }
      },
      "source": [
        "plt.figure(figsize=(8, 8))\n",
        "plt.plot(X_unknown[:, 0], X_unknown[:, 1], 'ro', label=\"Unknown Node\")\n",
        "plt.plot(X_anchor[:, 0], X_anchor[:, 1], 'go', label=\"Anchor Node\")\n",
        "plt.legend()\n",
        "plt.grid()\n",
        "plt.show()"
      ],
      "execution_count": 123,
      "outputs": [
        {
          "output_type": "display_data",
          "data": {
            "image/png": "[encoded data removed]",
            "text/plain": [
              "<Figure size 576x576 with 1 Axes>"
            ]
          },
          "metadata": {
            "tags": [],
            "needs_background": "light"
          }
        }
      ]
    },
    {
      "cell_type": "code",
      "metadata": {
        "id": "0OXiE6q7QASs",
        "colab_type": "code",
        "outputId": "d2d485e1-eb33-4d0d-8f3a-d959f1be94e5",
        "colab": {
          "base_uri": "https://localhost:8080/",
          "height": 54
        }
      },
      "source": [
        "X_obj = []\n",
        "for i in range(len(X_unknown)):\n",
        "  X_obj.append(objective(X_unknown[i][0],X_unknown[i][1]))\n",
        "print(X_obj)"
      ],
      "execution_count": 124,
      "outputs": [
        {
          "output_type": "stream",
          "text": [
            "[None, None, 0.9894793874039154, None, 3.9072073145435313, None, None, None, None, 0.9915715687631487, None, 3.643538740693995, None, None, 1.6426528770931712, None, None, None, None, 8.937548580349898, None, None, None, None, None, None, None, None, None, None, None, None, None, 2.6677016041211337, 6.669736675644118, 2.6682898632051217, 1.7072034109541774, None, None, None, None, None, None, None, 4.761692870641565, None, None, None, None, None, None, None, None, None, 1.7889507845473558, None, None, None, 1.3971375283635894, None, None, 1.2492694334725227, None, None, None, None, None, None, None, None, None, None, None, None, None, None, None, 2.446349899276528, 1.9957157670071297, 4.391402665506692, 0.9781199633650596, None, None, None, None, None, 1.4363526011503793, None, None, None]\n"
          ],
          "name": "stdout"
        }
      ]
    },
    {
      "cell_type": "code",
      "metadata": {
        "id": "nqdGTrKAQpSB",
        "colab_type": "code",
        "outputId": "6ab2894a-6e43-4c77-d3de-50090023e46b",
        "colab": {
          "base_uri": "https://localhost:8080/",
          "height": 34
        }
      },
      "source": [
        "not_possible = 0\n",
        "for i in range(len(X_obj)):\n",
        "  if X_obj[i] == None:\n",
        "    not_possible += 1\n",
        "\n",
        "print(not_possible)"
      ],
      "execution_count": 125,
      "outputs": [
        {
          "output_type": "stream",
          "text": [
            "71\n"
          ],
          "name": "stdout"
        }
      ]
    },
    {
      "cell_type": "code",
      "metadata": {
        "id": "zYdGtrxoSu8O",
        "colab_type": "code",
        "colab": {}
      },
      "source": [
        "for i in range(len(X_unknown)):\n",
        "  loc = neighbours(X_unknown[i][0],X_unknown[i][1])\n",
        "  if len(loc) >= 3:\n",
        "    X_anchor = loc\n",
        "    f_start = objective(X_unknown[i][0],X_unknown[i][1])\n",
        "\n",
        "    # call modified CS algorithm\n",
        "    v = mod_cs()\n",
        "    print(X_unknown[i])\n",
        "    print(f_start)\n",
        "    print(X_anchor)\n",
        "    print(v)\n",
        "    print(objective(v[0],v[1]))\n",
        "  \n",
        "  # localize the best solution coordinates\n",
        "  # remove the current node [i] from \"unknown list\", and add best_sol [i] to \"anchor list\"\n",
        "\n",
        "  break"
      ],
      "execution_count": 0,
      "outputs": []
    },
    {
      "cell_type": "code",
      "metadata": {
        "id": "mupuIT3jx7kk",
        "colab_type": "code",
        "colab": {}
      },
      "source": [
        "# v"
      ],
      "execution_count": 0,
      "outputs": []
    },
    {
      "cell_type": "code",
      "metadata": {
        "id": "Dfu7QRpapxwV",
        "colab_type": "code",
        "colab": {}
      },
      "source": [
        "# X_unknown[i]"
      ],
      "execution_count": 0,
      "outputs": []
    },
    {
      "cell_type": "code",
      "metadata": {
        "id": "2awlGCDepx_l",
        "colab_type": "code",
        "colab": {}
      },
      "source": [
        "# print(f_start)\n",
        "# print(X_anchor)"
      ],
      "execution_count": 0,
      "outputs": []
    },
    {
      "cell_type": "code",
      "metadata": {
        "id": "q6zKufEWpyVK",
        "colab_type": "code",
        "colab": {}
      },
      "source": [
        ""
      ],
      "execution_count": 0,
      "outputs": []
    }
  ]
}