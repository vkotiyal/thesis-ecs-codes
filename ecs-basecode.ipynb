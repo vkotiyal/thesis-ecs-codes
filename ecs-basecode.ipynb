{
 "cells": [
  {
   "cell_type": "code",
   "execution_count": 1,
   "metadata": {},
   "outputs": [],
   "source": [
    "# Importing necessary libraries to use\n",
    "\n",
    "import numpy as np\n",
    "import matplotlib.pyplot as plt\n",
    "from scipy.stats import norm\n",
    "from scipy.special import gamma as gamma_function\n",
    "import math\n",
    "import time"
   ]
  },
  {
   "cell_type": "code",
   "execution_count": null,
   "metadata": {},
   "outputs": [],
   "source": []
  },
  {
   "cell_type": "code",
   "execution_count": 2,
   "metadata": {},
   "outputs": [],
   "source": [
    "# Constrution of a class called \"Cuckoo\" which contains the main function.\n",
    "class Cuckoo():\n",
    "    \n",
    "    # Constant Parameters\n",
    "    X_min = 0            # test area lower bound\n",
    "    X_max = 100          # test area upper bound\n",
    "    alpha_min = 0.9      # step size lower bound\n",
    "    alpha_max = 1.0      # step size upper bound\n",
    "    pa_min = 0.05        # mutation probability lower bound\n",
    "    pa_max = 0.25        # mutation probability upper bound\n",
    "    N_nest = 25          # total no. of solutions in the test field\n",
    "    N_itertotal = 100    # max. no. of iterations for each node localization\n",
    "    gamma = 0.1          # noise factor\n",
    "    lamda = 1.5          # constant used in le'vy flight\n",
    "    \n",
    "    total_nodes = 0      # node density\n",
    "    anchor_percent = 0   # anchor ratio\n",
    "    t_range = 0          # transmission range\n",
    "    \n",
    "    X_anchor = []        # anchor list\n",
    "    X_unknown = []       # unknown nodes list\n",
    "    \n",
    "    X_loc = []           # (estimated coords, actual coords) pairs\n",
    "    F_mins = []          # iteration-wise optimum fitness values\n",
    "    \n",
    "\n",
    "    def __init__(self, total_nodes = 100, anchor_percent = 0.20, t_range = 25):\n",
    "        self.total_nodes = total_nodes\n",
    "        self.anchor_percent = anchor_percent\n",
    "        self.t_range = t_range\n",
    "        self.M = int(self.anchor_percent * self.total_nodes) # no. of anchor nodes\n",
    "        self.N = self.total_nodes - self.M # no. of unknown nodes        \n",
    "        \n",
    "        # Anchor Deployment\n",
    "        for i in range(self.M):\n",
    "            x_anchor = np.random.randint(self.X_max)\n",
    "            y_anchor = np.random.randint(self.X_max)\n",
    "            self.X_anchor.append([x_anchor, y_anchor])\n",
    "        \n",
    "        # Unknown Nodes Deployment\n",
    "        for i in range(self.N):\n",
    "            x_unknown = np.random.randint(self.X_max)\n",
    "            y_unknown = np.random.randint(self.X_max)\n",
    "            self.X_unknown.append([x_unknown, y_unknown])\n",
    "        \n",
    "        self.X_unknown = np.array(self.X_unknown)\n",
    "        self.X_anchor = np.array(self.X_anchor)\n",
    "    \n",
    "        # Backup of original coordinates of Anchor and Unknown nodes\n",
    "        self.X_anchor_og = self.X_anchor.copy()\n",
    "        self.X_unknown_og = self.X_unknown.copy()\n",
    "    \n",
    "    \n",
    "    def show_field(self, unk = True):\n",
    "        \"\"\"Plots the test field containing labeled nodes\"\"\"\n",
    "        plt.figure(figsize=(8, 8))\n",
    "        if unk == True:\n",
    "            if len(self.X_unknown) != 0:\n",
    "                plt.plot(self.X_unknown[:, 0], self.X_unknown[:, 1], 'yo', label=\"Left Node\")\n",
    "            plt.plot(self.X_unknown_og[:, 0], self.X_unknown_og[:, 1], 'ro', label='Unknown Node')\n",
    "        else:\n",
    "            plt.plot(self.X_unknown_og[:, 0], self.X_unknown_og[:, 1], 'ro', label='Unknown Node')\n",
    "            if len(self.X_unknown) != 0:\n",
    "                plt.plot(self.X_unknown[:, 0], self.X_unknown[:, 1], 'yo', label=\"Left Node\")\n",
    "        plt.plot(self.X_anchor_og[:, 0], self.X_anchor_og[:, 1], 'go', label=\"Anchor Node\")\n",
    "        plt.plot(self.X_anchor[self.M:, 0], self.X_anchor[self.M:, 1], 'b^', label=\"Localized Node\", fillstyle='none', markersize=10)\n",
    "        \n",
    "        plt.legend()\n",
    "        plt.axis([0,self.X_max,0,self.X_max])\n",
    "        plt.grid()\n",
    "        plt.show()\n",
    "    \n",
    "    \n",
    "    def alpha(self, n_iter):\n",
    "        \"\"\"Step size used in Le'vy flight\"\"\"\n",
    "        return self.alpha_max - ((n_iter/ self.N_itertotal) * (self.alpha_max - self.alpha_min)) # returns step size value\n",
    "\n",
    "    def levy(self):\n",
    "        \"\"\"Returns random walk value\"\"\"\n",
    "        temp = np.power(((gamma_function(1 + self.lamda) * np.sin(np.pi * (self.lamda /2))) / (gamma_function((1 + self.lamda)/2) * self.lamda * np.power(2, ((self.lamda - 1)/2)) )), 1/self.lamda)\n",
    "        u = np.random.normal(0, temp)\n",
    "        v = np.random.normal(0,1)\n",
    "        r = u / (np.power(abs(v), (1/self.lamda)))\n",
    "\n",
    "        return r  # random walk value\n",
    "\n",
    "    \n",
    "    def limiter(self, point):\n",
    "        \"\"\"Prevents the node from exiting the test field\"\"\"\n",
    "        x = point[0]\n",
    "        y = point[1]\n",
    "        if x > self.X_max and y > self.X_max:\n",
    "            x,y = self.X_max, self.X_max\n",
    "        elif x > self.X_max and self.X_min < y < self.X_max:\n",
    "            x,y = self.X_max, y\n",
    "        elif x > self.X_max and y < self.X_min:\n",
    "            x,y = self.X_max, self.X_min\n",
    "        elif self.X_min < x < self.X_max and y < self.X_min:\n",
    "            x,y = x, self.X_min\n",
    "        elif x < self.X_min and y < self.X_min:\n",
    "            x,y = self.X_min, self.X_min\n",
    "        elif x < self.X_min and self.X_min < y < self.X_max:\n",
    "            x,y = self.X_min, y\n",
    "        elif x < self.X_min and y > self.X_max:\n",
    "            x,y = self.X_min, self.X_max\n",
    "        elif self.X_min < x < self.X_max and y > self.X_max:\n",
    "            x,y = x, self.X_max\n",
    "\n",
    "        return [x,y]\n",
    "\n",
    "    \n",
    "    def neighbours(self, node, anchors):\n",
    "        \"\"\"Returns a list of neighbouring anchor nodes within transmission range of the input node\"\"\"\n",
    "        x = node[0]\n",
    "        y = node[1]\n",
    "        X_anchor = anchors\n",
    "                \n",
    "        l = []\n",
    "        for j in range(len(X_anchor)): # for every anchor node in the list\n",
    "            dist_real = np.power((np.power((x - X_anchor[j][0]), 2) + np.power((y - X_anchor[j][1]), 2)), 0.5)\n",
    "            np.random.seed(2)\n",
    "            dist_err = dist_real + np.random.normal(0, (self.gamma*dist_real))\n",
    "            np.random.seed()\n",
    "            \n",
    "\n",
    "            if dist_err < self.t_range: # vicinity check\n",
    "                l.append(X_anchor[j])\n",
    "                \n",
    "        return l # neighbouring anchors coordinates\n",
    "\n",
    "    def objective(self, node, n_anchors, node_unknown, min_nodes = 3):\n",
    "        \"\"\"Objective function MSE (to minimize)\"\"\"\n",
    "        x = node[0]\n",
    "        y = node[1]\n",
    "        \n",
    "        x1 = node_unknown[0]\n",
    "        y1 = node_unknown[1]\n",
    "        \n",
    "        l = self.neighbours(node_unknown, n_anchors) # calculating neighbours of the unknown node\n",
    "        m = len(l)\n",
    "        rerror = []\n",
    "        if len(l) >= min_nodes:\n",
    "            for ancn in l: \n",
    "                #dij (real distance between estimated node and anchor)\n",
    "                dist_real = np.power((np.power((x - ancn[0]), 2) + np.power((y - ancn[1]), 2)), 0.5)\n",
    "                \n",
    "                #dij1 (real distance between unknown node and anchor)\n",
    "                dist_real1 = np.power((np.power((x1 - ancn[0]), 2) + np.power((y1 - ancn[1]), 2)), 0.5)\n",
    "                \n",
    "                #dij' (calculated distance between unknown node and anchor) (includes the ranging error)\n",
    "                np.random.seed(2)\n",
    "                dist_err = dist_real1 + np.random.normal(0, (self.gamma*dist_real1))\n",
    "                np.random.seed()\n",
    "                rerror.append(np.power(dist_real - dist_err,2))\n",
    "\n",
    "        # returning worst solutions (not enough neighbouring anchors) with infinite value\n",
    "        ans = None\n",
    "        if math.isnan(np.sum(rerror)/m): \n",
    "            ans = np.inf\n",
    "        else:\n",
    "            ans = np.sum(rerror)/m or None\n",
    "            \n",
    "        return ans # mean of square of ranging error\n",
    "\n",
    "    \n",
    "    def ecs(self, N_anchor, node_unknown):\n",
    "        \"\"\"Enhanced Cuckoo Search Algorithm\"\"\"\n",
    "        # Initial population (Random deployment of 'N' nests)\n",
    "        X_nest = []                   # list of candidate solutions\n",
    "        min_nodes = len(N_anchor)     # no. of neighbouring anchors\n",
    "        for i in range(self.N_nest):\n",
    "            x_nest = np.random.randint(self.X_max)\n",
    "            y_nest = np.random.randint(self.X_max)\n",
    "            X_nest.append([x_nest, y_nest])\n",
    "        \n",
    "        # Calculating fitness value of each nest\n",
    "        Obj_X_nest = []              # list of fitness values of the candidate solutions\n",
    "        for i in range(len(X_nest)):\n",
    "            Obj_X_nest.append(self.objective(X_nest[i], N_anchor, node_unknown, min_nodes) or np.inf)\n",
    "#         print(Obj_X_nest)\n",
    "        \n",
    "        N_iter = 0                   # iteration counter\n",
    "        fmins = []                   # list of best fitness value of each iteration\n",
    "        while(N_iter < self.N_itertotal): # fittest solution search loop\n",
    "            N_iter += 1              # increment in iteration counter\n",
    "            X_js = []                # list of new candidate solutions\n",
    "            Obj_X_js = []            # list of fitness values of the new candidate solutions\n",
    "            # Applying Le'vy flight to every solution\n",
    "            for i in range(len(X_nest)):\n",
    "                X_j = X_nest[i].copy()\n",
    "                X_j[0] = X_j[0] + self.alpha(N_iter) * self.levy()\n",
    "                X_j[1] = X_j[1] + self.alpha(N_iter) * self.levy()\n",
    "                \n",
    "                X_j = self.limiter(X_j)     # limit test on new solution generated by Le'vy flight\n",
    "                \n",
    "                F_j = self.objective(X_j, N_anchor, node_unknown, min_nodes) or np.inf\n",
    "                rand_k = np.random.randint(0, len(X_nest))\n",
    "                F_k = Obj_X_nest[rand_k]\n",
    "                \n",
    "                # Comparing fitness of new solution with existing solution\n",
    "                if F_j > F_k:\n",
    "                    X_j[0] = X_nest[rand_k][0]\n",
    "                    X_j[1] = X_nest[rand_k][1]\n",
    "                    F_j = F_k\n",
    "\n",
    "                X_js.append(X_j)\n",
    "                Obj_X_js.append(F_j)\n",
    "            \n",
    "            # Finding current best solution out of 'N' nests\n",
    "            Obj_X_js = np.array([np.inf if i is None else i for i in Obj_X_js])\n",
    "            F_min = Obj_X_js[np.argmin(Obj_X_js)]\n",
    "#             print(F_min)\n",
    "            current_best_sol = X_js[np.argmin(Obj_X_js)]\n",
    "            \n",
    "            # Calculation of mutation probability (Pa)\n",
    "            Pa_j = []                 # list of mutation probabilities of all the updated candidate solutions\n",
    "            for i in Obj_X_js:\n",
    "                K = i - F_min\n",
    "                if K < 1:\n",
    "                    Pa_j.append(self.pa_min + (self.pa_max - self.pa_min) * K)\n",
    "                else:\n",
    "                    Pa_j.append(self.pa_max / N_iter)\n",
    "\n",
    "            # Mutation process\n",
    "            for i in range(len(Pa_j)):\n",
    "                rand_temp = np.random.uniform(0, 1)\n",
    "                if rand_temp < Pa_j[i]:\n",
    "                    my_x = np.random.randint(self.X_max)\n",
    "                    my_y = np.random.randint(self.X_max)\n",
    "                    F_my_xy = self.objective([my_x, my_y], N_anchor, node_unknown, min_nodes) or np.inf\n",
    "                    if (Obj_X_js[i]) > (F_my_xy):\n",
    "                        X_js[i] = [my_x, my_y]\n",
    "                        Obj_X_js[i] = F_my_xy\n",
    "            \n",
    "            # Finding the best solution of current iteration\n",
    "            Obj_X_js = np.array([np.inf if i is None else i for i in Obj_X_js])\n",
    "            F_min = Obj_X_js[np.argmin(Obj_X_js)]\n",
    "#             print(F_min)\n",
    "            self.F_mins.append(F_min)\n",
    "            fmins.append(F_min)\n",
    "            \n",
    "            # Early stopping mechanism\n",
    "            if len(fmins) > 3:\n",
    "                d1 = abs(fmins[-1] - fmins[-2])\n",
    "                d2 = abs(fmins[-2] - fmins[-3])\n",
    "                d3 = abs(fmins[-3] - fmins[-4])\n",
    "                if d1 == d2 == d3 == 0:\n",
    "#                     print('Exiting', N_iter)\n",
    "                    break\n",
    "            \n",
    "            # Obtaining the coordinates of best fit solution of the iteration\n",
    "            best_sol = X_js[np.argmin(Obj_X_js)]\n",
    "            X_nest = X_js.copy()\n",
    "            Obj_X_nest = Obj_X_js.copy()\n",
    "        \n",
    "        return best_sol # returns the coordinates of the solution with global best fitness\n",
    "                \n",
    "    \n",
    "    def update_Unknown(self, indexes):        \n",
    "        \"\"\"Updating Unknown List after localization\"\"\"\n",
    "        # append the corresponding coordinates of the index values which are not localized in a list,\n",
    "        # and then update the unknown nodes' list\n",
    "        X_unknown_temp = []\n",
    "        for j in range(len(self.X_unknown)):\n",
    "            if j in indexes:\n",
    "                pass\n",
    "            else:\n",
    "                X_unknown_temp.append(self.X_unknown[j])\n",
    "\n",
    "        self.X_unknown = np.array(X_unknown_temp)\n",
    "        \n",
    "\n",
    "    def main(self):\n",
    "        \"\"\"Node Localization Process\"\"\"\n",
    "        for j in range(5):\n",
    "            localised_indexes = []\n",
    "            for i in range(len(self.X_unknown)):\n",
    "                nn = self.neighbours(self.X_unknown[i], self.X_anchor)\n",
    "    #                 print(i, end=\"\\r\")\n",
    "                if len(nn) >= 3:\n",
    "                    updated_node_location = self.ecs(nn, self.X_unknown[i])\n",
    "\n",
    "                    self.X_loc.append([updated_node_location, self.X_unknown[i]])\n",
    "\n",
    "                    # Updated \n",
    "                    X_anchor_temp = list(self.X_anchor)\n",
    "                    X_anchor_temp.append(updated_node_location)\n",
    "                    self.X_anchor = np.array(X_anchor_temp)\n",
    "\n",
    "                    localised_indexes.append(i)\n",
    "\n",
    "            self.update_Unknown(localised_indexes)\n"
   ]
  },
  {
   "cell_type": "markdown",
   "metadata": {},
   "source": [
    "# EXPERIMENT"
   ]
  },
  {
   "cell_type": "code",
   "execution_count": 3,
   "metadata": {},
   "outputs": [],
   "source": [
    "coco = Cuckoo(total_nodes=300, anchor_percent=0.35, t_range=25)"
   ]
  },
  {
   "cell_type": "code",
   "execution_count": 4,
   "metadata": {},
   "outputs": [
    {
     "data": {
      "image/png": "[encoded data removed]",
      "text/plain": [
       "<Figure size 576x576 with 1 Axes>"
      ]
     },
     "metadata": {
      "needs_background": "light"
     },
     "output_type": "display_data"
    }
   ],
   "source": [
    "# Plotting the test field\n",
    "coco.show_field()"
   ]
  },
  {
   "cell_type": "code",
   "execution_count": 5,
   "metadata": {},
   "outputs": [],
   "source": [
    "# main function call\n",
    "start = time.time()\n",
    "coco.main()\n",
    "stop = time.time()"
   ]
  },
  {
   "cell_type": "code",
   "execution_count": 6,
   "metadata": {},
   "outputs": [
    {
     "name": "stdout",
     "output_type": "stream",
     "text": [
      "ALE =  0.6262304165982673\n"
     ]
    }
   ],
   "source": [
    "# Average Localization Error (ALE)\n",
    "distances = []\n",
    "for loc in coco.X_loc:\n",
    "    modified = loc[0]\n",
    "    original = loc[1]\n",
    "    \n",
    "    distances.append(np.sqrt((modified[0] - original[0])**2 + (modified[1] - original[1])**2))\n",
    "\n",
    "ale = np.sum(distances)/len(distances)\n",
    "print('ALE = ', ale)"
   ]
  },
  {
   "cell_type": "code",
   "execution_count": 7,
   "metadata": {},
   "outputs": [
    {
     "name": "stdout",
     "output_type": "stream",
     "text": [
      "LSR =  100.0 %\n",
      "No.of localized nodes =  195\n"
     ]
    }
   ],
   "source": [
    "# Localization Success Ratio (LSR)\n",
    "lsr = (len(distances)/len(coco.X_unknown_og)) * 100\n",
    "print('LSR = ', lsr,'%')\n",
    "print('No.of localized nodes = ', len(distances))"
   ]
  },
  {
   "cell_type": "code",
   "execution_count": 8,
   "metadata": {},
   "outputs": [
    {
     "name": "stdout",
     "output_type": "stream",
     "text": [
      "No. of iterations =  4601\n"
     ]
    }
   ],
   "source": [
    "# No. of iterations required to localize all the localizable nodes\n",
    "niter = len(coco.F_mins)\n",
    "print('No. of iterations = ', niter)"
   ]
  },
  {
   "cell_type": "code",
   "execution_count": 9,
   "metadata": {},
   "outputs": [
    {
     "name": "stdout",
     "output_type": "stream",
     "text": [
      "n_time =  3587.8713161945343\n"
     ]
    }
   ],
   "source": [
    "# Total time taken (To localize all localizable nodes)\n",
    "n_time = stop-start\n",
    "print(\"n_time = \", n_time)"
   ]
  },
  {
   "cell_type": "code",
   "execution_count": null,
   "metadata": {},
   "outputs": [],
   "source": []
  },
  {
   "cell_type": "code",
   "execution_count": 33,
   "metadata": {},
   "outputs": [
    {
     "data": {
      "image/png": "[encoded data removed]",
      "text/plain": [
       "<Figure size 576x576 with 1 Axes>"
      ]
     },
     "metadata": {
      "needs_background": "light"
     },
     "output_type": "display_data"
    }
   ],
   "source": [
    "# Plotting the test field\n",
    "coco.show_field(False)"
   ]
  },
  {
   "cell_type": "code",
   "execution_count": null,
   "metadata": {},
   "outputs": [],
   "source": []
  },
  {
   "cell_type": "code",
   "execution_count": null,
   "metadata": {},
   "outputs": [],
   "source": []
  }
 ],
 "metadata": {
  "kernelspec": {
   "display_name": "Python 3",
   "language": "python",
   "name": "python3"
  },
  "language_info": {
   "codemirror_mode": {
    "name": "ipython",
    "version": 3
   },
   "file_extension": ".py",
   "mimetype": "text/x-python",
   "name": "python",
   "nbconvert_exporter": "python",
   "pygments_lexer": "ipython3",
   "version": "3.7.2"
  }
 },
 "nbformat": 4,
 "nbformat_minor": 4
}
