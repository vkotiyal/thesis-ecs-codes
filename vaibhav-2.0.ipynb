{
 "cells": [
  {
   "cell_type": "code",
   "execution_count": 710,
   "metadata": {
    "colab": {},
    "colab_type": "code",
    "id": "uessMxu1gnLj"
   },
   "outputs": [],
   "source": [
    "import numpy as np\n",
    "import matplotlib.pyplot as plt\n",
    "import pandas as pd\n",
    "from scipy.special import gamma as gamma_function"
   ]
  },
  {
   "cell_type": "code",
   "execution_count": 711,
   "metadata": {
    "colab": {},
    "colab_type": "code",
    "id": "sCPrLvUFgnLu"
   },
   "outputs": [],
   "source": [
    "total_nodes = 100\n",
    "anchor_percent = 0.10\n",
    "N = int((1 - anchor_percent) * total_nodes) # unknown nodes\n",
    "M = total_nodes - N # anchor nodes"
   ]
  },
  {
   "cell_type": "code",
   "execution_count": 712,
   "metadata": {
    "colab": {
     "base_uri": "https://localhost:8080/",
     "height": 34
    },
    "colab_type": "code",
    "id": "wxMMDcRjoH-y",
    "outputId": "7b42d644-848b-4fe1-9d66-8be165afbfe3"
   },
   "outputs": [
    {
     "name": "stdout",
     "output_type": "stream",
     "text": [
      "10\n"
     ]
    }
   ],
   "source": [
    "print(M)"
   ]
  },
  {
   "cell_type": "code",
   "execution_count": 713,
   "metadata": {
    "colab": {},
    "colab_type": "code",
    "id": "VdHibg-FgnLz"
   },
   "outputs": [],
   "source": [
    "#anchor nodes and unknown nodes random placement\n",
    "X_unknown = []\n",
    "X_anchor = []\n",
    "\n",
    "for i in range(N):\n",
    "    x_unknown = np.random.randint(100)\n",
    "    y_unknown = np.random.randint(100)\n",
    "  \n",
    "    X_unknown.append([x_unknown, y_unknown])\n",
    "\n",
    "for i in range(M):\n",
    "    x_anchor = np.random.randint(100)\n",
    "    y_anchor = np.random.randint(100)\n",
    "\n",
    "    X_anchor.append([x_anchor, y_anchor])"
   ]
  },
  {
   "cell_type": "code",
   "execution_count": 714,
   "metadata": {
    "colab": {
     "base_uri": "https://localhost:8080/",
     "height": 187
    },
    "colab_type": "code",
    "id": "lNUcoyZcgnL4",
    "outputId": "b3cdd7dc-d378-4da9-ddfb-5920f7e20efe"
   },
   "outputs": [],
   "source": [
    "# X_unknown"
   ]
  },
  {
   "cell_type": "code",
   "execution_count": 715,
   "metadata": {
    "colab": {
     "base_uri": "https://localhost:8080/",
     "height": 34
    },
    "colab_type": "code",
    "id": "fYry7Fmec7od",
    "outputId": "1a32397c-8297-4ec8-d32e-ea953e3b054b"
   },
   "outputs": [],
   "source": [
    "# len(X_unknown)"
   ]
  },
  {
   "cell_type": "code",
   "execution_count": 716,
   "metadata": {
    "colab": {
     "base_uri": "https://localhost:8080/",
     "height": 34
    },
    "colab_type": "code",
    "id": "_iBfgzSKIszT",
    "outputId": "12e40ad2-6c90-4bf8-fb8f-93075ac1affc"
   },
   "outputs": [],
   "source": [
    "# X_anchor[0]"
   ]
  },
  {
   "cell_type": "code",
   "execution_count": 717,
   "metadata": {
    "colab": {},
    "colab_type": "code",
    "id": "lY4nYJPZgnL-"
   },
   "outputs": [],
   "source": [
    "X_unknown = np.array(X_unknown)\n",
    "X_anchor = np.array(X_anchor)"
   ]
  },
  {
   "cell_type": "code",
   "execution_count": 718,
   "metadata": {
    "colab": {
     "base_uri": "https://localhost:8080/",
     "height": 51
    },
    "colab_type": "code",
    "id": "s23KYDujKIOC",
    "outputId": "42884811-9f24-43a2-f978-46410ee5d68e"
   },
   "outputs": [],
   "source": [
    "X_anchor_og = X_anchor.copy()\n",
    "X_unknown_bak = X_unknown.copy()\n",
    "# print(X_anchor[0])"
   ]
  },
  {
   "cell_type": "code",
   "execution_count": 719,
   "metadata": {
    "colab": {
     "base_uri": "https://localhost:8080/",
     "height": 483
    },
    "colab_type": "code",
    "id": "WB5isTpZgnMD",
    "outputId": "9229d487-8f64-43ef-83be-934d86a16c92"
   },
   "outputs": [
    {
     "data": {
      "image/png": "[encoded data removed]",
      "text/plain": [
       "<Figure size 576x576 with 1 Axes>"
      ]
     },
     "metadata": {
      "needs_background": "light"
     },
     "output_type": "display_data"
    }
   ],
   "source": [
    "plt.figure(figsize=(8, 8))\n",
    "plt.plot(X_unknown[:, 0], X_unknown[:, 1], 'ro', label=\"Unknown Node\")\n",
    "plt.plot(X_anchor[:, 0], X_anchor[:, 1], 'go', label=\"Anchor Node\")\n",
    "plt.legend()\n",
    "plt.show()"
   ]
  },
  {
   "cell_type": "code",
   "execution_count": 720,
   "metadata": {
    "colab": {},
    "colab_type": "code",
    "id": "OuESlBcggnMJ"
   },
   "outputs": [],
   "source": [
    "t_range = 25 # transmission range\n",
    "# t_range_best = \n",
    "gamma = 0.1 # noise factor"
   ]
  },
  {
   "cell_type": "code",
   "execution_count": 721,
   "metadata": {
    "colab": {},
    "colab_type": "code",
    "id": "D2tzFZbVgnMP"
   },
   "outputs": [],
   "source": [
    "#objective function need to minimize\n",
    "def objective(x, y):\n",
    "    l = []\n",
    "    for j in range(len(X_anchor)): # for every anchor nodes\n",
    "        dij = np.power((np.power((x - X_anchor[j][0]), 2) + np.power((y - X_anchor[j][1]), 2)), 0.5)\n",
    "        dij_dash = dij + np.random.normal(0, (gamma*dij))\n",
    "        \n",
    "        if dij < t_range:\n",
    "            l.append(X_anchor[j])\n",
    "    if len(l) >= 3:\n",
    "#         print(l, 'anchor nodes')\n",
    "#         print(X_unknown[i], 'unknown nodes')\n",
    "        m = len(l)\n",
    "        rerror = []\n",
    "        for ancn in l:\n",
    "            dij = np.power((np.power((x - ancn[0]), 2) + np.power((y - ancn[1]), 2)), 0.5)\n",
    "            dij_dash = dij + (gamma * gamma * dij *dij)\n",
    "            rerror.append(np.power((dij - dij_dash), 2))\n",
    "\n",
    "        return np.sum(rerror) / m\n",
    "\n",
    "    "
   ]
  },
  {
   "cell_type": "code",
   "execution_count": 722,
   "metadata": {},
   "outputs": [],
   "source": [
    "v_x = []\n",
    "for i in range(100):\n",
    "    for j in range(100):\n",
    "        if objective(i, j):\n",
    "            v_x.append(objective(i, j))"
   ]
  },
  {
   "cell_type": "code",
   "execution_count": 723,
   "metadata": {},
   "outputs": [],
   "source": [
    "# v_x"
   ]
  },
  {
   "cell_type": "code",
   "execution_count": 724,
   "metadata": {},
   "outputs": [],
   "source": [
    "threshold = 100"
   ]
  },
  {
   "cell_type": "code",
   "execution_count": 725,
   "metadata": {},
   "outputs": [
    {
     "data": {
      "text/plain": [
       "100"
      ]
     },
     "execution_count": 725,
     "metadata": {},
     "output_type": "execute_result"
    }
   ],
   "source": [
    "threshold"
   ]
  },
  {
   "cell_type": "code",
   "execution_count": 726,
   "metadata": {
    "colab": {
     "base_uri": "https://localhost:8080/",
     "height": 187
    },
    "colab_type": "code",
    "id": "zYnhaii7IQTB",
    "outputId": "db5a7b36-9724-49c4-ed74-d1404a666978"
   },
   "outputs": [],
   "source": [
    "# X_unknown"
   ]
  },
  {
   "cell_type": "code",
   "execution_count": 727,
   "metadata": {
    "colab": {},
    "colab_type": "code",
    "id": "MHxfImvMgnMT"
   },
   "outputs": [],
   "source": [
    "# for i in range(N): # for every unknown nodes\n",
    "# objective(84, 23)"
   ]
  },
  {
   "cell_type": "code",
   "execution_count": 728,
   "metadata": {
    "colab": {},
    "colab_type": "code",
    "id": "JkWbL4TwgnMX"
   },
   "outputs": [],
   "source": [
    "alpha_min = 0.9\n",
    "alpha_max = 1.0\n",
    "pa_min = 0.05\n",
    "pa_max = 0.25\n",
    "X_min = 0\n",
    "X_max = 100"
   ]
  },
  {
   "cell_type": "code",
   "execution_count": 729,
   "metadata": {
    "colab": {
     "base_uri": "https://localhost:8080/",
     "height": 187
    },
    "colab_type": "code",
    "id": "f3Xqu1x6gnMc",
    "outputId": "9bbef04e-9390-4ccb-e49d-36a101398a03"
   },
   "outputs": [
    {
     "name": "stdout",
     "output_type": "stream",
     "text": [
      "[[98 30]\n",
      " [66 64]\n",
      " [43 65]\n",
      " [13 69]\n",
      " [39 18]\n",
      " [18 61]\n",
      " [28  5]\n",
      " [92 96]\n",
      " [46  7]\n",
      " [21 40]\n",
      " [66 87]\n",
      " [45 99]\n",
      " [15 47]\n",
      " [13 79]\n",
      " [75 86]\n",
      " [40 55]\n",
      " [22 18]\n",
      " [93 15]\n",
      " [64 31]\n",
      " [67 24]\n",
      " [83 71]\n",
      " [42 41]\n",
      " [25 54]\n",
      " [18 86]\n",
      " [77 39]\n",
      " [81 54]\n",
      " [90 18]\n",
      " [67 18]\n",
      " [89  3]\n",
      " [52 17]\n",
      " [13 17]\n",
      " [ 2 83]\n",
      " [35 18]\n",
      " [85 88]\n",
      " [42 59]\n",
      " [93 68]\n",
      " [49 20]\n",
      " [82 91]\n",
      " [20 18]\n",
      " [22 44]\n",
      " [60 78]\n",
      " [75 21]\n",
      " [77 47]\n",
      " [43 45]\n",
      " [62 56]\n",
      " [78 66]\n",
      " [62  8]\n",
      " [22 32]\n",
      " [96 84]\n",
      " [18 24]\n",
      " [53 75]\n",
      " [68 65]\n",
      " [ 0 27]\n",
      " [33 54]\n",
      " [22  5]\n",
      " [26 41]\n",
      " [90  8]\n",
      " [94 81]\n",
      " [44 12]\n",
      " [45 58]\n",
      " [ 2 21]\n",
      " [83 12]\n",
      " [69 85]\n",
      " [56 48]\n",
      " [75 97]\n",
      " [27 57]\n",
      " [ 2 81]\n",
      " [94 95]\n",
      " [42  5]\n",
      " [34 95]\n",
      " [38 72]\n",
      " [63 39]\n",
      " [11 60]\n",
      " [11 71]\n",
      " [59 70]\n",
      " [36 22]\n",
      " [11  7]\n",
      " [14 21]\n",
      " [64 37]\n",
      " [11 32]\n",
      " [16 24]\n",
      " [20 10]\n",
      " [ 9  1]\n",
      " [74  4]\n",
      " [87 38]\n",
      " [97 87]\n",
      " [71 18]\n",
      " [40 43]\n",
      " [46 33]\n",
      " [78 77]]\n"
     ]
    }
   ],
   "source": [
    "N_itertotal = 100\n",
    "print(X_unknown)"
   ]
  },
  {
   "cell_type": "code",
   "execution_count": 730,
   "metadata": {
    "colab": {},
    "colab_type": "code",
    "id": "f7tsdU3RgnMg"
   },
   "outputs": [],
   "source": [
    "fitness_values = []\n",
    "for i in range(len(X_unknown)): # for every Unknown node\n",
    "    fitness_values.append(objective(X_unknown[i][0], X_unknown[i][1]))"
   ]
  },
  {
   "cell_type": "code",
   "execution_count": 731,
   "metadata": {
    "colab": {
     "base_uri": "https://localhost:8080/",
     "height": 187
    },
    "colab_type": "code",
    "id": "I1huh9aKgnMl",
    "outputId": "f7514027-0c5e-4832-e9c0-d825913ef902"
   },
   "outputs": [
    {
     "data": {
      "text/plain": [
       "[None,\n",
       " 14.19535000000001,\n",
       " 10.99667500000001,\n",
       " 3.694200000000004,\n",
       " None,\n",
       " 6.462325000000005,\n",
       " None,\n",
       " None,\n",
       " None,\n",
       " None,\n",
       " None,\n",
       " None,\n",
       " 16.14220000000001,\n",
       " 17.520866666666674,\n",
       " None,\n",
       " 17.952040000000004,\n",
       " None,\n",
       " None,\n",
       " 21.557800000000004,\n",
       " 18.795800000000003,\n",
       " 22.746600000000004,\n",
       " None,\n",
       " 8.266224999999997,\n",
       " None,\n",
       " 7.376966666666669,\n",
       " None,\n",
       " None,\n",
       " 17.3734,\n",
       " None,\n",
       " None,\n",
       " None,\n",
       " None,\n",
       " None,\n",
       " None,\n",
       " 16.65028000000001,\n",
       " None,\n",
       " None,\n",
       " None,\n",
       " None,\n",
       " 26.48297500000001,\n",
       " None,\n",
       " None,\n",
       " 4.663366666666669,\n",
       " None,\n",
       " 11.663179999999997,\n",
       " 8.564600000000002,\n",
       " None,\n",
       " None,\n",
       " None,\n",
       " None,\n",
       " None,\n",
       " 7.170300000000007,\n",
       " None,\n",
       " 2.568166666666668,\n",
       " None,\n",
       " None,\n",
       " None,\n",
       " None,\n",
       " None,\n",
       " 11.649850000000002,\n",
       " None,\n",
       " None,\n",
       " None,\n",
       " 19.94078000000001,\n",
       " None,\n",
       " 8.351474999999997,\n",
       " None,\n",
       " None,\n",
       " None,\n",
       " None,\n",
       " 11.833374999999998,\n",
       " 12.678299999999998,\n",
       " 4.945100000000001,\n",
       " 6.280866666666664,\n",
       " 15.32546666666667,\n",
       " None,\n",
       " None,\n",
       " None,\n",
       " 14.658200000000003,\n",
       " None,\n",
       " None,\n",
       " None,\n",
       " None,\n",
       " None,\n",
       " 20.968966666666674,\n",
       " None,\n",
       " None,\n",
       " None,\n",
       " None,\n",
       " None]"
      ]
     },
     "execution_count": 731,
     "metadata": {},
     "output_type": "execute_result"
    }
   ],
   "source": [
    "fitness_values"
   ]
  },
  {
   "cell_type": "code",
   "execution_count": 732,
   "metadata": {
    "colab": {},
    "colab_type": "code",
    "id": "Qy9Nr1G69Sct"
   },
   "outputs": [],
   "source": [
    "#vk\n",
    "f_values_legal = []\n",
    "for i in range (len(fitness_values)):\n",
    "    if fitness_values[i] is None:\n",
    "        pass\n",
    "    else:\n",
    "        f_values_legal.append(fitness_values[i])"
   ]
  },
  {
   "cell_type": "code",
   "execution_count": 733,
   "metadata": {
    "colab": {
     "base_uri": "https://localhost:8080/",
     "height": 102
    },
    "colab_type": "code",
    "id": "2Gtfd9f3-CLd",
    "outputId": "49ecb8b6-05b1-4b89-eaec-db01080b4167"
   },
   "outputs": [
    {
     "data": {
      "text/plain": [
       "[14.19535000000001,\n",
       " 10.99667500000001,\n",
       " 3.694200000000004,\n",
       " 6.462325000000005,\n",
       " 16.14220000000001,\n",
       " 17.520866666666674,\n",
       " 17.952040000000004,\n",
       " 21.557800000000004,\n",
       " 18.795800000000003,\n",
       " 22.746600000000004,\n",
       " 8.266224999999997,\n",
       " 7.376966666666669,\n",
       " 17.3734,\n",
       " 16.65028000000001,\n",
       " 26.48297500000001,\n",
       " 4.663366666666669,\n",
       " 11.663179999999997,\n",
       " 8.564600000000002,\n",
       " 7.170300000000007,\n",
       " 2.568166666666668,\n",
       " 11.649850000000002,\n",
       " 19.94078000000001,\n",
       " 8.351474999999997,\n",
       " 11.833374999999998,\n",
       " 12.678299999999998,\n",
       " 4.945100000000001,\n",
       " 6.280866666666664,\n",
       " 15.32546666666667,\n",
       " 14.658200000000003,\n",
       " 20.968966666666674]"
      ]
     },
     "execution_count": 733,
     "metadata": {},
     "output_type": "execute_result"
    }
   ],
   "source": [
    "#vk\n",
    "f_values_legal"
   ]
  },
  {
   "cell_type": "code",
   "execution_count": 734,
   "metadata": {
    "colab": {
     "base_uri": "https://localhost:8080/",
     "height": 187
    },
    "colab_type": "code",
    "id": "jB0RgrOuIUvQ",
    "outputId": "be20c284-bcaf-4674-8978-819fd3c582b3"
   },
   "outputs": [],
   "source": [
    "# print(X_unknown)"
   ]
  },
  {
   "cell_type": "code",
   "execution_count": 735,
   "metadata": {
    "colab": {},
    "colab_type": "code",
    "id": "Trto0rKngnMr"
   },
   "outputs": [],
   "source": [
    "# import scipy.stats"
   ]
  },
  {
   "cell_type": "code",
   "execution_count": 736,
   "metadata": {
    "colab": {},
    "colab_type": "code",
    "id": "jvo02QjqgnMv"
   },
   "outputs": [],
   "source": [
    "def alpha(n_iter):\n",
    "    return alpha_max - ((n_iter/ N_itertotal) * (alpha_max - alpha_min))\n",
    "\n",
    "# Levy Flight\n",
    "def levy():\n",
    "    # lamda = np.random.uniform(1.1,3)\n",
    "    lamda = 1.5\n",
    "    temp = np.power(((gamma_function(1 + lamda) * np.sin(np.pi * (lamda /2))) / (gamma_function((1 + lamda)/2) * lamda * np.power(2, ((lamda - 1)/2)) )), 1/lamda)\n",
    "    u = np.random.normal(0, temp)\n",
    "    v = np.random.normal(0,1)\n",
    "    r = u / (np.power(abs(v), (1/lamda)))\n",
    "\n",
    "    return r"
   ]
  },
  {
   "cell_type": "code",
   "execution_count": 737,
   "metadata": {
    "colab": {
     "base_uri": "https://localhost:8080/",
     "height": 34
    },
    "colab_type": "code",
    "id": "yszCF80S4qYP",
    "outputId": "4d4a473b-4277-4668-d3e8-821fc0c226af"
   },
   "outputs": [
    {
     "data": {
      "text/plain": [
       "-0.3402178314538983"
      ]
     },
     "execution_count": 737,
     "metadata": {},
     "output_type": "execute_result"
    }
   ],
   "source": [
    "levy()"
   ]
  },
  {
   "cell_type": "code",
   "execution_count": 738,
   "metadata": {
    "colab": {
     "base_uri": "https://localhost:8080/",
     "height": 204
    },
    "colab_type": "code",
    "id": "7okLl3Ut4wEd",
    "outputId": "4c84d373-a0d7-4088-9269-2d198ecf685f"
   },
   "outputs": [],
   "source": [
    "# print(X_unknown)\n",
    "# print(len(X_unknown))"
   ]
  },
  {
   "cell_type": "code",
   "execution_count": 739,
   "metadata": {
    "colab": {},
    "colab_type": "code",
    "id": "DGZCWqdXtA0x"
   },
   "outputs": [],
   "source": [
    "# np.zeros([N, 2])"
   ]
  },
  {
   "cell_type": "code",
   "execution_count": 740,
   "metadata": {
    "colab": {
     "base_uri": "https://localhost:8080/",
     "height": 391
    },
    "colab_type": "code",
    "id": "1upSTslDgnM_",
    "outputId": "01e47c92-2f1c-4422-db86-7a57aba3bc3b",
    "scrolled": true
   },
   "outputs": [
    {
     "name": "stdout",
     "output_type": "stream",
     "text": [
      "[     inf 12.04995      inf      inf      inf      inf      inf      inf\n",
      "      inf      inf      inf      inf      inf      inf      inf      inf\n",
      "      inf      inf      inf 17.5859       inf      inf      inf      inf\n",
      "      inf      inf      inf      inf      inf      inf      inf      inf\n",
      "      inf      inf 12.6783       inf      inf      inf      inf      inf\n",
      "      inf      inf      inf      inf      inf      inf      inf      inf\n",
      "      inf      inf      inf      inf      inf      inf      inf      inf\n",
      "      inf      inf      inf 14.6582       inf      inf      inf      inf\n",
      "      inf      inf      inf      inf      inf      inf      inf      inf\n",
      "      inf      inf      inf      inf      inf      inf      inf      inf\n",
      "      inf      inf      inf      inf      inf      inf      inf      inf\n",
      "      inf      inf]\n",
      "[      inf 11.80874        inf       inf 18.0675         inf       inf\n",
      "       inf       inf       inf       inf       inf       inf       inf\n",
      "       inf       inf       inf       inf       inf 11.14585  15.6604\n",
      "       inf       inf       inf       inf       inf       inf       inf\n",
      "       inf       inf       inf       inf  7.6842         inf       inf\n",
      "       inf       inf       inf       inf 11.477775       inf       inf\n",
      "       inf       inf       inf 14.64595        inf       inf       inf\n",
      "       inf       inf       inf       inf       inf       inf       inf\n",
      "       inf       inf       inf       inf       inf       inf       inf\n",
      "       inf       inf       inf       inf       inf       inf       inf\n",
      "       inf       inf       inf       inf       inf       inf       inf\n",
      "       inf       inf       inf       inf       inf]\n",
      "[     inf      inf      inf      inf      inf      inf      inf      inf\n",
      "      inf      inf      inf      inf      inf      inf      inf      inf\n",
      "      inf      inf  6.70675      inf      inf      inf      inf      inf\n",
      "      inf      inf      inf      inf      inf      inf      inf      inf\n",
      "      inf      inf      inf      inf      inf      inf      inf      inf\n",
      "      inf      inf      inf      inf      inf      inf      inf      inf\n",
      " 18.4138       inf      inf      inf      inf      inf      inf      inf\n",
      "      inf      inf      inf      inf      inf      inf      inf      inf\n",
      "      inf      inf      inf      inf]\n",
      "[      inf       inf       inf       inf       inf       inf       inf\n",
      "       inf       inf       inf       inf       inf       inf       inf\n",
      "       inf       inf       inf       inf       inf       inf       inf\n",
      "       inf       inf       inf       inf       inf       inf       inf\n",
      "       inf       inf       inf       inf       inf       inf       inf\n",
      "       inf       inf       inf       inf       inf       inf       inf\n",
      "       inf       inf       inf       inf 21.805225       inf       inf\n",
      "       inf       inf       inf       inf       inf       inf       inf\n",
      "       inf       inf       inf]\n",
      "[        inf         inf         inf         inf         inf         inf\n",
      "         inf         inf         inf         inf         inf         inf\n",
      "         inf         inf         inf         inf         inf         inf\n",
      "         inf         inf 12.80736667         inf         inf         inf\n",
      "         inf         inf         inf         inf         inf         inf\n",
      "         inf         inf         inf         inf         inf         inf\n",
      "         inf         inf         inf         inf         inf         inf\n",
      "         inf         inf         inf         inf         inf         inf\n",
      "         inf         inf         inf         inf         inf         inf\n",
      "         inf         inf]\n",
      "[inf inf inf inf inf inf inf inf inf inf inf inf inf inf inf inf inf inf\n",
      " inf inf inf inf inf inf inf inf inf inf inf inf inf inf inf inf inf inf\n",
      " inf inf inf inf inf inf inf inf inf inf inf inf inf inf inf inf inf inf]\n"
     ]
    },
    {
     "name": "stderr",
     "output_type": "stream",
     "text": [
      "/anaconda3/lib/python3.7/site-packages/ipykernel_launcher.py:50: RuntimeWarning: invalid value encountered in double_scalars\n"
     ]
    },
    {
     "name": "stdout",
     "output_type": "stream",
     "text": [
      "[inf inf inf inf inf inf inf inf inf inf inf inf inf inf inf inf inf inf\n",
      " inf inf inf inf inf inf inf inf inf inf inf inf inf inf inf inf inf inf\n",
      " inf inf inf inf inf inf inf inf inf inf inf inf inf inf inf inf inf]\n",
      "[inf inf inf inf inf inf inf inf inf inf inf inf inf inf inf inf inf inf\n",
      " inf inf inf inf inf inf inf inf inf inf inf inf inf inf inf inf inf inf\n",
      " inf inf inf inf inf inf inf inf inf inf inf inf inf inf]\n",
      "[inf inf inf inf inf inf inf inf inf inf inf inf inf inf inf inf inf inf\n",
      " inf inf inf inf inf inf inf inf inf inf inf inf inf inf inf inf inf inf\n",
      " inf inf inf inf inf inf inf inf inf inf inf inf]\n",
      "[inf inf inf inf inf inf inf inf inf inf inf inf inf inf inf inf inf inf\n",
      " inf inf inf inf inf inf inf inf inf inf inf inf inf inf inf inf inf inf\n",
      " inf inf inf inf inf inf inf inf inf inf inf inf]\n",
      "[inf inf inf inf inf inf inf inf inf inf inf inf inf inf inf inf inf inf\n",
      " inf inf inf inf inf inf inf inf inf inf inf inf inf inf inf inf inf inf\n",
      " inf inf inf inf inf inf inf inf inf inf inf]\n",
      "[inf inf inf inf inf inf inf inf inf inf inf inf inf inf inf inf inf inf\n",
      " inf inf inf inf inf inf inf inf inf inf inf inf inf inf inf inf inf inf\n",
      " inf inf inf inf inf inf inf inf inf inf]\n",
      "[inf inf inf inf inf inf inf inf inf inf inf inf inf inf inf inf inf inf\n",
      " inf inf inf inf inf inf inf inf inf inf inf inf inf inf inf inf inf inf\n",
      " inf inf inf inf inf inf inf inf]\n",
      "[inf inf inf inf inf inf inf inf inf inf inf inf inf inf inf inf inf inf\n",
      " inf inf inf inf inf inf inf inf inf inf inf inf inf inf inf inf inf inf\n",
      " inf inf inf inf inf inf inf inf]\n",
      "[inf inf inf inf inf inf inf inf inf inf inf inf inf inf inf inf inf inf\n",
      " inf inf inf inf inf inf inf inf inf inf inf inf inf inf inf inf inf inf\n",
      " inf inf inf inf inf inf inf]\n",
      "[inf inf inf inf inf inf inf inf inf inf inf inf inf inf inf inf inf inf\n",
      " inf inf inf inf inf inf inf inf inf inf inf inf inf inf inf inf inf inf\n",
      " inf inf inf inf inf inf]\n",
      "[inf inf inf inf inf inf inf inf inf inf inf inf inf inf inf inf inf inf\n",
      " inf inf inf inf inf inf inf inf inf inf inf inf inf inf inf inf inf inf\n",
      " inf inf inf inf inf]\n",
      "[inf inf inf inf inf inf inf inf inf inf inf inf inf inf inf inf inf inf\n",
      " inf inf inf inf inf inf inf inf inf inf inf inf inf inf inf inf inf inf\n",
      " inf inf inf inf inf]\n",
      "[inf inf inf inf inf inf inf inf inf inf inf inf inf inf inf inf inf inf\n",
      " inf inf inf inf inf inf inf inf inf inf inf inf inf inf inf inf inf inf\n",
      " inf inf inf inf inf]\n",
      "[inf inf inf inf inf inf inf inf inf inf inf inf inf inf inf inf inf inf\n",
      " inf inf inf inf inf inf inf inf inf inf inf inf inf inf inf inf inf inf\n",
      " inf inf inf inf inf]\n",
      "[inf inf inf inf inf inf inf inf inf inf inf inf inf inf inf inf inf inf\n",
      " inf inf inf inf inf inf inf inf inf inf inf inf inf inf inf inf inf inf\n",
      " inf inf inf inf inf]\n",
      "[inf inf inf inf inf inf inf inf inf inf inf inf inf inf inf inf inf inf\n",
      " inf inf inf inf inf inf inf inf inf inf inf inf inf inf inf inf inf inf\n",
      " inf inf inf inf]\n",
      "[inf inf inf inf inf inf inf inf inf inf inf inf inf inf inf inf inf inf\n",
      " inf inf inf inf inf inf inf inf inf inf inf inf inf inf inf inf inf inf\n",
      " inf inf inf]\n",
      "[inf inf inf inf inf inf inf inf inf inf inf inf inf inf inf inf inf inf\n",
      " inf inf inf inf inf inf inf inf inf inf inf inf inf inf inf inf inf inf\n",
      " inf inf inf]\n",
      "[inf inf inf inf inf inf inf inf inf inf inf inf inf inf inf inf inf inf\n",
      " inf inf inf inf inf inf inf inf inf inf inf inf inf inf inf inf inf inf\n",
      " inf inf]\n",
      "[inf inf inf inf inf inf inf inf inf inf inf inf inf inf inf inf inf inf\n",
      " inf inf inf inf inf inf inf inf inf inf inf inf inf inf inf inf inf inf\n",
      " inf inf]\n",
      "[inf inf inf inf inf inf inf inf inf inf inf inf inf inf inf inf inf inf\n",
      " inf inf inf inf inf inf inf inf inf inf inf inf inf inf inf inf inf inf\n",
      " inf inf]\n",
      "[inf inf inf inf inf inf inf inf inf inf inf inf inf inf inf inf inf inf\n",
      " inf inf inf inf inf inf inf inf inf inf inf inf inf inf inf inf inf inf\n",
      " inf inf]\n",
      "[inf inf inf inf inf inf inf inf inf inf inf inf inf inf inf inf inf inf\n",
      " inf inf inf inf inf inf inf inf inf inf inf inf inf inf inf inf inf inf\n",
      " inf]\n",
      "[inf inf inf inf inf inf inf inf inf inf inf inf inf inf inf inf inf inf\n",
      " inf inf inf inf inf inf inf inf inf inf inf inf inf inf inf inf inf inf\n",
      " inf]\n",
      "[inf inf inf inf inf inf inf inf inf inf inf inf inf inf inf inf inf inf\n",
      " inf inf inf inf inf inf inf inf inf inf inf inf inf inf inf inf inf inf\n",
      " inf]\n",
      "[inf inf inf inf inf inf inf inf inf inf inf inf inf inf inf inf inf inf\n",
      " inf inf inf inf inf inf inf inf inf inf inf inf inf inf inf inf inf inf\n",
      " inf]\n",
      "[inf inf inf inf inf inf inf inf inf inf inf inf inf inf inf inf inf inf\n",
      " inf inf inf inf inf inf inf inf inf inf inf inf inf inf inf inf inf inf\n",
      " inf]\n",
      "[inf inf inf inf inf inf inf inf inf inf inf inf inf inf inf inf inf inf\n",
      " inf inf inf inf inf inf inf inf inf inf inf inf inf inf inf inf inf inf\n",
      " inf]\n",
      "[inf inf inf inf inf inf inf inf inf inf inf inf inf inf inf inf inf inf\n",
      " inf inf inf inf inf inf inf inf inf inf inf inf inf inf inf inf inf inf]\n",
      "[inf inf inf inf inf inf inf inf inf inf inf inf inf inf inf inf inf inf\n",
      " inf inf inf inf inf inf inf inf inf inf inf inf inf inf inf inf inf]\n",
      "[inf inf inf inf inf inf inf inf inf inf inf inf inf inf inf inf inf inf\n",
      " inf inf inf inf inf inf inf inf inf inf inf inf inf inf inf inf inf]\n",
      "[inf inf inf inf inf inf inf inf inf inf inf inf inf inf inf inf inf inf\n",
      " inf inf inf inf inf inf inf inf inf inf inf inf inf inf inf inf inf]\n",
      "[inf inf inf inf inf inf inf inf inf inf inf inf inf inf inf inf inf inf\n",
      " inf inf inf inf inf inf inf inf inf inf inf inf inf inf inf inf]\n",
      "[inf inf inf inf inf inf inf inf inf inf inf inf inf inf inf inf inf inf\n",
      " inf inf inf inf inf inf inf inf inf inf inf inf inf inf inf]\n",
      "[inf inf inf inf inf inf inf inf inf inf inf inf inf inf inf inf inf inf\n",
      " inf inf inf inf inf inf inf inf inf inf inf inf inf inf inf]\n",
      "[inf inf inf inf inf inf inf inf inf inf inf inf inf inf inf inf inf inf\n",
      " inf inf inf inf inf inf inf inf inf inf inf inf inf inf inf]\n",
      "[inf inf inf inf inf inf inf inf inf inf inf inf inf inf inf inf inf inf\n",
      " inf inf inf inf inf inf inf inf inf inf inf inf inf inf inf]\n",
      "[    inf 26.1726     inf     inf     inf     inf     inf     inf     inf\n",
      "     inf     inf     inf     inf     inf     inf     inf     inf     inf\n",
      "     inf     inf     inf     inf     inf     inf     inf     inf     inf\n",
      "     inf     inf     inf     inf     inf     inf]\n",
      "[        inf         inf         inf         inf         inf         inf\n",
      "         inf         inf         inf         inf         inf         inf\n",
      "         inf         inf         inf         inf         inf         inf\n",
      " 14.74686667         inf         inf         inf         inf         inf\n",
      "         inf         inf         inf         inf         inf         inf\n",
      "         inf         inf]\n",
      "[2.23043333 2.23043333 2.23043333 2.2902     2.2902     1.7955\n",
      " 2.2902     2.2902     2.2902     1.7955     2.23043333 2.23043333\n",
      " 2.23043333 1.73646667 1.7955     2.2902     1.73646667 2.2902\n",
      " 1.7955     1.7955     2.23043333 2.223      2.23043333 2.23043333\n",
      " 1.7955     2.23043333 1.7955     2.23043333 2.2902     2.2902\n",
      " 2.2902    ]\n"
     ]
    }
   ],
   "source": [
    "X_unknown_org1 = np.zeros([N, 2])\n",
    "X_unknown_org2 = np.zeros([N, 2])\n",
    "\n",
    "N_iter = 1\n",
    "while (N_iter < N_itertotal) : # termination conditions\n",
    "  X_js = []\n",
    "  for i in range(len(X_unknown)): # For every unknown node\n",
    "    X_j = X_unknown[i]\n",
    "    X_j[0] = X_unknown[i][0] + alpha(N_iter) * levy()\n",
    "    X_j[1] = X_unknown[i][1] + alpha(N_iter) * levy()\n",
    "    # print(X_j)\n",
    "    # print(X_j[0])\n",
    "    if X_j[0] > X_max or X_j[1] > X_max:\n",
    "      X_j = [X_max, X_max]\n",
    "    \n",
    "    if X_j[0] < X_min or X_j[1] < X_min:\n",
    "      X_j = [X_min, X_min]\n",
    "\n",
    "    F_j = objective(X_j[0], X_j[1]) or 0\n",
    "    rand_k = np.random.randint(0, len(X_unknown))\n",
    "    F_k = objective(X_unknown[rand_k][0], X_unknown[rand_k][1]) or 0\n",
    "\n",
    "    if F_j > F_k:\n",
    "      X_j[0] = X_unknown[rand_k][0]\n",
    "      X_j[1] = X_unknown[rand_k][1]\n",
    "      F_j = F_k\n",
    "\n",
    "    X_js.append(X_j)\n",
    "    # print(X_j)\n",
    "    #end if\n",
    "  #End For\n",
    "  # print(X_js)\n",
    "\n",
    "  Obj_X_Js = []\n",
    "  for i in range(len(X_js)):\n",
    "    Obj_X_Js.append(objective(X_js[i][0], X_js[i][1]))\n",
    "\n",
    "  # print(Obj_X_Js)\n",
    "\n",
    "  # best solution selection\n",
    "  Obj_X_Js = np.array([np.inf if i is None else i for i in Obj_X_Js])\n",
    "  print(Obj_X_Js)\n",
    "  F_min = Obj_X_Js[np.argmin(Obj_X_Js)]\n",
    "  # print(F_min)\n",
    "\n",
    "  # mutation probability\n",
    "  Pa_j = []\n",
    "\n",
    "  for i in Obj_X_Js:\n",
    "    K = i - F_min\n",
    "    if K < 1:\n",
    "      Pa_j.append(pa_min + (pa_max - pa_min) * K)\n",
    "    else:\n",
    "      Pa_j.append(pa_max / N_iter)\n",
    "\n",
    "  # print(Pa_j)\n",
    "\n",
    "  # new random solutions generation\n",
    "  for i in range(len(Pa_j)):\n",
    "    rand_temp = np.random.uniform(0, 1)\n",
    "    if rand_temp < Pa_j[i]:\n",
    "      my_x = np.random.randint(100)\n",
    "      my_y = np.random.randint(100)\n",
    "      X_js[i] = [my_x, my_y]\n",
    "    #end if\n",
    "  #end for\n",
    "\n",
    "\n",
    "  X_unknown_myback2 = X_unknown.copy() # second backup of originally unknown nodes\n",
    "\n",
    "  # finding best solution after raplacement with new random solutions\n",
    "  X_unknown = X_js\n",
    "\n",
    "#   Mark\n",
    "  Obj_X_unknown = []\n",
    "  for i in range(len(X_unknown)):\n",
    "    Obj_X_unknown.append(objective(X_unknown[i][0], X_unknown[i][1]))\n",
    "\n",
    "  Obj_X_unknown = np.array([np.inf if i is None else i for i in Obj_X_unknown])\n",
    "  # print(Obj_X_unknown)\n",
    "  F_best_arg = np.argmin(Obj_X_unknown)\n",
    "\n",
    "  F_best_args = []\n",
    "\n",
    "  for i in range(len(Obj_X_unknown)):\n",
    "    if Obj_X_unknown[i] < threshold:\n",
    "        F_best_args.append(i)\n",
    "\n",
    "  # Updating Anchor List\n",
    "  for i in F_best_args:\n",
    "    X_anchor_temp = list(X_anchor)\n",
    "    X_anchor_temp.append(X_js[i])\n",
    "    X_anchor = np.array(X_anchor_temp)\n",
    "    \n",
    "  # Updating Unknown List    \n",
    "  X_unknown_temp = []\n",
    "  for i in range(len(X_unknown)):\n",
    "    if i in F_best_args:\n",
    "      pass\n",
    "    else:\n",
    "      X_unknown_temp.append(X_unknown[i])\n",
    "    \n",
    "\n",
    "  X_unknown = np.array(X_unknown_temp)\n",
    "\n",
    "\n",
    "  # 1. When no unknown nodes left are localisable\n",
    "  if len(X_unknown) == 0:\n",
    "        break\n",
    "\n",
    "  N_iter += 1\n",
    "      "
   ]
  },
  {
   "cell_type": "code",
   "execution_count": 747,
   "metadata": {
    "colab": {
     "base_uri": "https://localhost:8080/",
     "height": 765
    },
    "colab_type": "code",
    "id": "9HpyrC86J2d9",
    "outputId": "b2404803-a3a3-4504-df9f-03d009e27367"
   },
   "outputs": [
    {
     "data": {
      "text/plain": [
       "46"
      ]
     },
     "execution_count": 747,
     "metadata": {},
     "output_type": "execute_result"
    }
   ],
   "source": [
    "N_iter"
   ]
  },
  {
   "cell_type": "code",
   "execution_count": 742,
   "metadata": {
    "colab": {},
    "colab_type": "code",
    "id": "OwPqBTH93D0i"
   },
   "outputs": [],
   "source": [
    "X_unknown = np.array(X_unknown)"
   ]
  },
  {
   "cell_type": "code",
   "execution_count": 743,
   "metadata": {
    "colab": {
     "base_uri": "https://localhost:8080/",
     "height": 34
    },
    "colab_type": "code",
    "id": "4O1smTkm3VtD",
    "outputId": "9de7c42b-533f-4911-966f-f40d3f8ac942"
   },
   "outputs": [
    {
     "data": {
      "text/plain": [
       "array([], dtype=float64)"
      ]
     },
     "execution_count": 743,
     "metadata": {},
     "output_type": "execute_result"
    }
   ],
   "source": [
    "X_unknown"
   ]
  },
  {
   "cell_type": "code",
   "execution_count": 744,
   "metadata": {
    "colab": {
     "base_uri": "https://localhost:8080/",
     "height": 340
    },
    "colab_type": "code",
    "id": "zR9fJGGniNQR",
    "outputId": "ffa19851-adf7-4003-cee4-670a46f9a016"
   },
   "outputs": [],
   "source": [
    "# X_anchor"
   ]
  },
  {
   "cell_type": "code",
   "execution_count": 746,
   "metadata": {
    "colab": {
     "base_uri": "https://localhost:8080/",
     "height": 483
    },
    "colab_type": "code",
    "id": "vxxOHLqEo0pk",
    "outputId": "ddb4039b-38dc-4502-84d5-faa19e00b6f8"
   },
   "outputs": [
    {
     "data": {
      "image/png": "[encoded data removed]",
      "text/plain": [
       "<Figure size 576x576 with 1 Axes>"
      ]
     },
     "metadata": {
      "needs_background": "light"
     },
     "output_type": "display_data"
    }
   ],
   "source": [
    "plt.figure(figsize=(8, 8))\n",
    "plt.plot(X_unknown_bak[:80, 0], X_unknown_bak[:80, 1], 'ro', label=\"Unknown Nodes\")\n",
    "plt.plot(X_anchor[M:, 0], X_anchor[M:, 1], 'bo', label=\"Localized Nodes\")\n",
    "plt.plot(X_anchor_og[:, 0], X_anchor_og[:, 1], 'g+', label=\"Anchor Nodes\")\n",
    "# plt.plot(X_unknown[:10, 0], X_unknown[:10, 1], 'yo', label=\"Left Nodes\")\n",
    "plt.legend()\n",
    "plt.show()"
   ]
  },
  {
   "cell_type": "code",
   "execution_count": 625,
   "metadata": {
    "colab": {},
    "colab_type": "code",
    "id": "0MfdE08zz_zi"
   },
   "outputs": [],
   "source": [
    "fitness_values = []\n",
    "for i in range(len(X_unknown)): # for every Unknown node\n",
    "    fitness_values.append(objective(X_unknown[i][0], X_unknown[i][1]))"
   ]
  },
  {
   "cell_type": "code",
   "execution_count": 626,
   "metadata": {
    "colab": {
     "base_uri": "https://localhost:8080/",
     "height": 34
    },
    "colab_type": "code",
    "id": "LuG2nDtq4oYl",
    "outputId": "0ed6c360-9f68-4391-ff21-76df724b7214"
   },
   "outputs": [
    {
     "data": {
      "text/plain": [
       "[None, None, None, None, None, None, None, None, None, None]"
      ]
     },
     "execution_count": 626,
     "metadata": {},
     "output_type": "execute_result"
    }
   ],
   "source": [
    "fitness_values "
   ]
  },
  {
   "cell_type": "code",
   "execution_count": 627,
   "metadata": {
    "colab": {
     "base_uri": "https://localhost:8080/",
     "height": 187
    },
    "colab_type": "code",
    "id": "hCPMM7TnLhdw",
    "outputId": "5b4e882d-4938-45bf-d333-d9273fbacb3f"
   },
   "outputs": [
    {
     "data": {
      "text/plain": [
       "array([[0., 0.],\n",
       "       [0., 0.],\n",
       "       [0., 0.],\n",
       "       [0., 0.],\n",
       "       [0., 0.],\n",
       "       [0., 0.],\n",
       "       [0., 0.],\n",
       "       [0., 0.],\n",
       "       [0., 0.],\n",
       "       [0., 0.]])"
      ]
     },
     "execution_count": 627,
     "metadata": {},
     "output_type": "execute_result"
    }
   ],
   "source": [
    "X_unknown_org1"
   ]
  },
  {
   "cell_type": "code",
   "execution_count": 628,
   "metadata": {
    "colab": {
     "base_uri": "https://localhost:8080/",
     "height": 187
    },
    "colab_type": "code",
    "id": "IZIvNsTyrh6K",
    "outputId": "dbaba9ef-9dbd-482a-c605-5f905a8c14d7"
   },
   "outputs": [
    {
     "data": {
      "text/plain": [
       "array([[0., 0.],\n",
       "       [0., 0.],\n",
       "       [0., 0.],\n",
       "       [0., 0.],\n",
       "       [0., 0.],\n",
       "       [0., 0.],\n",
       "       [0., 0.],\n",
       "       [0., 0.],\n",
       "       [0., 0.],\n",
       "       [0., 0.]])"
      ]
     },
     "execution_count": 628,
     "metadata": {},
     "output_type": "execute_result"
    }
   ],
   "source": [
    "X_unknown_org2"
   ]
  },
  {
   "cell_type": "code",
   "execution_count": 629,
   "metadata": {
    "colab": {},
    "colab_type": "code",
    "id": "a1Eu9Ucirjgh"
   },
   "outputs": [],
   "source": [
    "# Localization Success Ratio\n",
    "def lsr():\n",
    "    return ((len(X_anchor) - M) / len(X_unknown_bak)) * 100"
   ]
  },
  {
   "cell_type": "code",
   "execution_count": 630,
   "metadata": {
    "colab": {
     "base_uri": "https://localhost:8080/",
     "height": 68
    },
    "colab_type": "code",
    "id": "2IePcgjMmGVY",
    "outputId": "98df77f3-a57e-446d-d43d-04ae913957b6"
   },
   "outputs": [
    {
     "name": "stdout",
     "output_type": "stream",
     "text": [
      "10\n",
      "10\n",
      "10\n"
     ]
    }
   ],
   "source": [
    "print(len(X_anchor))\n",
    "print(M)\n",
    "print(len(X_unknown_bak))"
   ]
  },
  {
   "cell_type": "code",
   "execution_count": 631,
   "metadata": {
    "colab": {
     "base_uri": "https://localhost:8080/",
     "height": 34
    },
    "colab_type": "code",
    "id": "YBEsDkMhco5h",
    "outputId": "8dd37362-3392-4e91-e23f-85e29347af8f"
   },
   "outputs": [
    {
     "data": {
      "text/plain": [
       "0.0"
      ]
     },
     "execution_count": 631,
     "metadata": {},
     "output_type": "execute_result"
    }
   ],
   "source": [
    "lsr()"
   ]
  },
  {
   "cell_type": "code",
   "execution_count": 632,
   "metadata": {
    "colab": {},
    "colab_type": "code",
    "id": "j54-osTRc-Wd"
   },
   "outputs": [],
   "source": [
    "# 1. When no unknown nodes left are localisable\n",
    "# 2. Add multiple unknown nodes into anchor nodes\n",
    "# 3. Capture results"
   ]
  }
 ],
 "metadata": {
  "colab": {
   "collapsed_sections": [],
   "name": "vaibhav.ipynb",
   "provenance": []
  },
  "kernelspec": {
   "display_name": "Python 3",
   "language": "python",
   "name": "python3"
  },
  "language_info": {
   "codemirror_mode": {
    "name": "ipython",
    "version": 3
   },
   "file_extension": ".py",
   "mimetype": "text/x-python",
   "name": "python",
   "nbconvert_exporter": "python",
   "pygments_lexer": "ipython3",
   "version": "3.7.1"
  }
 },
 "nbformat": 4,
 "nbformat_minor": 1
}
