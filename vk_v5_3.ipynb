{
 "cells": [
  {
   "cell_type": "code",
   "execution_count": 1040,
   "metadata": {},
   "outputs": [],
   "source": [
    "import numpy as np\n",
    "import matplotlib.pyplot as plt\n",
    "from scipy.special import gamma as gamma_function\n",
    "import math"
   ]
  },
  {
   "cell_type": "code",
   "execution_count": null,
   "metadata": {},
   "outputs": [],
   "source": []
  },
  {
   "cell_type": "code",
   "execution_count": 1064,
   "metadata": {},
   "outputs": [],
   "source": [
    "class Cuckoo():\n",
    "    \n",
    "    X_min = 0\n",
    "    X_max = 100\n",
    "    alpha_min = 0.9\n",
    "    alpha_max = 1.0\n",
    "    pa_min = 0.05\n",
    "    pa_max = 0.25\n",
    "    N_nest = 25\n",
    "    N_itertotal = 100\n",
    "    gamma = 0.1          # noise factor\n",
    "    lamda = 1.5          # constant used in le'vy flight\n",
    "    \n",
    "    total_nodes = 0\n",
    "    anchor_percent = 0\n",
    "    t_range = 0 # transmission range\n",
    "    \n",
    "    X_anchor = []\n",
    "    X_unknown = []\n",
    "    \n",
    "    X_loc = []\n",
    "\n",
    "    F_mins = []\n",
    "    \n",
    "    \n",
    "    def __init__(self, total_nodes = 100, anchor_percent = 0.20, t_range = 25):\n",
    "        self.total_nodes = total_nodes\n",
    "        self.anchor_percent = anchor_percent\n",
    "        self.t_range = t_range\n",
    "        self.M = int(self.anchor_percent * self.total_nodes) # no. of anchor nodes\n",
    "        self.N = self.total_nodes - self.M # no. of unknown nodes        \n",
    "        \n",
    "        for i in range(self.M):\n",
    "            x_anchor = np.random.randint(100)\n",
    "            y_anchor = np.random.randint(100)\n",
    "            self.X_anchor.append([x_anchor, y_anchor])\n",
    "        \n",
    "        for i in range(self.N):\n",
    "            x_unknown = np.random.randint(100)\n",
    "            y_unknown = np.random.randint(100)\n",
    "            self.X_unknown.append([x_unknown, y_unknown])\n",
    "        \n",
    "        self.X_unknown = np.array(self.X_unknown)\n",
    "        self.X_anchor = np.array(self.X_anchor)\n",
    "    \n",
    "        self.X_anchor_og = self.X_anchor.copy()\n",
    "        self.X_unknown_og = self.X_unknown.copy()\n",
    "    \n",
    "    def show_field(self):\n",
    "        plt.figure(figsize=(8, 8))\n",
    "        if len(self.X_unknown) != 0:\n",
    "            plt.plot(self.X_unknown[:, 0], self.X_unknown[:, 1], 'yo', label=\"Left Node\")\n",
    "        plt.plot(self.X_unknown_og[:, 0], self.X_unknown_og[:, 1], 'ro', label='Unknown Node')\n",
    "        plt.plot(self.X_anchor_og[:, 0], self.X_anchor_og[:, 1], 'go', label=\"Anchor Node\")\n",
    "        plt.plot(self.X_anchor[self.M:, 0], self.X_anchor[self.M:, 1], 'bo', label=\"Localized Node\")\n",
    "        plt.legend()\n",
    "        plt.grid()\n",
    "        plt.show()\n",
    "        \n",
    "        \n",
    "    # step size (alpha)\n",
    "    def alpha(self, n_iter):\n",
    "        return self.alpha_max - ((n_iter/ self.N_itertotal) * (self.alpha_max - self.alpha_min)) # returns step size value\n",
    "\n",
    "    # Le'vy flight function\n",
    "    def levy(self):\n",
    "        temp = np.power(((gamma_function(1 + self.lamda) * np.sin(np.pi * (self.lamda /2))) / (gamma_function((1 + self.lamda)/2) * self.lamda * np.power(2, ((self.lamda - 1)/2)) )), 1/self.lamda)\n",
    "        u = np.random.normal(0, temp)\n",
    "        v = np.random.normal(0,1)\n",
    "        r = u / (np.power(abs(v), (1/self.lamda)))\n",
    "\n",
    "        return r  # random walk value\n",
    "\n",
    "    \n",
    "    # location limit tester\n",
    "    def limiter(self, point):\n",
    "        x = point[0]\n",
    "        y = point[1]\n",
    "        if x > self.X_max and y > self.X_max:\n",
    "            x,y = self.X_max, self.X_max\n",
    "            # X_j = X_rand\n",
    "        elif x > self.X_max and self.X_min < y < self.X_max:\n",
    "            x,y = self.X_max, y\n",
    "            # X_j = X_rand\n",
    "        elif x > self.X_max and y < self.X_min:\n",
    "            x,y = self.X_max, self.X_min\n",
    "            # X_j = X_rand\n",
    "        elif self.X_min < x < self.X_max and y < self.X_min:\n",
    "            x,y = x, self.X_min\n",
    "            # X_j = X_rand\n",
    "        elif x < self.X_min and y < self.X_min:\n",
    "            x,y = self.X_min, self.X_min\n",
    "            # X_j = X_rand\n",
    "        elif x < self.X_min and self.X_min < y < self.X_max:\n",
    "            x,y = self.X_min, y\n",
    "            # X_j = X_rand\n",
    "        elif x < self.X_min and y > self.X_max:\n",
    "            x,y = self.X_min, self.X_max\n",
    "            # X_j = X_rand\n",
    "        elif self.X_min < x < self.X_max and y > self.X_max:\n",
    "            x,y = x, self.X_max\n",
    "            # X_j = X_rand\n",
    "\n",
    "        return [x,y]\n",
    "\n",
    "    \n",
    "    def neighbours(self, node, anchors):\n",
    "        x = node[0]\n",
    "        y = node[1]\n",
    "        X_anchor = anchors\n",
    "                \n",
    "        l = []\n",
    "        for j in range(len(X_anchor)): # for every anchor nodes\n",
    "            dist_real = np.power((np.power((x - X_anchor[j][0]), 2) + np.power((y - X_anchor[j][1]), 2)), 0.5)\n",
    "            np.random.seed(2)\n",
    "            dist_err = dist_real + np.random.normal(0, (self.gamma*dist_real))\n",
    "            np.random.seed()\n",
    "            \n",
    "\n",
    "            if dist_err < self.t_range:\n",
    "                l.append(X_anchor[j])\n",
    "                \n",
    "        return l # neighbouring anchors coordinates\n",
    "\n",
    "    def objective(self, node, n_anchors, min_nodes = 3):\n",
    "        \"\"\"objective function (to minimize)\"\"\"\n",
    "        x = node[0]\n",
    "        y = node[1]\n",
    "        \n",
    "        l = self.neighbours(node, n_anchors)\n",
    "        m = len(l)\n",
    "        rerror = []\n",
    "        if len(l) >= min_nodes:\n",
    "            for ancn in l:\n",
    "                dist_real = np.power((np.power((x - ancn[0]), 2) + np.power((y - ancn[1]), 2)), 0.5)\n",
    "                np.random.seed(2)\n",
    "                dist_err = dist_real + np.random.normal(0, (self.gamma*dist_real))\n",
    "                np.random.seed()\n",
    "                rerror.append(np.power(dist_real - dist_err,2))\n",
    "\n",
    "        ans = None\n",
    "        if math.isnan(np.sum(rerror)/m): \n",
    "            ans = np.inf\n",
    "        else:\n",
    "            ans = np.sum(rerror)/m or None\n",
    "            \n",
    "        return ans # mean of square of ranging error\n",
    "\n",
    "    \n",
    "    def mod_cs(self, N_anchor):\n",
    "        X_nest = []\n",
    "        min_nodes = len(N_anchor)\n",
    "        for i in range(self.N_nest):\n",
    "            x_nest = np.random.randint(100)\n",
    "            y_nest = np.random.randint(100)\n",
    "            X_nest.append([x_nest, y_nest])\n",
    "        \n",
    "        Obj_X_nest = []\n",
    "        for i in range(len(X_nest)):\n",
    "            Obj_X_nest.append(self.objective(X_nest[i], N_anchor) or np.inf)\n",
    "        \n",
    "#         print(Obj_X_nest)\n",
    "        \n",
    "        N_iter = 0\n",
    "        fmins = []\n",
    "        while(N_iter < self.N_itertotal):\n",
    "            N_iter += 1\n",
    "            X_js = []\n",
    "            Obj_X_js = []\n",
    "            for i in range(len(X_nest)):\n",
    "                X_j = X_nest[i].copy()\n",
    "                X_j[0] = X_j[0] + self.alpha(N_iter) * self.levy()\n",
    "                X_j[1] = X_j[1] + self.alpha(N_iter) * self.levy()\n",
    "                \n",
    "                X_j = self.limiter(X_j)\n",
    "                \n",
    "#                 F_j = self.objective(X_j, N_anchor, min_nodes) or np.inf\n",
    "                F_j = self.objective(X_j, N_anchor) or np.inf\n",
    "                \n",
    "                rand_k = np.random.randint(0, len(X_nest))\n",
    "                \n",
    "#                 F_k = self.objective(X_nest[rand_k], N_anchor, min_nodes) or np.inf\n",
    "                F_k = Obj_X_nest[rand_k]\n",
    "                \n",
    "                if F_j > F_k:\n",
    "                    X_j[0] = X_nest[rand_k][0]\n",
    "                    X_j[1] = X_nest[rand_k][1]\n",
    "                    F_j = F_k\n",
    "\n",
    "                X_js.append(X_j)\n",
    "                Obj_X_js.append(F_j)\n",
    "                \n",
    "#             Obj_X_js = []\n",
    "#             for i in range(len(X_js)):\n",
    "#                 Obj_X_js.append(self.objective(X_js[i], N_anchor, min_nodes))\n",
    "            \n",
    "            Obj_X_js = np.array([np.inf if i is None else i for i in Obj_X_js])\n",
    "            F_min = Obj_X_js[np.argmin(Obj_X_js)]\n",
    "#             print(F_min)\n",
    "            current_best_sol = X_js[np.argmin(Obj_X_js)]\n",
    "            \n",
    "            Pa_j = []\n",
    "            for i in Obj_X_js:\n",
    "                K = i - F_min\n",
    "                if K < 1:\n",
    "                    Pa_j.append(self.pa_min + (self.pa_max - self.pa_min) * K)\n",
    "                else:\n",
    "                    Pa_j.append(self.pa_max / N_iter)\n",
    "\n",
    "            \n",
    "            for i in range(len(Pa_j)):\n",
    "                rand_temp = np.random.uniform(0, 1)\n",
    "                if rand_temp < Pa_j[i]:\n",
    "                    my_x = np.random.randint(100)\n",
    "                    my_y = np.random.randint(100)\n",
    "                    F_my_xy = self.objective([my_x, my_y], N_anchor) or np.inf\n",
    "#                     if (self.objective(X_js[i], N_anchor, min_nodes) or np.inf) > (self.objective([my_x, my_y], N_anchor, min_nodes) or np.inf):\n",
    "                    if (Obj_X_js[i]) > (F_my_xy):\n",
    "                        X_js[i] = [my_x, my_y]\n",
    "                        Obj_X_js[i] = F_my_xy\n",
    "#                 X_js.append(X_js[i])\n",
    "#                 Obj_X_js.append(Obj_X_js[i])\n",
    "            \n",
    "            \n",
    "#             Obj_X_js = []\n",
    "#             for i in range(len(X_js)):\n",
    "#                 Obj_X_js.append(self.objective(X_js[i], N_anchor, min_nodes))\n",
    "            \n",
    "            Obj_X_js = np.array([np.inf if i is None else i for i in Obj_X_js])\n",
    "            F_min = Obj_X_js[np.argmin(Obj_X_js)]\n",
    "#             print(F_min)\n",
    "            self.F_mins.append(F_min)\n",
    "            fmins.append(F_min)\n",
    "            \n",
    "            if len(fmins) > 3:\n",
    "                d1 = abs(fmins[-1] - fmins[-2])\n",
    "                d2 = abs(fmins[-2] - fmins[-3])\n",
    "                d3 = abs(fmins[-3] - fmins[-4])\n",
    "                if d1 == d2 == d3:\n",
    "                    print('Exiting')\n",
    "                    break\n",
    "            \n",
    "            best_sol = X_js[np.argmin(Obj_X_js)]\n",
    "            X_nest = X_js.copy()\n",
    "            Obj_X_nest = Obj_X_js.copy()\n",
    "        \n",
    "        \n",
    "        return best_sol\n",
    "        \n",
    "#         plt.plot(fmins)\n",
    "#         plt.show()\n",
    "\n",
    "                \n",
    "                \n",
    "    \n",
    "    def update_Unknown(self, indexes):        \n",
    "        \"\"\"Updating Unknown List\"\"\"\n",
    "        \n",
    "        X_unknown_temp = []\n",
    "        for j in range(len(self.X_unknown)):\n",
    "            if j in indexes:\n",
    "                pass\n",
    "            else:\n",
    "                X_unknown_temp.append(self.X_unknown[j])\n",
    "\n",
    "        self.X_unknown = np.array(X_unknown_temp)\n",
    "        \n",
    "    \n",
    "    \n",
    "    \n",
    "    def main(self):\n",
    "        \n",
    "        localised_indexes = []\n",
    "        for i in range(len(self.X_unknown)):\n",
    "            nn = self.neighbours(self.X_unknown[i], self.X_anchor)\n",
    "            print(i, end=\"\\r\")\n",
    "            if len(nn) >= 3:\n",
    "                updated_node_location = self.mod_cs(nn)\n",
    "                \n",
    "                self.X_loc.append([updated_node_location, self.X_unknown[i]])\n",
    "                \n",
    "                # Updated \n",
    "                X_anchor_temp = list(self.X_anchor)\n",
    "                X_anchor_temp.append(updated_node_location)\n",
    "                self.X_anchor = np.array(X_anchor_temp)\n",
    "                \n",
    "                localised_indexes.append(i)\n",
    "        \n",
    "        self.update_Unknown(localised_indexes)\n",
    "                \n",
    "\n",
    "                \n",
    "            \n",
    "            \n",
    "        "
   ]
  },
  {
   "cell_type": "code",
   "execution_count": null,
   "metadata": {},
   "outputs": [],
   "source": []
  },
  {
   "cell_type": "code",
   "execution_count": 1065,
   "metadata": {},
   "outputs": [],
   "source": [
    "coco = Cuckoo(anchor_percent=0.3, t_range=25)"
   ]
  },
  {
   "cell_type": "code",
   "execution_count": null,
   "metadata": {},
   "outputs": [],
   "source": []
  },
  {
   "cell_type": "code",
   "execution_count": 1066,
   "metadata": {},
   "outputs": [
    {
     "data": {
      "image/png": "[encoded data removed]",
      "text/plain": [
       "<Figure size 576x576 with 1 Axes>"
      ]
     },
     "metadata": {
      "needs_background": "light"
     },
     "output_type": "display_data"
    }
   ],
   "source": [
    "coco.show_field()"
   ]
  },
  {
   "cell_type": "code",
   "execution_count": null,
   "metadata": {},
   "outputs": [],
   "source": []
  },
  {
   "cell_type": "code",
   "execution_count": 1049,
   "metadata": {
    "scrolled": true
   },
   "outputs": [
    {
     "name": "stdout",
     "output_type": "stream",
     "text": [
      "0\r"
     ]
    },
    {
     "name": "stderr",
     "output_type": "stream",
     "text": [
      "c:\\users\\kotiyal\\appdata\\local\\programs\\python\\python37-32\\lib\\site-packages\\ipykernel_launcher.py:141: RuntimeWarning: invalid value encountered in double_scalars\n"
     ]
    },
    {
     "name": "stdout",
     "output_type": "stream",
     "text": [
      "69\r"
     ]
    }
   ],
   "source": [
    "coco.main()"
   ]
  },
  {
   "cell_type": "code",
   "execution_count": 1050,
   "metadata": {},
   "outputs": [
    {
     "data": {
      "text/plain": [
       "[[[3.8378505034097405, 47.758608676787034], array([ 0, 63])],\n",
       " [[64, 28], array([67, 43])],\n",
       " [[28.75540492783484, 16.511616682723602], array([24, 27])],\n",
       " [[81.73927123673072, 22.817262305221373], array([95,  8])],\n",
       " [[26.98857049546825, 16.53786711667717], array([ 5, 13])],\n",
       " [[28.246934052006026, 16.598834469923084], array([22,  4])],\n",
       " [[28.329472613129223, 16.645659848040992], array([25, 24])],\n",
       " [[85.90674337224259, 80.14153895367343], array([87, 75])],\n",
       " [[82.21660443800627, 30.248294641590753], array([94, 46])],\n",
       " [[9.847589997296051, 47.995518069978445], array([ 0, 66])],\n",
       " [[92.45782653012294, 75.42042687928769], array([73, 74])],\n",
       " [[57.59785833875136, 28.83666760128987], array([44, 40])],\n",
       " [[89.20995016283922, 75.66007461068668], array([80, 59])],\n",
       " [[27.971393808671714, 15.87606270757547], array([38,  3])],\n",
       " [[91.36159066399482, 73.86934209860003], array([78, 85])],\n",
       " [[81.78831768026882, 23.98240519075179], array([92, 11])],\n",
       " [[89.66488260542822, 32.83402750970684], array([71, 50])],\n",
       " [[28.68202972886316, 17.048919933284562], array([50, 20])],\n",
       " [[41.48302948865635, 78.43023796415191], array([57, 84])],\n",
       " [[91.03774719564724, 75.7108792850411], array([86, 59])],\n",
       " [[81.63514043703653, 22.844513734281982], array([91,  5])],\n",
       " [[91.74627672585855, 75.11730605713906], array([87, 97])],\n",
       " [[80.91101035631799, 23.93957753699536], array([86,  8])],\n",
       " [[3.805239970076139, 47.97719442476776], array([18, 69])],\n",
       " [[91.75985678167018, 75.10433670448182], array([86, 91])],\n",
       " [[60.29382570125275, 29.36357792295032], array([40, 21])],\n",
       " [[42.24183537035295, 82.45371024042899], array([43, 71])],\n",
       " [[50.70037322002384, 76.09791318285602], array([20, 81])],\n",
       " [[90.30028634265524, 75.33894014827185], array([83, 56])],\n",
       " [[28.56058068311685, 16.55729976987026], array([20, 27])],\n",
       " [[74.6242818242206, 20.44027427566123], array([63,  2])],\n",
       " [[91.24893898203594, 75.79892131875671], array([96, 66])],\n",
       " [[81.31287930696621, 25.89871899834304], array([89, 35])],\n",
       " [[91.25764415852314, 74.56220664263222], array([67, 70])],\n",
       " [[82.5659822245078, 25.711810361515248], array([94, 16])],\n",
       " [[86.27457377280392, 26.746132333298615], array([73, 44])],\n",
       " [[28.022712712839283, 16.749440870279926], array([30, 18])],\n",
       " [[91.37071550517679, 74.49271841246616], array([69, 67])],\n",
       " [[46.156732220633046, 79.90792726070232], array([66, 84])],\n",
       " [[28.27477048669987, 15.965292174495541], array([15, 10])],\n",
       " [[91.18078501898898, 75.40676435062004], array([99, 75])],\n",
       " [[79.54402099028623, 22.477341892799522], array([87,  3])],\n",
       " [[28.27230375717883, 16.496763582557755], array([46, 25])],\n",
       " [[44.24051043094471, 79.52131497503025], array([51, 97])],\n",
       " [[39.63375784622806, 78.11633331314519], array([45, 77])],\n",
       " [[27.97446651675829, 16.533671985111173], array([40, 23])],\n",
       " [[44.34352711065587, 80.20977015419025], array([27, 99])],\n",
       " [[42.34772738791097, 79.8481189448874], array([58, 82])],\n",
       " [[50.000805730426755, 29.139610762308216], array([60, 42])],\n",
       " [[10.986333353156827, 76.46492893872426], array([ 6, 86])],\n",
       " [[27.126764324655053, 16.533812120334595], array([52, 21])],\n",
       " [[27.17437110140257, 16.279919138766243], array([49, 11])],\n",
       " [[5.874601809235331, 52.20756432789272], array([ 1, 48])],\n",
       " [[78.65757929036049, 21.7470335890979], array([84,  0])],\n",
       " [[43.268713528146, 79.06819812154679], array([54, 87])],\n",
       " [[11.941962781577674, 78.60503648209591], array([ 8, 92])],\n",
       " [[4.594856250543948, 48.565187697617624], array([ 4, 25])],\n",
       " [[91.97926812706619, 75.42305577743382], array([88, 99])],\n",
       " [[2.47990011670781, 50.70437841083098], array([24, 45])],\n",
       " [[27.76782102991951, 16.10558261586179], array([11,  0])],\n",
       " [[90.00179273211971, 25.276400165123047], array([66, 26])],\n",
       " [[80.61028852555135, 23.155737399069068], array([87,  4])],\n",
       " [[18.075692835901418, 52.816077125382584], array([35, 43])],\n",
       " [[3.2517160840224317, 47.778331251970876], array([14, 60])],\n",
       " [[28.125241709459427, 16.886084272482933], array([14, 38])],\n",
       " [[43, 81], array([25, 99])],\n",
       " [[80.62867988187621, 23.46303033365387], array([86,  5])],\n",
       " [[27.238792998374077, 16.22088925121545], array([37,  7])],\n",
       " [[91.19665408956344, 75.31574717173933], array([96, 65])]]"
      ]
     },
     "execution_count": 1050,
     "metadata": {},
     "output_type": "execute_result"
    }
   ],
   "source": [
    "coco.X_loc"
   ]
  },
  {
   "cell_type": "code",
   "execution_count": 1053,
   "metadata": {},
   "outputs": [],
   "source": [
    "distances = []\n",
    "for loc in coco.X_loc:\n",
    "    modfied = loc[0]\n",
    "    original = loc[1]\n",
    "    \n",
    "    distances.append(np.sqrt((modfied[0] - original[0])**2 + (modfied[1] - original[1])**2))"
   ]
  },
  {
   "cell_type": "code",
   "execution_count": 1054,
   "metadata": {},
   "outputs": [
    {
     "data": {
      "text/plain": [
       "17.86881961132948"
      ]
     },
     "execution_count": 1054,
     "metadata": {},
     "output_type": "execute_result"
    }
   ],
   "source": [
    "np.sum(distances)/len(distances)"
   ]
  },
  {
   "cell_type": "code",
   "execution_count": 1056,
   "metadata": {},
   "outputs": [
    {
     "data": {
      "text/plain": [
       "69"
      ]
     },
     "execution_count": 1056,
     "metadata": {},
     "output_type": "execute_result"
    }
   ],
   "source": [
    "len(distances)"
   ]
  },
  {
   "cell_type": "code",
   "execution_count": 1057,
   "metadata": {},
   "outputs": [
    {
     "name": "stdout",
     "output_type": "stream",
     "text": [
      "[0.3259600025080505, 0.3259600025080505, 0.32580990231797147, 0.3135697172248041, 0.304189968531429, 0.304189968531429, 0.2954025643230857, 0.2691004562644975, 0.23324316949288332, 0.23092716676085018, 0.21558348642694983, 0.21558348642694983, 0.20872174310639785, 0.20872174310639785, 0.20790951728143497, 0.20872174310639785, 0.20736083854043738, 0.20736083854043738, 0.2045574049011632, 0.2026160341144519, 0.2089285459313171, 0.2089285459313171, 0.20040284154058668, 0.20040284154058668, 0.20036816393121182, 0.19704510422080695, 0.19718766138703708, 0.2031291905706944, 0.20135507655076937, 0.2031291905706944, 0.2031291905706944, 0.2031291905706944, 0.2031291905706944, 0.2744256233309858, 0.2744256233309858, 0.2744256233309858, 0.2744256233309858, 0.11316280293197044, 0.11316280293197044, 0.10211847474342402, 0.087989351196808, 0.08578731986711395, 0.08578731986711395, 0.06141340488090352, 0.05794844082746712, 0.07385483246008029, 0.05334893175669054, 0.05334893175669054, 0.05334893175669054, 0.05293849096270562, 0.05293350589212794, 0.05293350589212794, 0.05293350589212794, 0.05293350589212794, 0.14676560235106492, 0.1365486078305487, 0.12924193129312778, 0.12573243331351555, 0.12843092598361844, 0.1099832597832924, 0.0980083722106748, 0.09904740597685341, 0.10133058536470736, 0.09518504906532768, 0.09815251035611197, 0.09631991111920479, 0.09491943102155269, 0.09431030512389749, 0.09431030512389749, 0.09431030512389749, 0.09371933240473096, 0.09369727375811396, 0.09371933240473096, 0.09357973125256788, 0.09359854111800614, 0.09359854111800614, 0.09358045884742616, 0.09362133705763068, 0.09362133705763068, 0.09367658404089807, 0.09366444571423568, 0.09367658404089807, 0.09367658404089807, 0.09362361370238018, 0.09367658404089807, 0.09367658404089807, 0.0935886740903361, 0.0935886740903361, 0.09367658404089807, 0.09362278841715366, 0.09359963515731737, 0.09357497243402121, 0.09359107461775383, 0.09360334124176262, 0.09358198485034944, 0.09358198485034944, 0.09358198485034944, 0.09358198485034944, 0.4198070263923713]\n"
     ]
    }
   ],
   "source": [
    "print(coco.F_mins[0:99])"
   ]
  },
  {
   "cell_type": "code",
   "execution_count": 1058,
   "metadata": {},
   "outputs": [
    {
     "data": {
      "text/plain": [
       "0.13321195244913822"
      ]
     },
     "execution_count": 1058,
     "metadata": {},
     "output_type": "execute_result"
    }
   ],
   "source": [
    "coco.F_mins[899]"
   ]
  },
  {
   "cell_type": "code",
   "execution_count": 1059,
   "metadata": {},
   "outputs": [
    {
     "data": {
      "text/plain": [
       "1666"
      ]
     },
     "execution_count": 1059,
     "metadata": {},
     "output_type": "execute_result"
    }
   ],
   "source": [
    "len(coco.F_mins)"
   ]
  },
  {
   "cell_type": "code",
   "execution_count": null,
   "metadata": {},
   "outputs": [],
   "source": []
  },
  {
   "cell_type": "code",
   "execution_count": 1060,
   "metadata": {},
   "outputs": [
    {
     "data": {
      "image/png": "[encoded data removed]",
      "text/plain": [
       "<Figure size 576x576 with 1 Axes>"
      ]
     },
     "metadata": {
      "needs_background": "light"
     },
     "output_type": "display_data"
    }
   ],
   "source": [
    "coco.show_field()"
   ]
  },
  {
   "cell_type": "code",
   "execution_count": null,
   "metadata": {},
   "outputs": [],
   "source": []
  },
  {
   "cell_type": "code",
   "execution_count": null,
   "metadata": {},
   "outputs": [],
   "source": []
  },
  {
   "cell_type": "code",
   "execution_count": null,
   "metadata": {},
   "outputs": [],
   "source": []
  },
  {
   "cell_type": "code",
   "execution_count": null,
   "metadata": {},
   "outputs": [],
   "source": []
  },
  {
   "cell_type": "code",
   "execution_count": null,
   "metadata": {},
   "outputs": [],
   "source": []
  },
  {
   "cell_type": "code",
   "execution_count": 49,
   "metadata": {},
   "outputs": [],
   "source": [
    "x = [0.5586032962287517,0.6017524859504793,0.7813999837819767,0.46606363790524846,1.0247709434914343,1.252005912323164,0.7495009374755108,0.561087541248166,0.6173482423311187,0.7023584934592145,0.5555991502481207,0.2347329658872088,0.7689648691600328,0.42170816132227973,0.25106692688462434,1.015593603834578,0.409359463643792,0.23540883134280907,0.5913839305269655,0.600203577388256,0.5000388726258884,0.47597790189065975,0.3658604050896738,0.49870120762058423,1.0246665774750374,0.22224505802313932,0.48748272031646006,0.2721460419888341,0.38653619800686356,0.2615371220932912,0.6958970282936564,0.36899753381356065,0.2039305516189484,0.17151067125529823,0.48919234541387874,0.39500189054510565,0.3530413033536565,0.5591781993082433,0.7749257166059389,0.3368538823421103,0.11406348593214892,0.1550569530750901,0.1974787800028229,0.3971344522252228,0.5281760365228262,0.27339861412968086,0.21166372780804943,0.5555694651180548,0.24039256191025846,0.2507917463528349,0.26165577892959974,0.2902138425532703,0.09274393957755404,0.14342988579925614,0.09482794773206088,0.10777099278167086,0.2167607678878698,0.08407868156026704,0.4162032579761468,0.19392965695433126,0.1531513524666788,0.10250629296185206,0.10944110289909664,0.3372574640392889,0.09181169924020706,0.16634369946602098,0.461380034902016,0.10096995500968431,0.5163841659356835,0.4100570120780608,0.3305394441703243,0.12650693376928016,0.4605351112395287,0.4704711004480148,0.39490322471822437,0.18080358326668763,0.40822830771771684,0.23356350554663777,0.22729262817308193,0.24627316532161503,0.16842430253528257,0.4886667259598101,0.17134357949552495,0.3237412112321077,0.21311484660525568,0.40680583941819976,0.2780304862894268,0.31027772973891987,0.07095677497515178,0.2835606346307872,0.19350661176946501,0.2259702437046537,0.23069606587795344,0.10291948260618343,0.3505927932052159,0.520609285578258,0.552334894422106,0.34428465409389686,0.20672654684411254,0.1638661522394548,]"
   ]
  },
  {
   "cell_type": "code",
   "execution_count": 50,
   "metadata": {},
   "outputs": [
    {
     "data": {
      "image/png": "[encoded data removed]",
      "text/plain": [
       "<Figure size 432x288 with 1 Axes>"
      ]
     },
     "metadata": {
      "needs_background": "light"
     },
     "output_type": "display_data"
    }
   ],
   "source": [
    "plt.plot(x)\n",
    "plt.show()"
   ]
  },
  {
   "cell_type": "code",
   "execution_count": null,
   "metadata": {},
   "outputs": [],
   "source": []
  },
  {
   "cell_type": "code",
   "execution_count": null,
   "metadata": {},
   "outputs": [],
   "source": []
  },
  {
   "cell_type": "code",
   "execution_count": null,
   "metadata": {},
   "outputs": [],
   "source": []
  },
  {
   "cell_type": "code",
   "execution_count": 1028,
   "metadata": {},
   "outputs": [
    {
     "data": {
      "text/plain": [
       "[<matplotlib.lines.Line2D at 0x148785d0>]"
      ]
     },
     "execution_count": 1028,
     "metadata": {},
     "output_type": "execute_result"
    },
    {
     "data": {
      "image/png": "[encoded data removed]",
      "text/plain": [
       "<Figure size 432x288 with 1 Axes>"
      ]
     },
     "metadata": {
      "needs_background": "light"
     },
     "output_type": "display_data"
    }
   ],
   "source": [
    "plt.plot(54,88, 'g.')\n",
    "plt.plot(74,62, 'g.')\n",
    "plt.plot(59,72, 'g.')\n",
    "\n",
    "plt.plot(57,76, 'r.')\n",
    "plt.xlim(0,100)\n",
    "plt.ylim(0,100)\n",
    "plt.grid()\n",
    "plt.plot(65,74, 'bo')\n",
    "plt.plot(62,67, 'bo')"
   ]
  },
  {
   "cell_type": "markdown",
   "metadata": {},
   "source": []
  },
  {
   "cell_type": "markdown",
   "metadata": {},
   "source": []
  },
  {
   "cell_type": "code",
   "execution_count": 991,
   "metadata": {},
   "outputs": [
    {
     "name": "stdout",
     "output_type": "stream",
     "text": [
      "0.026384978604542704\n"
     ]
    }
   ],
   "source": [
    "dist_real = 1\n",
    "\n",
    "np.random.seed(1)\n",
    "dist_err = dist_real + np.random.normal(0, (coco.gamma*dist_real))\n",
    "fit = (dist_err - dist_real)**2\n",
    "np.random.seed()\n",
    "\n",
    "print(fit)"
   ]
  },
  {
   "cell_type": "code",
   "execution_count": null,
   "metadata": {},
   "outputs": [],
   "source": []
  },
  {
   "cell_type": "code",
   "execution_count": 1030,
   "metadata": {},
   "outputs": [
    {
     "name": "stdout",
     "output_type": "stream",
     "text": [
      "0.38095371340039813\n"
     ]
    }
   ],
   "source": [
    "v = coco.objective([57,76], [[54,88],[74,62],[59,72]])\n",
    "print(v)"
   ]
  },
  {
   "cell_type": "code",
   "execution_count": 1035,
   "metadata": {},
   "outputs": [
    {
     "name": "stdout",
     "output_type": "stream",
     "text": [
      "0.3458727629366874\n"
     ]
    }
   ],
   "source": [
    "v = coco.objective([65.83285,73.9936], [[54,88],[74,62],[59,72]])\n",
    "print(v)"
   ]
  },
  {
   "cell_type": "code",
   "execution_count": 1034,
   "metadata": {},
   "outputs": [
    {
     "name": "stdout",
     "output_type": "stream",
     "text": [
      "0.4099015639627372\n"
     ]
    }
   ],
   "source": [
    "v = coco.objective([62,67], [[54,88],[74,62],[59,72]])\n",
    "print(v)"
   ]
  },
  {
   "cell_type": "code",
   "execution_count": null,
   "metadata": {},
   "outputs": [],
   "source": []
  },
  {
   "cell_type": "code",
   "execution_count": 1029,
   "metadata": {},
   "outputs": [
    {
     "name": "stdout",
     "output_type": "stream",
     "text": [
      "10.295630140987\n"
     ]
    }
   ],
   "source": [
    "d = np.sqrt((57-62)**2 + (76-67)**2)\n",
    "print(d)"
   ]
  },
  {
   "cell_type": "code",
   "execution_count": null,
   "metadata": {},
   "outputs": [],
   "source": []
  }
 ],
 "metadata": {
  "celltoolbar": "Raw Cell Format",
  "kernelspec": {
   "display_name": "Python 3",
   "language": "python",
   "name": "python3"
  },
  "language_info": {
   "codemirror_mode": {
    "name": "ipython",
    "version": 3
   },
   "file_extension": ".py",
   "mimetype": "text/x-python",
   "name": "python",
   "nbconvert_exporter": "python",
   "pygments_lexer": "ipython3",
   "version": "3.7.2"
  }
 },
 "nbformat": 4,
 "nbformat_minor": 2
}
