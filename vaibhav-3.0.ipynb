{
 "cells": [
  {
   "cell_type": "code",
   "execution_count": 845,
   "metadata": {
    "colab": {},
    "colab_type": "code",
    "id": "uessMxu1gnLj"
   },
   "outputs": [],
   "source": [
    "import numpy as np\n",
    "import matplotlib.pyplot as plt\n",
    "import pandas as pd\n",
    "from scipy.special import gamma as gamma_function"
   ]
  },
  {
   "cell_type": "code",
   "execution_count": 846,
   "metadata": {
    "colab": {},
    "colab_type": "code",
    "id": "sCPrLvUFgnLu"
   },
   "outputs": [],
   "source": [
    "total_nodes = 100\n",
    "anchor_percent = 0.10\n",
    "N = int((1 - anchor_percent) * total_nodes) # unknown nodes\n",
    "M = total_nodes - N # anchor nodes"
   ]
  },
  {
   "cell_type": "code",
   "execution_count": 847,
   "metadata": {
    "colab": {
     "base_uri": "https://localhost:8080/",
     "height": 34
    },
    "colab_type": "code",
    "id": "wxMMDcRjoH-y",
    "outputId": "7b42d644-848b-4fe1-9d66-8be165afbfe3"
   },
   "outputs": [
    {
     "name": "stdout",
     "output_type": "stream",
     "text": [
      "10\n"
     ]
    }
   ],
   "source": [
    "print(M)"
   ]
  },
  {
   "cell_type": "code",
   "execution_count": 848,
   "metadata": {
    "colab": {},
    "colab_type": "code",
    "id": "VdHibg-FgnLz"
   },
   "outputs": [],
   "source": [
    "#anchor nodes and unknown nodes random placement\n",
    "X_unknown = []\n",
    "X_anchor = []\n",
    "\n",
    "for i in range(N):\n",
    "    x_unknown = np.random.randint(100)\n",
    "    y_unknown = np.random.randint(100)\n",
    "  \n",
    "    X_unknown.append([x_unknown, y_unknown])\n",
    "\n",
    "for i in range(M):\n",
    "    x_anchor = np.random.randint(100)\n",
    "    y_anchor = np.random.randint(100)\n",
    "\n",
    "    X_anchor.append([x_anchor, y_anchor])"
   ]
  },
  {
   "cell_type": "code",
   "execution_count": 849,
   "metadata": {
    "colab": {
     "base_uri": "https://localhost:8080/",
     "height": 187
    },
    "colab_type": "code",
    "id": "lNUcoyZcgnL4",
    "outputId": "b3cdd7dc-d378-4da9-ddfb-5920f7e20efe"
   },
   "outputs": [],
   "source": [
    "# X_unknown"
   ]
  },
  {
   "cell_type": "code",
   "execution_count": 850,
   "metadata": {
    "colab": {
     "base_uri": "https://localhost:8080/",
     "height": 34
    },
    "colab_type": "code",
    "id": "fYry7Fmec7od",
    "outputId": "1a32397c-8297-4ec8-d32e-ea953e3b054b"
   },
   "outputs": [],
   "source": [
    "# len(X_unknown)"
   ]
  },
  {
   "cell_type": "code",
   "execution_count": 851,
   "metadata": {
    "colab": {
     "base_uri": "https://localhost:8080/",
     "height": 34
    },
    "colab_type": "code",
    "id": "_iBfgzSKIszT",
    "outputId": "12e40ad2-6c90-4bf8-fb8f-93075ac1affc"
   },
   "outputs": [],
   "source": [
    "# X_anchor[0]"
   ]
  },
  {
   "cell_type": "code",
   "execution_count": 852,
   "metadata": {
    "colab": {},
    "colab_type": "code",
    "id": "lY4nYJPZgnL-"
   },
   "outputs": [],
   "source": [
    "X_unknown = np.array(X_unknown)\n",
    "X_anchor = np.array(X_anchor)"
   ]
  },
  {
   "cell_type": "code",
   "execution_count": 853,
   "metadata": {
    "colab": {
     "base_uri": "https://localhost:8080/",
     "height": 51
    },
    "colab_type": "code",
    "id": "s23KYDujKIOC",
    "outputId": "42884811-9f24-43a2-f978-46410ee5d68e"
   },
   "outputs": [],
   "source": [
    "X_anchor_og = X_anchor.copy()\n",
    "X_unknown_bak = X_unknown.copy()\n",
    "# print(X_anchor[0])"
   ]
  },
  {
   "cell_type": "code",
   "execution_count": 854,
   "metadata": {
    "colab": {
     "base_uri": "https://localhost:8080/",
     "height": 483
    },
    "colab_type": "code",
    "id": "WB5isTpZgnMD",
    "outputId": "9229d487-8f64-43ef-83be-934d86a16c92"
   },
   "outputs": [
    {
     "data": {
      "image/png": "[encoded data removed]",
      "text/plain": [
       "<Figure size 576x576 with 1 Axes>"
      ]
     },
     "metadata": {
      "needs_background": "light"
     },
     "output_type": "display_data"
    }
   ],
   "source": [
    "plt.figure(figsize=(8, 8))\n",
    "plt.plot(X_unknown[:, 0], X_unknown[:, 1], 'ro', label=\"Unknown Node\")\n",
    "plt.plot(X_anchor[:, 0], X_anchor[:, 1], 'go', label=\"Anchor Node\")\n",
    "plt.legend()\n",
    "plt.show()"
   ]
  },
  {
   "cell_type": "code",
   "execution_count": 855,
   "metadata": {
    "colab": {},
    "colab_type": "code",
    "id": "OuESlBcggnMJ"
   },
   "outputs": [],
   "source": [
    "t_range = 25 # transmission range\n",
    "# t_range_best = \n",
    "gamma = 0.1 # noise factor"
   ]
  },
  {
   "cell_type": "code",
   "execution_count": 856,
   "metadata": {
    "colab": {},
    "colab_type": "code",
    "id": "D2tzFZbVgnMP"
   },
   "outputs": [],
   "source": [
    "#objective function need to minimize\n",
    "def objective(x, y):\n",
    "    l = []\n",
    "    for j in range(len(X_anchor)): # for every anchor nodes\n",
    "        dij = np.power((np.power((x - X_anchor[j][0]), 2) + np.power((y - X_anchor[j][1]), 2)), 0.5)\n",
    "        dij_dash = dij + np.random.normal(0, (gamma*dij))\n",
    "        \n",
    "        if dij < t_range:\n",
    "            l.append(X_anchor[j])\n",
    "    if len(l) >= 3:\n",
    "#         print(l, 'anchor nodes')\n",
    "#         print(X_unknown[i], 'unknown nodes')\n",
    "        m = len(l)\n",
    "        rerror = []\n",
    "        for ancn in l:\n",
    "            dij = np.power((np.power((x - ancn[0]), 2) + np.power((y - ancn[1]), 2)), 0.5)\n",
    "            dij_dash = dij + (gamma * gamma * dij *dij)\n",
    "            rerror.append(np.power((dij - dij_dash), 2))\n",
    "\n",
    "        return np.sum(rerror) / m\n",
    "\n",
    "    "
   ]
  },
  {
   "cell_type": "code",
   "execution_count": 857,
   "metadata": {},
   "outputs": [],
   "source": [
    "v_x = []\n",
    "for i in range(100):\n",
    "    for j in range(100):\n",
    "        if objective(i, j):\n",
    "            v_x.append(objective(i, j))"
   ]
  },
  {
   "cell_type": "code",
   "execution_count": 858,
   "metadata": {},
   "outputs": [],
   "source": [
    "# v_x"
   ]
  },
  {
   "cell_type": "code",
   "execution_count": 859,
   "metadata": {},
   "outputs": [],
   "source": [
    "threshold = np.max(v_x) + 1"
   ]
  },
  {
   "cell_type": "code",
   "execution_count": 860,
   "metadata": {},
   "outputs": [
    {
     "data": {
      "text/plain": [
       "37.45130000000001"
      ]
     },
     "execution_count": 860,
     "metadata": {},
     "output_type": "execute_result"
    }
   ],
   "source": [
    "threshold"
   ]
  },
  {
   "cell_type": "code",
   "execution_count": 861,
   "metadata": {
    "colab": {
     "base_uri": "https://localhost:8080/",
     "height": 187
    },
    "colab_type": "code",
    "id": "zYnhaii7IQTB",
    "outputId": "db5a7b36-9724-49c4-ed74-d1404a666978"
   },
   "outputs": [],
   "source": [
    "# X_unknown"
   ]
  },
  {
   "cell_type": "code",
   "execution_count": 862,
   "metadata": {
    "colab": {},
    "colab_type": "code",
    "id": "MHxfImvMgnMT"
   },
   "outputs": [],
   "source": [
    "# for i in range(N): # for every unknown nodes\n",
    "# objective(84, 23)"
   ]
  },
  {
   "cell_type": "code",
   "execution_count": 863,
   "metadata": {
    "colab": {},
    "colab_type": "code",
    "id": "JkWbL4TwgnMX"
   },
   "outputs": [],
   "source": [
    "alpha_min = 0.9\n",
    "alpha_max = 1.0\n",
    "pa_min = 0.05\n",
    "pa_max = 0.25\n",
    "X_min = 0\n",
    "X_max = 100"
   ]
  },
  {
   "cell_type": "code",
   "execution_count": 864,
   "metadata": {
    "colab": {
     "base_uri": "https://localhost:8080/",
     "height": 187
    },
    "colab_type": "code",
    "id": "f3Xqu1x6gnMc",
    "outputId": "9bbef04e-9390-4ccb-e49d-36a101398a03"
   },
   "outputs": [],
   "source": [
    "N_itertotal = 100\n",
    "# print(X_unknown)"
   ]
  },
  {
   "cell_type": "code",
   "execution_count": 865,
   "metadata": {
    "colab": {},
    "colab_type": "code",
    "id": "f7tsdU3RgnMg"
   },
   "outputs": [],
   "source": [
    "fitness_values = []\n",
    "for i in range(len(X_unknown)): # for every Unknown node\n",
    "    fitness_values.append(objective(X_unknown[i][0], X_unknown[i][1]))"
   ]
  },
  {
   "cell_type": "code",
   "execution_count": 866,
   "metadata": {
    "colab": {
     "base_uri": "https://localhost:8080/",
     "height": 187
    },
    "colab_type": "code",
    "id": "I1huh9aKgnMl",
    "outputId": "f7514027-0c5e-4832-e9c0-d825913ef902"
   },
   "outputs": [],
   "source": [
    "# fitness_values"
   ]
  },
  {
   "cell_type": "code",
   "execution_count": 867,
   "metadata": {
    "colab": {},
    "colab_type": "code",
    "id": "Qy9Nr1G69Sct"
   },
   "outputs": [],
   "source": [
    "#vk\n",
    "f_values_legal = []\n",
    "for i in range (len(fitness_values)):\n",
    "    if fitness_values[i] is None:\n",
    "        pass\n",
    "    else:\n",
    "        f_values_legal.append(fitness_values[i])"
   ]
  },
  {
   "cell_type": "code",
   "execution_count": 868,
   "metadata": {
    "colab": {
     "base_uri": "https://localhost:8080/",
     "height": 102
    },
    "colab_type": "code",
    "id": "2Gtfd9f3-CLd",
    "outputId": "49ecb8b6-05b1-4b89-eaec-db01080b4167"
   },
   "outputs": [],
   "source": [
    "#vk\n",
    "# f_values_legal"
   ]
  },
  {
   "cell_type": "code",
   "execution_count": 869,
   "metadata": {
    "colab": {
     "base_uri": "https://localhost:8080/",
     "height": 187
    },
    "colab_type": "code",
    "id": "jB0RgrOuIUvQ",
    "outputId": "be20c284-bcaf-4674-8978-819fd3c582b3"
   },
   "outputs": [],
   "source": [
    "# print(X_unknown)"
   ]
  },
  {
   "cell_type": "code",
   "execution_count": 870,
   "metadata": {
    "colab": {},
    "colab_type": "code",
    "id": "Trto0rKngnMr"
   },
   "outputs": [],
   "source": [
    "# import scipy.stats"
   ]
  },
  {
   "cell_type": "code",
   "execution_count": 871,
   "metadata": {
    "colab": {},
    "colab_type": "code",
    "id": "jvo02QjqgnMv"
   },
   "outputs": [],
   "source": [
    "def alpha(n_iter):\n",
    "    return alpha_max - ((n_iter/ N_itertotal) * (alpha_max - alpha_min))\n",
    "\n",
    "# Levy Flight\n",
    "def levy():\n",
    "    # lamda = np.random.uniform(1.1,3)\n",
    "    lamda = 1.5\n",
    "    temp = np.power(((gamma_function(1 + lamda) * np.sin(np.pi * (lamda /2))) / (gamma_function((1 + lamda)/2) * lamda * np.power(2, ((lamda - 1)/2)) )), 1/lamda)\n",
    "    u = np.random.normal(0, temp)\n",
    "    v = np.random.normal(0,1)\n",
    "    r = u / (np.power(abs(v), (1/lamda)))\n",
    "\n",
    "    return r"
   ]
  },
  {
   "cell_type": "code",
   "execution_count": 872,
   "metadata": {
    "colab": {
     "base_uri": "https://localhost:8080/",
     "height": 34
    },
    "colab_type": "code",
    "id": "yszCF80S4qYP",
    "outputId": "4d4a473b-4277-4668-d3e8-821fc0c226af"
   },
   "outputs": [
    {
     "data": {
      "text/plain": [
       "6.405506862191242"
      ]
     },
     "execution_count": 872,
     "metadata": {},
     "output_type": "execute_result"
    }
   ],
   "source": [
    "levy()"
   ]
  },
  {
   "cell_type": "code",
   "execution_count": 873,
   "metadata": {
    "colab": {
     "base_uri": "https://localhost:8080/",
     "height": 204
    },
    "colab_type": "code",
    "id": "7okLl3Ut4wEd",
    "outputId": "4c84d373-a0d7-4088-9269-2d198ecf685f"
   },
   "outputs": [],
   "source": [
    "# print(X_unknown)\n",
    "# print(len(X_unknown))"
   ]
  },
  {
   "cell_type": "code",
   "execution_count": 874,
   "metadata": {
    "colab": {},
    "colab_type": "code",
    "id": "DGZCWqdXtA0x"
   },
   "outputs": [],
   "source": [
    "# np.zeros([N, 2])"
   ]
  },
  {
   "cell_type": "code",
   "execution_count": 875,
   "metadata": {
    "colab": {
     "base_uri": "https://localhost:8080/",
     "height": 391
    },
    "colab_type": "code",
    "id": "1upSTslDgnM_",
    "outputId": "01e47c92-2f1c-4422-db86-7a57aba3bc3b",
    "scrolled": true
   },
   "outputs": [
    {
     "name": "stdout",
     "output_type": "stream",
     "text": [
      "[        inf         inf         inf         inf         inf         inf\n",
      "         inf         inf         inf         inf         inf         inf\n",
      "         inf         inf         inf         inf         inf         inf\n",
      "         inf  4.10056667         inf         inf         inf         inf\n",
      "         inf         inf         inf         inf         inf         inf\n",
      "         inf         inf  8.053              inf         inf         inf\n",
      "         inf         inf         inf         inf         inf         inf\n",
      "         inf         inf         inf         inf         inf         inf\n",
      "         inf         inf         inf         inf         inf         inf\n",
      "         inf         inf         inf         inf 16.7742             inf\n",
      "         inf         inf         inf         inf         inf         inf\n",
      "         inf         inf         inf         inf         inf         inf\n",
      "         inf         inf         inf         inf         inf         inf\n",
      "         inf         inf         inf         inf         inf         inf\n",
      "         inf         inf         inf         inf         inf         inf]\n",
      "[        inf 11.90345            inf         inf         inf         inf\n",
      "         inf         inf         inf         inf         inf         inf\n",
      "         inf         inf         inf         inf         inf         inf\n",
      "         inf         inf         inf         inf         inf         inf\n",
      "         inf         inf         inf         inf         inf         inf\n",
      "         inf         inf         inf         inf         inf         inf\n",
      "  9.58968333         inf         inf         inf         inf         inf\n",
      "         inf         inf         inf         inf         inf         inf\n",
      "         inf 11.94365714         inf         inf         inf         inf\n",
      "         inf         inf         inf         inf         inf         inf\n",
      " 11.94365714         inf         inf         inf         inf         inf\n",
      "         inf         inf         inf         inf         inf         inf\n",
      "         inf 11.90345            inf         inf         inf         inf]\n",
      "[        inf         inf 18.67453333         inf         inf         inf\n",
      "         inf         inf         inf         inf         inf 18.4147\n",
      "         inf         inf         inf         inf         inf         inf\n",
      "         inf         inf 12.6114             inf         inf         inf\n",
      "         inf         inf         inf         inf         inf         inf\n",
      " 21.62686667         inf         inf         inf         inf         inf\n",
      " 18.149725           inf         inf         inf 12.78965            inf\n",
      "         inf 17.669225           inf         inf         inf 19.684\n",
      "         inf         inf         inf         inf         inf         inf\n",
      "         inf         inf 16.122225           inf         inf         inf\n",
      "         inf         inf         inf         inf         inf         inf\n",
      "         inf         inf         inf         inf         inf]\n",
      "[      inf       inf       inf       inf       inf  2.991675       inf\n",
      "  3.514925       inf       inf       inf       inf       inf 16.7613\n",
      "       inf       inf       inf       inf       inf       inf       inf\n",
      "       inf       inf       inf       inf       inf       inf       inf\n",
      "       inf  8.968025 16.7613         inf       inf       inf       inf\n",
      "  4.95664        inf       inf       inf       inf       inf       inf\n",
      "       inf       inf       inf       inf       inf       inf       inf\n",
      "  3.514925       inf       inf       inf       inf       inf       inf\n",
      "       inf       inf]\n",
      "[        inf         inf         inf 13.00635            inf         inf\n",
      "         inf         inf         inf         inf  5.83776667         inf\n",
      "         inf         inf  6.0687      6.0687             inf         inf\n",
      "         inf         inf         inf  6.0687             inf         inf\n",
      "         inf         inf         inf         inf  7.0692             inf\n",
      "  6.0687             inf         inf         inf         inf         inf\n",
      "         inf         inf         inf 13.26283333  5.83776667         inf\n",
      "         inf  7.0692             inf  6.0687             inf         inf\n",
      "         inf]\n",
      "[   inf    inf    inf    inf    inf    inf    inf    inf    inf    inf\n",
      "    inf    inf    inf    inf 8.3341    inf    inf    inf    inf    inf\n",
      "    inf    inf    inf    inf    inf    inf    inf    inf    inf    inf\n",
      "    inf    inf    inf    inf    inf    inf    inf    inf]\n",
      "[inf inf inf inf inf inf inf inf inf inf inf inf inf inf inf inf inf inf\n",
      " inf inf inf inf inf inf inf inf inf inf inf inf inf inf inf inf]\n"
     ]
    },
    {
     "name": "stderr",
     "output_type": "stream",
     "text": [
      "/anaconda3/lib/python3.7/site-packages/ipykernel_launcher.py:52: RuntimeWarning: invalid value encountered in double_scalars\n"
     ]
    },
    {
     "name": "stdout",
     "output_type": "stream",
     "text": [
      "[inf inf inf inf inf inf inf inf inf inf inf inf inf inf inf inf inf inf\n",
      " inf inf inf inf inf inf inf inf inf inf inf inf inf]\n",
      "[inf inf inf inf inf inf inf inf inf inf inf inf inf inf inf inf inf inf\n",
      " inf inf inf inf inf inf inf inf inf inf inf inf inf]\n",
      "[inf inf inf inf inf inf inf inf inf inf inf inf inf inf inf inf inf inf\n",
      " inf inf inf inf inf inf inf inf inf inf inf inf inf]\n",
      "[inf inf inf inf inf inf inf inf inf inf inf inf inf inf inf inf inf inf\n",
      " inf inf inf inf inf inf inf inf inf inf inf inf]\n",
      "[        inf         inf         inf         inf         inf 15.59546667\n",
      "         inf         inf         inf         inf         inf         inf\n",
      "         inf         inf         inf         inf         inf         inf\n",
      "         inf         inf         inf         inf         inf         inf\n",
      "         inf         inf         inf         inf         inf]\n",
      "[    inf     inf     inf     inf     inf     inf     inf     inf     inf\n",
      "     inf     inf     inf     inf     inf     inf 6.79433     inf     inf\n",
      "     inf     inf     inf     inf     inf     inf     inf     inf     inf\n",
      "     inf]\n",
      "[inf inf inf inf inf inf inf inf inf inf inf inf inf inf inf inf inf inf\n",
      " inf inf inf inf inf inf inf]\n",
      "[inf inf inf inf inf inf inf inf inf inf inf inf inf inf inf inf inf inf\n",
      " inf inf inf inf inf inf inf]\n",
      "[inf inf inf inf inf inf inf inf inf inf inf inf inf inf inf inf inf inf\n",
      " inf inf inf inf inf inf inf]\n",
      "[        inf         inf  6.17666364         inf 13.3224             inf\n",
      "         inf         inf         inf         inf         inf         inf\n",
      "         inf         inf         inf         inf         inf         inf\n",
      "         inf         inf         inf         inf         inf         inf]\n",
      "[0.9768     1.7225     0.9768            inf        inf 0.9768\n",
      " 1.77156667 4.2952            inf 1.7225            inf 1.7225\n",
      "        inf        inf        inf        inf        inf        inf\n",
      "        inf        inf 1.77156667]\n",
      "[inf inf inf inf inf inf inf inf inf inf inf]\n",
      "[inf inf inf inf inf inf inf inf inf inf inf]\n",
      "[inf inf inf inf inf inf inf inf inf inf inf]\n",
      "[      inf       inf       inf       inf       inf       inf 14.727325\n",
      "       inf       inf       inf       inf]\n",
      "[9.3727    inf    inf 5.1887    inf    inf    inf    inf    inf]\n",
      "[inf inf inf inf inf inf inf]\n",
      "[inf inf inf inf inf inf inf]\n",
      "[inf inf inf inf inf inf inf]\n",
      "[inf inf inf inf inf inf inf]\n",
      "[inf inf inf inf inf inf inf]\n",
      "[inf inf inf inf inf inf inf]\n",
      "[inf inf inf inf inf inf inf]\n",
      "[inf inf inf inf inf inf]\n",
      "[inf inf inf inf inf inf]\n",
      "[inf inf inf inf inf inf]\n",
      "[inf inf inf inf inf inf]\n",
      "[inf inf inf inf inf inf]\n",
      "[inf inf inf inf inf inf]\n",
      "[inf inf inf inf inf inf]\n",
      "[inf inf inf inf inf inf]\n",
      "[inf inf inf inf inf inf]\n",
      "[inf inf inf inf inf inf]\n",
      "[inf inf inf inf inf inf]\n",
      "[inf inf inf inf inf inf]\n",
      "[inf inf inf inf inf inf]\n",
      "[inf inf inf inf inf inf]\n",
      "[inf inf inf inf inf inf]\n",
      "[inf inf inf inf inf inf]\n",
      "[inf inf inf inf inf inf]\n",
      "[inf inf inf inf inf inf]\n",
      "[inf inf inf inf inf inf]\n",
      "[inf inf inf inf inf inf]\n",
      "[inf inf inf inf inf inf]\n",
      "[inf inf inf inf inf inf]\n",
      "[inf inf inf inf inf inf]\n",
      "[inf inf inf inf inf inf]\n",
      "[inf inf inf inf inf inf]\n",
      "[inf inf inf inf inf inf]\n",
      "[inf inf inf inf inf inf]\n",
      "[inf inf inf inf inf inf]\n",
      "[inf inf inf inf inf inf]\n",
      "[inf inf inf inf inf inf]\n",
      "[inf inf inf inf inf]\n",
      "[inf inf inf inf inf]\n",
      "[inf inf inf inf inf]\n",
      "[inf inf inf inf inf]\n",
      "[inf inf inf inf inf]\n",
      "[inf inf inf inf inf]\n",
      "[inf inf inf inf inf]\n",
      "[inf inf inf inf inf]\n",
      "[inf inf inf inf inf]\n",
      "[inf inf inf inf inf]\n",
      "[inf inf inf inf inf]\n",
      "[inf inf inf inf inf]\n",
      "[inf inf inf inf inf]\n",
      "[inf inf inf inf inf]\n",
      "[inf inf inf inf inf]\n",
      "[inf inf inf inf inf]\n",
      "[inf inf inf inf inf]\n",
      "[inf inf inf inf inf]\n",
      "[inf inf inf inf inf]\n",
      "[inf inf inf inf inf]\n",
      "[inf inf inf inf inf]\n",
      "[inf inf inf inf inf]\n",
      "[inf inf inf inf inf]\n",
      "[inf inf inf inf inf]\n",
      "[inf inf inf inf inf]\n",
      "[inf inf inf inf inf]\n",
      "[inf inf inf inf inf]\n",
      "[inf inf inf inf inf]\n",
      "[inf inf inf inf inf]\n",
      "[inf inf inf inf inf]\n",
      "[inf inf inf inf]\n",
      "[inf inf inf inf]\n",
      "[inf inf inf inf]\n",
      "[inf inf inf inf]\n",
      "[inf inf inf inf]\n",
      "[inf inf inf inf]\n",
      "[inf inf inf inf]\n",
      "[inf inf inf inf]\n",
      "[inf inf inf inf]\n"
     ]
    }
   ],
   "source": [
    "X_unknown_org1 = np.zeros([N, 2])\n",
    "X_unknown_org2 = np.zeros([N, 2])\n",
    "\n",
    "ales = []\n",
    "\n",
    "N_iter = 1\n",
    "while (N_iter < N_itertotal) : # termination conditions\n",
    "  X_js = []\n",
    "  for i in range(len(X_unknown)): # For every unknown node\n",
    "    X_j = X_unknown[i]\n",
    "    X_j[0] = X_unknown[i][0] + alpha(N_iter) * levy()\n",
    "    X_j[1] = X_unknown[i][1] + alpha(N_iter) * levy()\n",
    "    # print(X_j)\n",
    "    # print(X_j[0])\n",
    "    if X_j[0] > X_max or X_j[1] > X_max:\n",
    "      X_j = [X_max, X_max]\n",
    "    \n",
    "    if X_j[0] < X_min or X_j[1] < X_min:\n",
    "      X_j = [X_min, X_min]\n",
    "\n",
    "    F_j = objective(X_j[0], X_j[1]) or 0\n",
    "    rand_k = np.random.randint(0, len(X_unknown))\n",
    "    F_k = objective(X_unknown[rand_k][0], X_unknown[rand_k][1]) or 0\n",
    "\n",
    "    if F_j > F_k:\n",
    "      X_j[0] = X_unknown[rand_k][0]\n",
    "      X_j[1] = X_unknown[rand_k][1]\n",
    "      F_j = F_k\n",
    "\n",
    "    X_js.append(X_j)\n",
    "    # print(X_j)\n",
    "    #end if\n",
    "  #End For\n",
    "  # print(X_js)\n",
    "\n",
    "  Obj_X_Js = []\n",
    "  for i in range(len(X_js)):\n",
    "    Obj_X_Js.append(objective(X_js[i][0], X_js[i][1]))\n",
    "\n",
    "  # print(Obj_X_Js)\n",
    "\n",
    "  # best solution selection\n",
    "  Obj_X_Js = np.array([np.inf if i is None else i for i in Obj_X_Js])\n",
    "  print(Obj_X_Js)\n",
    "  F_min = Obj_X_Js[np.argmin(Obj_X_Js)]\n",
    "  # print(F_min)\n",
    "\n",
    "  # mutation probability\n",
    "  Pa_j = []\n",
    "\n",
    "  for i in Obj_X_Js:\n",
    "    K = i - F_min\n",
    "    if K < 1:\n",
    "      Pa_j.append(pa_min + (pa_max - pa_min) * K)\n",
    "    else:\n",
    "      Pa_j.append(pa_max / N_iter)\n",
    "\n",
    "  # print(Pa_j)\n",
    "\n",
    "  # new random solutions generation\n",
    "  for i in range(len(Pa_j)):\n",
    "    rand_temp = np.random.uniform(0, 1)\n",
    "    if rand_temp < Pa_j[i]:\n",
    "      my_x = np.random.randint(100)\n",
    "      my_y = np.random.randint(100)\n",
    "      X_js[i] = [my_x, my_y]\n",
    "    #end if\n",
    "  #end for\n",
    "\n",
    "\n",
    "\n",
    "  # finding best solution after raplacement with new random solutions\n",
    "  # Make copy of X_unknown\n",
    "  X_unknown_copy = X_unknown.copy()\n",
    "  X_unknown = X_js\n",
    "\n",
    "#   Mark\n",
    "  Obj_X_unknown = []\n",
    "  for i in range(len(X_unknown)):\n",
    "    Obj_X_unknown.append(objective(X_unknown[i][0], X_unknown[i][1]))\n",
    "\n",
    "  Obj_X_unknown = np.array([np.inf if i is None else i for i in Obj_X_unknown])\n",
    "  # print(Obj_X_unknown)\n",
    "  F_best_arg = np.argmin(Obj_X_unknown)\n",
    "\n",
    "  F_best_args = []\n",
    "\n",
    "  for i in range(len(Obj_X_unknown)):\n",
    "    if Obj_X_unknown[i] < threshold:\n",
    "        F_best_args.append(i)\n",
    "\n",
    "  # Updating Anchor List\n",
    "  for i in F_best_args:\n",
    "    X_anchor_temp = list(X_anchor)\n",
    "    X_anchor_temp.append(X_js[i])\n",
    "    X_anchor = np.array(X_anchor_temp)\n",
    "    \n",
    "  # Updating Unknown List    \n",
    "  X_unknown_temp = []\n",
    "  for i in range(len(X_unknown)):\n",
    "    if i in F_best_args:\n",
    "      ales.append([X_unknown[i], X_unknown_copy[i]])\n",
    "    else:\n",
    "      X_unknown_temp.append(X_unknown[i])\n",
    "    \n",
    "\n",
    "  X_unknown = np.array(X_unknown_temp)\n",
    "\n",
    "\n",
    "  # 1. When no unknown nodes left are localisable\n",
    "  if len(X_unknown) == 0:\n",
    "        break\n",
    "\n",
    "  N_iter += 1\n",
    "      "
   ]
  },
  {
   "cell_type": "code",
   "execution_count": 876,
   "metadata": {
    "colab": {
     "base_uri": "https://localhost:8080/",
     "height": 765
    },
    "colab_type": "code",
    "id": "9HpyrC86J2d9",
    "outputId": "b2404803-a3a3-4504-df9f-03d009e27367"
   },
   "outputs": [
    {
     "data": {
      "text/plain": [
       "100"
      ]
     },
     "execution_count": 876,
     "metadata": {},
     "output_type": "execute_result"
    }
   ],
   "source": [
    "N_iter"
   ]
  },
  {
   "cell_type": "code",
   "execution_count": 877,
   "metadata": {
    "colab": {},
    "colab_type": "code",
    "id": "OwPqBTH93D0i"
   },
   "outputs": [],
   "source": [
    "X_unknown = np.array(X_unknown)"
   ]
  },
  {
   "cell_type": "code",
   "execution_count": 878,
   "metadata": {
    "colab": {
     "base_uri": "https://localhost:8080/",
     "height": 34
    },
    "colab_type": "code",
    "id": "4O1smTkm3VtD",
    "outputId": "9de7c42b-533f-4911-966f-f40d3f8ac942"
   },
   "outputs": [
    {
     "data": {
      "text/plain": [
       "4"
      ]
     },
     "execution_count": 878,
     "metadata": {},
     "output_type": "execute_result"
    }
   ],
   "source": [
    "len(X_unknown)"
   ]
  },
  {
   "cell_type": "code",
   "execution_count": 879,
   "metadata": {
    "colab": {
     "base_uri": "https://localhost:8080/",
     "height": 340
    },
    "colab_type": "code",
    "id": "zR9fJGGniNQR",
    "outputId": "ffa19851-adf7-4003-cee4-670a46f9a016"
   },
   "outputs": [],
   "source": [
    "# X_anchor"
   ]
  },
  {
   "cell_type": "code",
   "execution_count": 883,
   "metadata": {
    "colab": {
     "base_uri": "https://localhost:8080/",
     "height": 483
    },
    "colab_type": "code",
    "id": "vxxOHLqEo0pk",
    "outputId": "ddb4039b-38dc-4502-84d5-faa19e00b6f8"
   },
   "outputs": [
    {
     "data": {
      "image/png": "[encoded data removed]",
      "text/plain": [
       "<Figure size 576x576 with 1 Axes>"
      ]
     },
     "metadata": {
      "needs_background": "light"
     },
     "output_type": "display_data"
    }
   ],
   "source": [
    "plt.figure(figsize=(8, 8))\n",
    "plt.plot(X_unknown_bak[:80, 0], X_unknown_bak[:80, 1], 'ro', label=\"Unknown Nodes\")\n",
    "plt.plot(X_anchor[M:, 0], X_anchor[M:, 1], 'bo', label=\"Localized Nodes\")\n",
    "plt.plot(X_anchor_og[:, 0], X_anchor_og[:, 1], 'g+', label=\"Anchor Nodes\")\n",
    "# plt.plot(X_unknown[:10, 0], X_unknown[:10, 1], 'yo', label=\"Left Nodes\")\n",
    "plt.legend()\n",
    "plt.show()"
   ]
  },
  {
   "cell_type": "code",
   "execution_count": 884,
   "metadata": {
    "colab": {},
    "colab_type": "code",
    "id": "a1Eu9Ucirjgh"
   },
   "outputs": [],
   "source": [
    "# Localization Success Ratio\n",
    "def lsr():\n",
    "    return ((len(X_anchor) - M) / len(X_unknown_bak)) * 100"
   ]
  },
  {
   "cell_type": "code",
   "execution_count": 885,
   "metadata": {
    "colab": {
     "base_uri": "https://localhost:8080/",
     "height": 34
    },
    "colab_type": "code",
    "id": "YBEsDkMhco5h",
    "outputId": "8dd37362-3392-4e91-e23f-85e29347af8f"
   },
   "outputs": [
    {
     "data": {
      "text/plain": [
       "95.55555555555556"
      ]
     },
     "execution_count": 885,
     "metadata": {},
     "output_type": "execute_result"
    }
   ],
   "source": [
    "lsr()"
   ]
  },
  {
   "cell_type": "code",
   "execution_count": 890,
   "metadata": {},
   "outputs": [
    {
     "data": {
      "text/plain": [
       "172.34883720930233"
      ]
     },
     "execution_count": 890,
     "metadata": {},
     "output_type": "execute_result"
    }
   ],
   "source": [
    "# Average Localization Error\n",
    "\n",
    "ales\n",
    "\n",
    "eculidean_dists = []\n",
    "\n",
    "for al in ales:\n",
    "    estimated = al[0]\n",
    "    real = al[1]\n",
    "    eculidean_dists.append( np.sqrt((estimated[0] - real[0])**2 + (estimated[1] - real[1])**2) )\n",
    "#     print(al[0])\n",
    "\n",
    "np.sum(ales)/len(ales)"
   ]
  },
  {
   "cell_type": "code",
   "execution_count": 891,
   "metadata": {},
   "outputs": [
    {
     "data": {
      "text/plain": [
       "3.47"
      ]
     },
     "execution_count": 891,
     "metadata": {},
     "output_type": "execute_result"
    }
   ],
   "source": [
    "(3 * 99 + 50 )/ 100"
   ]
  },
  {
   "cell_type": "code",
   "execution_count": 841,
   "metadata": {},
   "outputs": [
    {
     "data": {
      "text/plain": [
       "1.4142135623730951"
      ]
     },
     "execution_count": 841,
     "metadata": {},
     "output_type": "execute_result"
    }
   ],
   "source": [
    "np.sqrt(2)"
   ]
  },
  {
   "cell_type": "code",
   "execution_count": 632,
   "metadata": {
    "colab": {},
    "colab_type": "code",
    "id": "j54-osTRc-Wd"
   },
   "outputs": [],
   "source": [
    "# 1. When no unknown nodes left are localisable\n",
    "# 2. Add multiple unknown nodes into anchor nodes\n",
    "# 3. Capture results"
   ]
  }
 ],
 "metadata": {
  "colab": {
   "collapsed_sections": [],
   "name": "vaibhav.ipynb",
   "provenance": []
  },
  "kernelspec": {
   "display_name": "Python 3",
   "language": "python",
   "name": "python3"
  },
  "language_info": {
   "codemirror_mode": {
    "name": "ipython",
    "version": 3
   },
   "file_extension": ".py",
   "mimetype": "text/x-python",
   "name": "python",
   "nbconvert_exporter": "python",
   "pygments_lexer": "ipython3",
   "version": "3.7.1"
  }
 },
 "nbformat": 4,
 "nbformat_minor": 1
}
