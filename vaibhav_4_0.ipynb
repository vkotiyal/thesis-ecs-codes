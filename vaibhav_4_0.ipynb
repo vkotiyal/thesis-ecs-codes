{
 "cells": [
  {
   "cell_type": "code",
   "execution_count": 2,
   "metadata": {
    "colab": {},
    "colab_type": "code",
    "id": "uessMxu1gnLj"
   },
   "outputs": [],
   "source": [
    "import numpy as np\n",
    "import matplotlib.pyplot as plt\n",
    "import pandas as pd\n",
    "from scipy.special import gamma as gamma_function"
   ]
  },
  {
   "cell_type": "code",
   "execution_count": 2,
   "metadata": {
    "colab": {},
    "colab_type": "code",
    "id": "sCPrLvUFgnLu"
   },
   "outputs": [],
   "source": [
    "total_nodes = 20\n",
    "anchor_percent = 0.90\n",
    "N = int((1 - anchor_percent) * total_nodes) # unknown nodes\n",
    "M = total_nodes - N # anchor nodes"
   ]
  },
  {
   "cell_type": "code",
   "execution_count": 3,
   "metadata": {
    "colab": {
     "base_uri": "https://localhost:8080/",
     "height": 34
    },
    "colab_type": "code",
    "id": "wxMMDcRjoH-y",
    "outputId": "5e987bce-12fd-40ca-8e55-cdaa71cf199e"
   },
   "outputs": [
    {
     "name": "stdout",
     "output_type": "stream",
     "text": [
      "19\n"
     ]
    }
   ],
   "source": [
    "print(M)"
   ]
  },
  {
   "cell_type": "code",
   "execution_count": 4,
   "metadata": {
    "colab": {},
    "colab_type": "code",
    "id": "VdHibg-FgnLz"
   },
   "outputs": [],
   "source": [
    "# anchor nodes random placement\n",
    "X_anchor = []\n",
    "\n",
    "for i in range(M):\n",
    "    x_anchor = np.random.randint(100)\n",
    "    y_anchor = np.random.randint(100)\n",
    "\n",
    "    X_anchor.append([x_anchor, y_anchor])"
   ]
  },
  {
   "cell_type": "code",
   "execution_count": 0,
   "metadata": {
    "colab": {},
    "colab_type": "code",
    "id": "oaZOzIfkcOxK"
   },
   "outputs": [],
   "source": [
    "# unknown nodes random placement\n",
    "X_unknown = []\n",
    "for i in range(N):\n",
    "    x_unknown = np.random.randint(100)\n",
    "    y_unknown = np.random.randint(100)\n",
    "  \n",
    "    X_unknown.append([x_unknown, y_unknown])"
   ]
  },
  {
   "cell_type": "code",
   "execution_count": 0,
   "metadata": {
    "colab": {},
    "colab_type": "code",
    "id": "lY4nYJPZgnL-"
   },
   "outputs": [],
   "source": [
    "X_unknown = np.array(X_unknown)\n",
    "X_anchor = np.array(X_anchor)"
   ]
  },
  {
   "cell_type": "code",
   "execution_count": 0,
   "metadata": {
    "colab": {},
    "colab_type": "code",
    "id": "s23KYDujKIOC"
   },
   "outputs": [],
   "source": [
    "# back up of original anchors and unknowns\n",
    "X_anchor_og = X_anchor.copy()\n",
    "X_unknown_bak = X_unknown.copy()"
   ]
  },
  {
   "cell_type": "code",
   "execution_count": 204,
   "metadata": {
    "colab": {
     "base_uri": "https://localhost:8080/",
     "height": 483
    },
    "colab_type": "code",
    "id": "WB5isTpZgnMD",
    "outputId": "cb04dfde-d3b3-4f3b-927c-8f68a989df73"
   },
   "outputs": [
    {
     "data": {
      "image/png": "[encoded data removed]",
      "text/plain": [
       "<Figure size 576x576 with 1 Axes>"
      ]
     },
     "metadata": {
      "needs_background": "light",
      "tags": []
     },
     "output_type": "display_data"
    }
   ],
   "source": [
    "plt.figure(figsize=(8, 8))\n",
    "plt.plot(X_unknown[:, 0], X_unknown[:, 1], 'r.', label=\"Unknown Node\")\n",
    "plt.plot(X_anchor[:, 0], X_anchor[:, 1], 'g+', label=\"Anchor Node\")\n",
    "plt.legend()\n",
    "plt.grid()\n",
    "plt.show()"
   ]
  },
  {
   "cell_type": "code",
   "execution_count": 41,
   "metadata": {
    "colab": {},
    "colab_type": "code",
    "id": "OuESlBcggnMJ"
   },
   "outputs": [],
   "source": [
    "t_range = 10 # transmission range\n",
    "# t_range_best = \n",
    "gamma = 0.1 # noise factor"
   ]
  },
  {
   "cell_type": "code",
   "execution_count": 206,
   "metadata": {
    "colab": {
     "base_uri": "https://localhost:8080/",
     "height": 34
    },
    "colab_type": "code",
    "id": "iBo2XpEakNZJ",
    "outputId": "8a564d4b-1126-47b2-98b2-04ca554de21c"
   },
   "outputs": [
    {
     "data": {
      "text/plain": [
       "19"
      ]
     },
     "execution_count": 206,
     "metadata": {
      "tags": []
     },
     "output_type": "execute_result"
    }
   ],
   "source": [
    "len(X_anchor)"
   ]
  },
  {
   "cell_type": "code",
   "execution_count": 0,
   "metadata": {
    "colab": {},
    "colab_type": "code",
    "id": "D2tzFZbVgnMP"
   },
   "outputs": [],
   "source": [
    "#objective function need to minimize\n",
    "def objective(x, y):\n",
    "    l = []\n",
    "    for j in range(len(X_anchor)): # for every anchor nodes\n",
    "        dij = np.power((np.power((x - X_anchor[j][0]), 2) + np.power((y - X_anchor[j][1]), 2)), 0.5)\n",
    "        dij_dash = dij + np.random.normal(0, (gamma*dij))\n",
    "        \n",
    "        if dij < t_range:\n",
    "            l.append(X_anchor[j])\n",
    "    if len(l) >= 3:\n",
    "#         print(l, 'anchor nodes')\n",
    "#         print(X_unknown[i], 'unknown nodes')\n",
    "        m = len(l)\n",
    "        rerror = []\n",
    "        for ancn in l:\n",
    "            dij = np.power((np.power((x - ancn[0]), 2) + np.power((y - ancn[1]), 2)), 0.5)\n",
    "            dij_dash = dij + np.random.normal(0, (gamma*dij))\n",
    "            rerror.append(np.power((dij - dij_dash), 2))\n",
    "\n",
    "        return np.sum(rerror) / m\n",
    "        return dij"
   ]
  },
  {
   "cell_type": "code",
   "execution_count": 0,
   "metadata": {
    "colab": {},
    "colab_type": "code",
    "id": "Bv0LZYYklbbX"
   },
   "outputs": [],
   "source": [
    "v_x = []\n",
    "for i in range(100):\n",
    "    for j in range(100):\n",
    "        if objective(i, j):\n",
    "            v_x.append(objective(i, j))"
   ]
  },
  {
   "cell_type": "code",
   "execution_count": 0,
   "metadata": {
    "colab": {},
    "colab_type": "code",
    "id": "mfFZaJyblbbb"
   },
   "outputs": [],
   "source": [
    "# v_x"
   ]
  },
  {
   "cell_type": "code",
   "execution_count": 210,
   "metadata": {
    "colab": {
     "base_uri": "https://localhost:8080/",
     "height": 34
    },
    "colab_type": "code",
    "id": "m52cbss7lbbf",
    "outputId": "7454e70b-e860-4135-a1a1-ce27d7bca530"
   },
   "outputs": [
    {
     "name": "stdout",
     "output_type": "stream",
     "text": [
      "5.239011137138283\n"
     ]
    }
   ],
   "source": [
    "# threshold = ((np.max(v_x) - np.min(v_x))/2) #rejected\n",
    "# threshold = np.min(v_x) + 4\n",
    "mean_vx = np.mean(v_x)\n",
    "threshold = (mean_vx - np.min(v_x))/2\n",
    "# threshold = mean_vx - np.min(v_x)\n",
    "print(threshold)"
   ]
  },
  {
   "cell_type": "code",
   "execution_count": 211,
   "metadata": {
    "colab": {
     "base_uri": "https://localhost:8080/",
     "height": 34
    },
    "colab_type": "code",
    "id": "cWkvhksiKWHq",
    "outputId": "4d8bbe39-5fd0-4500-bffc-14fc3f48b478"
   },
   "outputs": [
    {
     "name": "stdout",
     "output_type": "stream",
     "text": [
      "61.71645222941157\n"
     ]
    }
   ],
   "source": [
    "max_v = np.max(v_x)\n",
    "print(max_v)"
   ]
  },
  {
   "cell_type": "code",
   "execution_count": 212,
   "metadata": {
    "colab": {
     "base_uri": "https://localhost:8080/",
     "height": 34
    },
    "colab_type": "code",
    "id": "cVzrE1nTQvYF",
    "outputId": "bd5f8048-a1ea-4f7c-c172-20a70488f021"
   },
   "outputs": [
    {
     "name": "stdout",
     "output_type": "stream",
     "text": [
      "10.819084657748936\n"
     ]
    }
   ],
   "source": [
    "mean_vx = np.mean(v_x)\n",
    "print(mean_vx)"
   ]
  },
  {
   "cell_type": "code",
   "execution_count": 213,
   "metadata": {
    "colab": {
     "base_uri": "https://localhost:8080/",
     "height": 265
    },
    "colab_type": "code",
    "id": "B6pYreK9OEdy",
    "outputId": "ba950ae7-050f-48f1-b008-4b9bd27571fd"
   },
   "outputs": [
    {
     "data": {
      "image/png": "[encoded data removed]",
      "text/plain": [
       "<Figure size 432x288 with 1 Axes>"
      ]
     },
     "metadata": {
      "needs_background": "light",
      "tags": []
     },
     "output_type": "display_data"
    }
   ],
   "source": [
    "plt.hist(v_x, color = 'blue', edgecolor = 'black', bins = int(180/5))\n",
    "# plt.bar(range(len(v_x)), v_x)\n",
    "plt.show()"
   ]
  },
  {
   "cell_type": "code",
   "execution_count": 0,
   "metadata": {
    "colab": {},
    "colab_type": "code",
    "id": "zYnhaii7IQTB"
   },
   "outputs": [],
   "source": [
    "# X_unknown"
   ]
  },
  {
   "cell_type": "code",
   "execution_count": 0,
   "metadata": {
    "colab": {},
    "colab_type": "code",
    "id": "MHxfImvMgnMT"
   },
   "outputs": [],
   "source": [
    "# for i in range(N): # for every unknown nodes\n",
    "# objective(84, 23)"
   ]
  },
  {
   "cell_type": "code",
   "execution_count": 0,
   "metadata": {
    "colab": {},
    "colab_type": "code",
    "id": "JkWbL4TwgnMX"
   },
   "outputs": [],
   "source": [
    "alpha_min = 0.9\n",
    "alpha_max = 1.0\n",
    "pa_min = 0.05\n",
    "pa_max = 0.25\n",
    "X_min = 0\n",
    "X_max = 100"
   ]
  },
  {
   "cell_type": "code",
   "execution_count": 0,
   "metadata": {
    "colab": {},
    "colab_type": "code",
    "id": "f3Xqu1x6gnMc"
   },
   "outputs": [],
   "source": [
    "N_itertotal = 100\n",
    "# print(X_unknown)"
   ]
  },
  {
   "cell_type": "code",
   "execution_count": 0,
   "metadata": {
    "colab": {},
    "colab_type": "code",
    "id": "f7tsdU3RgnMg"
   },
   "outputs": [],
   "source": [
    "fitness_values = []\n",
    "for i in range(len(X_unknown)): # for every Unknown node\n",
    "    fitness_values.append(objective(X_unknown[i][0], X_unknown[i][1]))"
   ]
  },
  {
   "cell_type": "code",
   "execution_count": 219,
   "metadata": {
    "colab": {
     "base_uri": "https://localhost:8080/",
     "height": 34
    },
    "colab_type": "code",
    "id": "I1huh9aKgnMl",
    "outputId": "7d483d49-cc2e-4d4a-8fd2-53790a96e6ac"
   },
   "outputs": [
    {
     "data": {
      "text/plain": [
       "[9.77457526000512]"
      ]
     },
     "execution_count": 219,
     "metadata": {
      "tags": []
     },
     "output_type": "execute_result"
    }
   ],
   "source": [
    "fitness_values"
   ]
  },
  {
   "cell_type": "code",
   "execution_count": 0,
   "metadata": {
    "colab": {},
    "colab_type": "code",
    "id": "Qy9Nr1G69Sct"
   },
   "outputs": [],
   "source": [
    "# #vk\n",
    "# f_values_legal = []\n",
    "# for i in range (len(fitness_values)):\n",
    "#     if fitness_values[i] is None:\n",
    "#         pass\n",
    "#     else:\n",
    "#         f_values_legal.append(fitness_values[i])"
   ]
  },
  {
   "cell_type": "code",
   "execution_count": 0,
   "metadata": {
    "colab": {},
    "colab_type": "code",
    "id": "2Gtfd9f3-CLd"
   },
   "outputs": [],
   "source": [
    "#vk\n",
    "# f_values_legal"
   ]
  },
  {
   "cell_type": "code",
   "execution_count": 0,
   "metadata": {
    "colab": {},
    "colab_type": "code",
    "id": "jB0RgrOuIUvQ"
   },
   "outputs": [],
   "source": [
    "# print(X_unknown)"
   ]
  },
  {
   "cell_type": "code",
   "execution_count": 0,
   "metadata": {
    "colab": {},
    "colab_type": "code",
    "id": "Trto0rKngnMr"
   },
   "outputs": [],
   "source": [
    "# import scipy.stats"
   ]
  },
  {
   "cell_type": "code",
   "execution_count": 0,
   "metadata": {
    "colab": {},
    "colab_type": "code",
    "id": "jvo02QjqgnMv"
   },
   "outputs": [],
   "source": [
    "def alpha(n_iter):\n",
    "    return alpha_max - ((n_iter/ N_itertotal) * (alpha_max - alpha_min))\n",
    "\n",
    "# Levy Flight\n",
    "def levy():\n",
    "    # lamda = np.random.uniform(1.1,3)\n",
    "    lamda = 1.5\n",
    "    temp = np.power(((gamma_function(1 + lamda) * np.sin(np.pi * (lamda /2))) / (gamma_function((1 + lamda)/2) * lamda * np.power(2, ((lamda - 1)/2)) )), 1/lamda)\n",
    "    u = np.random.normal(0, temp)\n",
    "    v = np.random.normal(0,1)\n",
    "    r = u / (np.power(abs(v), (1/lamda)))\n",
    "\n",
    "    return r"
   ]
  },
  {
   "cell_type": "code",
   "execution_count": 225,
   "metadata": {
    "colab": {
     "base_uri": "https://localhost:8080/",
     "height": 34
    },
    "colab_type": "code",
    "id": "yszCF80S4qYP",
    "outputId": "3cb1815b-4ae8-466d-dfa1-210392c08219"
   },
   "outputs": [
    {
     "data": {
      "text/plain": [
       "-0.4958444684484066"
      ]
     },
     "execution_count": 225,
     "metadata": {
      "tags": []
     },
     "output_type": "execute_result"
    }
   ],
   "source": [
    "levy()"
   ]
  },
  {
   "cell_type": "code",
   "execution_count": 0,
   "metadata": {
    "colab": {},
    "colab_type": "code",
    "id": "7okLl3Ut4wEd"
   },
   "outputs": [],
   "source": [
    "# print(X_unknown)\n",
    "# print(len(X_unknown))"
   ]
  },
  {
   "cell_type": "code",
   "execution_count": 0,
   "metadata": {
    "colab": {},
    "colab_type": "code",
    "id": "DGZCWqdXtA0x"
   },
   "outputs": [],
   "source": [
    "# np.zeros([N, 2])"
   ]
  },
  {
   "cell_type": "code",
   "execution_count": 0,
   "metadata": {
    "colab": {},
    "colab_type": "code",
    "id": "ovucPqEsU2-a"
   },
   "outputs": [],
   "source": [
    "# state_root = [anc_state,unknown_state]"
   ]
  },
  {
   "cell_type": "code",
   "execution_count": 229,
   "metadata": {
    "colab": {
     "base_uri": "https://localhost:8080/",
     "height": 527
    },
    "colab_type": "code",
    "id": "1upSTslDgnM_",
    "outputId": "1faa4d87-a0d0-4a90-ec00-eb013284a279",
    "scrolled": true
   },
   "outputs": [
    {
     "name": "stdout",
     "output_type": "stream",
     "text": [
      "[]\n",
      "[]\n",
      "[]\n",
      "[]\n",
      "[]\n",
      "[]\n",
      "[]\n",
      "[]\n",
      "[]\n",
      "[]\n",
      "[]\n",
      "[]\n",
      "[]\n",
      "[]\n",
      "[]\n",
      "[]\n",
      "[]\n",
      "[]\n",
      "[]\n",
      "[]\n",
      "[]\n",
      "[]\n",
      "[]\n",
      "[]\n",
      "[]\n",
      "[]\n",
      "[]\n",
      "[]\n",
      "[0]\n",
      "check 3.7197031917645176\n"
     ]
    }
   ],
   "source": [
    "# X_unknown_org1 = np.zeros([N, 2])\n",
    "# X_unknown_org2 = np.zeros([N, 2])\n",
    "\n",
    "ales = []\n",
    "X_calc = [] # final coordinates\n",
    "\n",
    "N_iter = 1\n",
    "while (N_iter < N_itertotal) : # termination condition\n",
    "  X_js = []\n",
    "  for i in range(len(X_unknown)): # For every unknown node\n",
    "    X_j = X_unknown[i]\n",
    "    X_j[0] = X_unknown[i][0] + alpha(N_iter) * levy()\n",
    "    X_j[1] = X_unknown[i][1] + alpha(N_iter) * levy()\n",
    "    # print(X_j)\n",
    "    # print(X_j[0])\n",
    "    my_x = np.random.randint(100)\n",
    "    my_y = np.random.randint(100)\n",
    "    X_rand = [my_x, my_y]\n",
    "    if X_j[0] > X_max and X_j[1] > X_max:\n",
    "      # X_j = [X_max, X_max]\n",
    "      X_j = X_rand\n",
    "    elif X_j[0] > X_max and X_min < X_j[1] < X_max:\n",
    "      # X_j = [X_max, X_j[1]]\n",
    "      X_j = X_rand\n",
    "    elif X_j[0] > X_max and X_j[1] < X_min:\n",
    "      # X_j = [X_max, X_min]\n",
    "      X_j = X_rand\n",
    "    elif X_min < X_j[0] < X_max and X_j[1] < X_min:\n",
    "      # X_j = [X_j[0], X_min]\n",
    "      X_j = X_rand\n",
    "    elif X_j[0] < X_min and X_j[1] < X_min:\n",
    "      # X_j = [X_min, X_min]\n",
    "      X_j = X_rand\n",
    "    elif X_j[0] < X_min and X_min < X_j[1] < X_max:\n",
    "      # X_j = [X_min, X_j[1]]\n",
    "      X_j = X_rand\n",
    "    elif X_j[0] < X_min and X_j[1] > X_max:\n",
    "      # X_j = [X_min, X_max]\n",
    "      X_j = X_rand\n",
    "    elif X_min < X_j[0] < X_max and X_j[1] > X_max:\n",
    "      # X_j = [X_j[0], X_max]\n",
    "      X_j = X_rand\n",
    "\n",
    "    # Comparing random walked solution with unknown nodes' solution\n",
    "    F_j = objective(X_j[0], X_j[1]) or 0\n",
    "    rand_k = np.random.randint(0, len(X_unknown))\n",
    "    F_k = objective(X_unknown[rand_k][0], X_unknown[rand_k][1]) or 0\n",
    "\n",
    "    if F_j > F_k:\n",
    "      X_j[0] = X_unknown[rand_k][0]\n",
    "      X_j[1] = X_unknown[rand_k][1]\n",
    "      F_j = F_k\n",
    "\n",
    "    X_js.append(X_j)\n",
    "    # X_js is a list of current iteration's solutions\n",
    "    # print(X_j)\n",
    "    #end if\n",
    "  #End For\n",
    "  # print(X_js)\n",
    "\n",
    "  # Fitness values of current iteration's solutions\n",
    "  Obj_X_Js = []\n",
    "  for i in range(len(X_js)):\n",
    "    Obj_X_Js.append(objective(X_js[i][0], X_js[i][1]))\n",
    "\n",
    "  # print(Obj_X_Js)\n",
    "\n",
    "  # best solution selection\n",
    "  Obj_X_Js = np.array([np.inf if i is None else i for i in Obj_X_Js])\n",
    "  # print(Obj_X_Js)\n",
    "  F_min = Obj_X_Js[np.argmin(Obj_X_Js)]\n",
    "  # print(F_min)\n",
    "\n",
    "  # Mutation probability\n",
    "  Pa_j = []\n",
    "\n",
    "  for i in Obj_X_Js:\n",
    "    K = i - F_min\n",
    "    if K < 1:\n",
    "      Pa_j.append(pa_min + (pa_max - pa_min) * K)\n",
    "    else:\n",
    "      Pa_j.append(pa_max / N_iter)\n",
    "\n",
    "  # print(Pa_j)\n",
    "\n",
    "  # new random solutions generation according to mutation probability\n",
    "  for i in range(len(Pa_j)):\n",
    "    rand_temp = np.random.uniform(0, 1)\n",
    "    if rand_temp < Pa_j[i]:\n",
    "      my_x = np.random.randint(100)\n",
    "      my_y = np.random.randint(100)\n",
    "      X_js[i] = [my_x, my_y]\n",
    "    #end if\n",
    "  #end for\n",
    "\n",
    "\n",
    "\n",
    "  # Finding best solution after replacement with new random solutions\n",
    "  # Make copy of X_unknown\n",
    "  X_unknown_copy = X_unknown.copy()\n",
    "  X_unknown = X_js\n",
    "\n",
    "  #MARK\n",
    "  # Calculating fitness values of random replacement updated (mutated) unknown nodes\n",
    "  Obj_X_unknown = []\n",
    "  for i in range(len(X_unknown)):\n",
    "    Obj_X_unknown.append(objective(X_unknown[i][0], X_unknown[i][1]))\n",
    "\n",
    "  Obj_X_unknown = np.array([np.inf if i is None else i for i in Obj_X_unknown])\n",
    "  # print(Obj_X_unknown)\n",
    "  F_best_arg = np.argmin(Obj_X_unknown) # Index of the best valued solution\n",
    "\n",
    "  F_best_args = []\n",
    "  for i in range(len(Obj_X_unknown)):\n",
    "    if Obj_X_unknown[i] < threshold:\n",
    "        F_best_args.append(i)\n",
    "\n",
    "  print(F_best_args)\n",
    "\n",
    "\n",
    "  # Updating Anchor List\n",
    "  for i in F_best_args:\n",
    "    print('check', Obj_X_unknown[i])\n",
    "    X_anchor_temp = list(X_anchor)\n",
    "    X_anchor_temp.append(X_unknown[i])\n",
    "    X_anchor = np.array(X_anchor_temp)\n",
    "    \n",
    "  # Updating Unknown List    \n",
    "  X_unknown_temp = []\n",
    "  for i in range(len(X_unknown)):\n",
    "    if i in F_best_args:\n",
    "      ales.append([X_unknown[i], X_unknown_copy[i]])\n",
    "      X_calc.append(X_unknown[i])\n",
    "    else:\n",
    "      X_unknown_temp.append(X_unknown[i])\n",
    "    \n",
    "\n",
    "  X_unknown = np.array(X_unknown_temp)\n",
    "\n",
    "\n",
    "  # 1. When no unknown nodes left are localisable\n",
    "  if len(X_unknown) == 0:\n",
    "        break\n",
    "\n",
    "  N_iter += 1\n",
    "      "
   ]
  },
  {
   "cell_type": "code",
   "execution_count": 230,
   "metadata": {
    "colab": {
     "base_uri": "https://localhost:8080/",
     "height": 34
    },
    "colab_type": "code",
    "id": "9HpyrC86J2d9",
    "outputId": "c9ee5e0e-9113-4a8a-eb3f-2708bd0a041e"
   },
   "outputs": [
    {
     "data": {
      "text/plain": [
       "29"
      ]
     },
     "execution_count": 230,
     "metadata": {
      "tags": []
     },
     "output_type": "execute_result"
    }
   ],
   "source": [
    "N_iter"
   ]
  },
  {
   "cell_type": "code",
   "execution_count": 0,
   "metadata": {
    "colab": {},
    "colab_type": "code",
    "id": "OwPqBTH93D0i"
   },
   "outputs": [],
   "source": [
    "X_unknown = np.array(X_unknown)\n",
    "X_calc = np.array(X_calc)"
   ]
  },
  {
   "cell_type": "code",
   "execution_count": 232,
   "metadata": {
    "colab": {
     "base_uri": "https://localhost:8080/",
     "height": 51
    },
    "colab_type": "code",
    "id": "4O1smTkm3VtD",
    "outputId": "bbb70901-246c-4cec-d1b2-656244ca8667"
   },
   "outputs": [
    {
     "name": "stdout",
     "output_type": "stream",
     "text": [
      "0\n",
      "1\n"
     ]
    }
   ],
   "source": [
    "print(len(X_unknown))\n",
    "print(len(X_calc))"
   ]
  },
  {
   "cell_type": "code",
   "execution_count": 252,
   "metadata": {
    "colab": {
     "base_uri": "https://localhost:8080/",
     "height": 51
    },
    "colab_type": "code",
    "id": "bgQLlElnJtPO",
    "outputId": "af6da084-be51-4ac4-8442-edbe74d85d1e"
   },
   "outputs": [
    {
     "name": "stdout",
     "output_type": "stream",
     "text": [
      "[13.418593319315795]\n",
      "13.418593319315795\n"
     ]
    }
   ],
   "source": [
    "# fitness values of final coordinates (solutions)\n",
    "Obj_X_calc = []\n",
    "for i in range (len(X_calc)):\n",
    "  Obj_X_calc.append(objective(X_calc[i][0], X_calc[i][1]))\n",
    "\n",
    "print(Obj_X_calc)\n",
    "X_calc_avg = np.average(Obj_X_calc)\n",
    "print(X_calc_avg)"
   ]
  },
  {
   "cell_type": "code",
   "execution_count": 253,
   "metadata": {
    "colab": {
     "base_uri": "https://localhost:8080/",
     "height": 34
    },
    "colab_type": "code",
    "id": "aq9NsCx9qVAC",
    "outputId": "363bed6a-3e2b-4578-827d-12225e440e4e"
   },
   "outputs": [
    {
     "name": "stdout",
     "output_type": "stream",
     "text": [
      "1\n"
     ]
    }
   ],
   "source": [
    "q = 0\n",
    "for i in range (len(Obj_X_calc)):\n",
    "  if Obj_X_calc[i] >= threshold:\n",
    "    # print(i)\n",
    "    # print(Obj_X_calc[i])\n",
    "    q += 1\n",
    "print(q)"
   ]
  },
  {
   "cell_type": "code",
   "execution_count": 0,
   "metadata": {
    "colab": {},
    "colab_type": "code",
    "id": "TL19iYMS8q4g"
   },
   "outputs": [],
   "source": []
  },
  {
   "cell_type": "code",
   "execution_count": 254,
   "metadata": {
    "colab": {
     "base_uri": "https://localhost:8080/",
     "height": 483
    },
    "colab_type": "code",
    "id": "vxxOHLqEo0pk",
    "outputId": "3d3fa0ac-e0fc-47da-a9ea-35d0b818df08"
   },
   "outputs": [
    {
     "data": {
      "image/png": "[encoded data removed]",
      "text/plain": [
       "<Figure size 576x576 with 1 Axes>"
      ]
     },
     "metadata": {
      "needs_background": "light",
      "tags": []
     },
     "output_type": "display_data"
    }
   ],
   "source": [
    "plt.figure(figsize=(8, 8))\n",
    "# plt.plot(X_unknown_bak[:80, 0], X_unknown_bak[:80, 1], 'ro', label=\"Unknown Nodes\")\n",
    "plt.plot(X_anchor[M:, 0], X_anchor[M:, 1], 'bo', label=\"Localized Nodes\")\n",
    "plt.plot(X_anchor_og[:, 0], X_anchor_og[:, 1], 'g+', label=\"Anchor Nodes\")\n",
    "if len(X_unknown) != 0 :\n",
    "  plt.plot(X_unknown[:, 0], X_unknown[:, 1], 'yo', label=\"Left Nodes\")\n",
    "plt.legend()\n",
    "plt.show()"
   ]
  },
  {
   "cell_type": "code",
   "execution_count": 0,
   "metadata": {
    "colab": {},
    "colab_type": "code",
    "id": "a1Eu9Ucirjgh"
   },
   "outputs": [],
   "source": [
    "# Localization Success Ratio\n",
    "def lsr():\n",
    "    return ((len(X_anchor) - M) / len(X_unknown_bak)) * 100"
   ]
  },
  {
   "cell_type": "code",
   "execution_count": 160,
   "metadata": {
    "colab": {
     "base_uri": "https://localhost:8080/",
     "height": 68
    },
    "colab_type": "code",
    "id": "JzLo4SA92Fum",
    "outputId": "6f707184-5164-4ac7-951e-10d6f1c041a2"
   },
   "outputs": [
    {
     "name": "stdout",
     "output_type": "stream",
     "text": [
      "20\n",
      "19\n",
      "1\n"
     ]
    }
   ],
   "source": [
    "print(len(X_anchor))\n",
    "print(M)\n",
    "print(len(X_unknown_bak))"
   ]
  },
  {
   "cell_type": "code",
   "execution_count": 161,
   "metadata": {
    "colab": {
     "base_uri": "https://localhost:8080/",
     "height": 34
    },
    "colab_type": "code",
    "id": "YBEsDkMhco5h",
    "outputId": "360793ed-39d6-4c52-c22b-b4312a39234f"
   },
   "outputs": [
    {
     "data": {
      "text/plain": [
       "100.0"
      ]
     },
     "execution_count": 161,
     "metadata": {
      "tags": []
     },
     "output_type": "execute_result"
    }
   ],
   "source": [
    "lsr()"
   ]
  },
  {
   "cell_type": "code",
   "execution_count": 0,
   "metadata": {
    "colab": {},
    "colab_type": "code",
    "id": "VTReSgzg2sme"
   },
   "outputs": [],
   "source": [
    "# For observations (retaining original topology)\n",
    "X_anchor = X_anchor_og\n",
    "X_unknown = X_unknown_bak\n",
    "# print(len(X_unknown))"
   ]
  },
  {
   "cell_type": "code",
   "execution_count": 163,
   "metadata": {
    "colab": {
     "base_uri": "https://localhost:8080/",
     "height": 34
    },
    "colab_type": "code",
    "id": "9nhPHPjUlbdZ",
    "outputId": "b4e898af-a67e-456b-c006-b9bc04d4cff3"
   },
   "outputs": [
    {
     "data": {
      "text/plain": [
       "170.0"
      ]
     },
     "execution_count": 163,
     "metadata": {
      "tags": []
     },
     "output_type": "execute_result"
    }
   ],
   "source": [
    "# Average Localization Error\n",
    "\n",
    "ales\n",
    "\n",
    "eculidean_dists = []\n",
    "\n",
    "for al in ales:\n",
    "    estimated = al[0]\n",
    "    real = al[1]\n",
    "    eculidean_dists.append( np.sqrt((estimated[0] - real[0])**2 + (estimated[1] - real[1])**2) )\n",
    "#     print(al[0])\n",
    "\n",
    "np.sum(ales)/len(ales)"
   ]
  },
  {
   "cell_type": "code",
   "execution_count": 0,
   "metadata": {
    "colab": {},
    "colab_type": "code",
    "id": "j54-osTRc-Wd"
   },
   "outputs": [],
   "source": [
    "# 1. When no unknown nodes left are localisable\n",
    "# 2. Add multiple unknown nodes into anchor nodes\n",
    "# 3. Capture results"
   ]
  },
  {
   "cell_type": "code",
   "execution_count": 0,
   "metadata": {
    "colab": {},
    "colab_type": "code",
    "id": "xcl3E9CO0JW6"
   },
   "outputs": [],
   "source": [
    "#plotly\n",
    "#seaborn"
   ]
  },
  {
   "cell_type": "markdown",
   "metadata": {
    "colab_type": "text",
    "id": "ifeaL19kToTB"
   },
   "source": [
    "### PLOTS"
   ]
  },
  {
   "cell_type": "code",
   "execution_count": 33,
   "metadata": {
    "colab": {
     "base_uri": "https://localhost:8080/",
     "height": 295
    },
    "colab_type": "code",
    "id": "NEppbZjQgy3J",
    "outputId": "080a338f-a015-4393-920d-19ccda2019c8"
   },
   "outputs": [
    {
     "data": {
      "image/png": "[encoded data removed]",
      "text/plain": [
       "<Figure size 432x288 with 1 Axes>"
      ]
     },
     "metadata": {
      "needs_background": "light",
      "tags": []
     },
     "output_type": "display_data"
    }
   ],
   "source": [
    "# IMPROVED\n",
    "# lsr graph (Anc. Ratio)\n",
    "anc_density = [10, 20, 30, 40, 50, 60]\n",
    "lsr_100 = [16.6666, 31.25, 100, 100, 100, 100]\n",
    "lsr_200 = [92.7777, 100, 100, 100, 100, 100]\n",
    "lsr_300 = [100, 100, 100, 100, 100, 100]\n",
    "lsr_400 = [100, 100, 100, 100, 100, 100]\n",
    "\n",
    "plt.xlabel(\"Anchor Ratio (in %)\")\n",
    "# plt.ylabel(\"Localization Success Ratio\")\n",
    "plt.title(\"LSR\")\n",
    "\n",
    "plt.plot(anc_density, lsr_100, label=\"Node Density=100\")\n",
    "plt.plot(anc_density, lsr_100, 'bo')\n",
    "plt.plot(anc_density,lsr_200, label=\"Node Density=200\")\n",
    "plt.plot(anc_density, lsr_200, 'yo')\n",
    "plt.plot(anc_density,lsr_300, label=\"Node Density=300\")\n",
    "plt.plot(anc_density, lsr_300, 'go')\n",
    "plt.plot(anc_density,lsr_400, label=\"Node Density=400\")\n",
    "plt.plot(anc_density, lsr_400, 'ro')\n",
    "\n",
    "plt.legend(shadow='true')\n",
    "plt.axis([5,65,0,105])\n",
    "plt.grid()\n",
    "plt.show()"
   ]
  },
  {
   "cell_type": "code",
   "execution_count": 35,
   "metadata": {
    "colab": {
     "base_uri": "https://localhost:8080/",
     "height": 295
    },
    "colab_type": "code",
    "id": "1Fsfo4cCur6G",
    "outputId": "c26d678a-891b-470e-d436-2bc8a337d08b"
   },
   "outputs": [
    {
     "data": {
      "image/png": "[encoded data removed]",
      "text/plain": [
       "<Figure size 432x288 with 1 Axes>"
      ]
     },
     "metadata": {
      "needs_background": "light",
      "tags": []
     },
     "output_type": "display_data"
    }
   ],
   "source": [
    "# IMPROVED\n",
    "# lsr graph (T Range)\n",
    "trans_range = [10, 20, 30, 40, 50]\n",
    "lsr_100 = [0, 17.5, 32.5, 100, 100]\n",
    "lsr_200 = [8.125, 63.7499, 100, 100, 100]\n",
    "lsr_300 = [17.91, 80.833, 100, 100, 100]\n",
    "lsr_400 = [31.5625, 87.5, 100, 100, 100]\n",
    "\n",
    "plt.xlabel(\"Communication Range (meters)\")\n",
    "# plt.ylabel(\"Localization Succes Ratio\")\n",
    "plt.title(\"LSR\")\n",
    "\n",
    "plt.plot(trans_range, lsr_100, label=\"Node Density=100\")\n",
    "plt.plot(trans_range, lsr_100, 'bo')\n",
    "plt.plot(trans_range, lsr_200, label=\"Node Density=200\")\n",
    "plt.plot(trans_range, lsr_200, 'yo')\n",
    "plt.plot(trans_range, lsr_300, label=\"Node Density=300\")\n",
    "plt.plot(trans_range, lsr_300, 'go')\n",
    "plt.plot(trans_range, lsr_400, label=\"Node Density=400\")\n",
    "plt.plot(trans_range, lsr_400, 'ro')\n",
    "\n",
    "plt.legend(shadow='true')\n",
    "plt.axis([5,55,-5,105])\n",
    "plt.grid()\n",
    "plt.show()"
   ]
  },
  {
   "cell_type": "code",
   "execution_count": 36,
   "metadata": {
    "colab": {
     "base_uri": "https://localhost:8080/",
     "height": 295
    },
    "colab_type": "code",
    "id": "f-m6iwh-0SBw",
    "outputId": "6250b6ea-8d39-4012-a8ec-d8ddba6c5c72"
   },
   "outputs": [
    {
     "data": {
      "image/png": "[encoded data removed]",
      "text/plain": [
       "<Figure size 432x288 with 1 Axes>"
      ]
     },
     "metadata": {
      "needs_background": "light",
      "tags": []
     },
     "output_type": "display_data"
    }
   ],
   "source": [
    "# BASE\n",
    "# lsr graph (Anc. Ratio)\n",
    "anc_density = [10, 20, 30, 40, 50, 60]\n",
    "lsr_100 = [97, 99.35, 99.73, 99.99, 100, 100]\n",
    "lsr_200 = [99.71, 99.90, 100, 100, 100, 100]\n",
    "lsr_300 = [99.94, 99.98, 100, 100, 100, 100]\n",
    "lsr_400 = [100, 100, 100, 100, 100, 100]\n",
    "\n",
    "plt.xlabel(\"Anchor Ratio (in %)\")\n",
    "# plt.ylabel(\"Localization Success Ratio\")\n",
    "plt.title(\"LSR\")\n",
    "\n",
    "plt.plot(anc_density, lsr_100, label=\"Node Density=100\")\n",
    "plt.plot(anc_density, lsr_100, 'bo')\n",
    "plt.plot(anc_density,lsr_200, label=\"Node Density=200\")\n",
    "plt.plot(anc_density, lsr_200, 'yo')\n",
    "plt.plot(anc_density,lsr_300, label=\"Node Density=300\")\n",
    "plt.plot(anc_density, lsr_300, 'go')\n",
    "plt.plot(anc_density,lsr_400, label=\"Node Density=400\")\n",
    "plt.plot(anc_density, lsr_400, 'ro')\n",
    "\n",
    "plt.legend(shadow='true')\n",
    "plt.axis([5,65,96,101])\n",
    "plt.grid()\n",
    "plt.show()"
   ]
  },
  {
   "cell_type": "code",
   "execution_count": 37,
   "metadata": {
    "colab": {
     "base_uri": "https://localhost:8080/",
     "height": 295
    },
    "colab_type": "code",
    "id": "CTdSZV3NyHQd",
    "outputId": "c1d7b07f-ec4e-4ffc-df9f-b1f85770bb11"
   },
   "outputs": [
    {
     "data": {
      "image/png": "[encoded data removed]",
      "text/plain": [
       "<Figure size 432x288 with 1 Axes>"
      ]
     },
     "metadata": {
      "needs_background": "light",
      "tags": []
     },
     "output_type": "display_data"
    }
   ],
   "source": [
    "# BASE\n",
    "# lsr graph (T Range)\n",
    "trans_range = [10, 20, 30, 40, 50]\n",
    "lsr_100 = [20, 98, 99.9, 100, 100]\n",
    "lsr_200 = [51, 100, 100, 100, 100]\n",
    "lsr_300 = [94, 100, 100, 100, 100]\n",
    "lsr_400 = [94.5, 100, 100, 100, 100]\n",
    "\n",
    "plt.xlabel(\"Communication Range (meters)\")\n",
    "# plt.ylabel(\"Localization Success Ratio\")\n",
    "plt.title(\"LSR\")\n",
    "\n",
    "plt.plot(trans_range, lsr_100, label=\"Node Density=100\")\n",
    "plt.plot(trans_range, lsr_100, 'bo')\n",
    "plt.plot(trans_range, lsr_200, label=\"Node Density=200\")\n",
    "plt.plot(trans_range, lsr_200, 'yo')\n",
    "plt.plot(trans_range, lsr_300, label=\"Node Density=300\")\n",
    "plt.plot(trans_range, lsr_300, 'go')\n",
    "plt.plot(trans_range, lsr_400, label=\"Node Density=400\")\n",
    "plt.plot(trans_range, lsr_400, 'ro')\n",
    "\n",
    "plt.legend(shadow='true')\n",
    "plt.axis([5,55,10,110])\n",
    "plt.grid()\n",
    "plt.show()"
   ]
  },
  {
   "cell_type": "code",
   "execution_count": 15,
   "metadata": {
    "colab": {
     "base_uri": "https://localhost:8080/",
     "height": 483
    },
    "colab_type": "code",
    "id": "viTjfh_jOzFt",
    "outputId": "f0660b1d-567e-4e40-dcee-4b28a48aac3f"
   },
   "outputs": [
    {
     "data": {
      "image/png": "[encoded data removed]",
      "text/plain": [
       "<Figure size 576x576 with 1 Axes>"
      ]
     },
     "metadata": {
      "needs_background": "light"
     },
     "output_type": "display_data"
    }
   ],
   "source": [
    "t_range = 10\n",
    "total_nodes = 100\n",
    "anchor_percent = 0.20\n",
    "N = int((1 - anchor_percent) * total_nodes) # unknown nodes\n",
    "M = total_nodes - N # anchor nodes\n",
    "\n",
    "# anchor nodes random placement\n",
    "X_anchor = []\n",
    "\n",
    "for i in range(M):\n",
    "    x_anchor = np.random.randint(100)\n",
    "    y_anchor = np.random.randint(100)\n",
    "\n",
    "    X_anchor.append([x_anchor, y_anchor])\n",
    "\n",
    "# unknown nodes random placement\n",
    "X_unknown = []\n",
    "for i in range(N):\n",
    "    x_unknown = np.random.randint(100)\n",
    "    y_unknown = np.random.randint(100)\n",
    "  \n",
    "    X_unknown.append([x_unknown, y_unknown])\n",
    "\n",
    "X_unknown = np.array(X_unknown)\n",
    "X_anchor = np.array(X_anchor)\n",
    "\n",
    "#plot\n",
    "plt.figure(figsize=(8, 8))\n",
    "plt.plot(X_unknown[:, 0], X_unknown[:, 1], 'ro', label=\"Unknown Node\")\n",
    "plt.plot(X_anchor[:, 0], X_anchor[:, 1], 'go', label=\"Anchor Node\")\n",
    "\n",
    "X_all = []\n",
    "for i in X_unknown:\n",
    "    X_all.append(i)\n",
    "for i in X_anchor:\n",
    "    X_all.append(i)\n",
    "X_all = np.array(X_all)\n",
    "    \n",
    "for i in X_all:\n",
    "    for j in X_all:\n",
    "            if not all (i==j):\n",
    "                d = np.power(((i[0] - j[0])**2 + (i[1] - j[1])**2), 0.5)\n",
    "                if d < t_range:\n",
    "                    plt.plot([i[0], j[0]], [i[1], j[1]], '-', color=\"#98c95e\", linewidth=1)\n",
    "\n",
    "\n",
    "        \n",
    "plt.legend()\n",
    "plt.grid()\n",
    "plt.show()"
   ]
  },
  {
   "cell_type": "code",
   "execution_count": 50,
   "metadata": {},
   "outputs": [
    {
     "data": {
      "text/plain": [
       "100"
      ]
     },
     "execution_count": 50,
     "metadata": {},
     "output_type": "execute_result"
    }
   ],
   "source": [
    "len(X_all)"
   ]
  },
  {
   "cell_type": "code",
   "execution_count": null,
   "metadata": {},
   "outputs": [],
   "source": []
  },
  {
   "cell_type": "code",
   "execution_count": null,
   "metadata": {},
   "outputs": [],
   "source": []
  },
  {
   "cell_type": "code",
   "execution_count": 28,
   "metadata": {},
   "outputs": [
    {
     "data": {
      "text/plain": [
       "array([0.29906994, 0.92395142])"
      ]
     },
     "execution_count": 28,
     "metadata": {},
     "output_type": "execute_result"
    }
   ],
   "source": [
    "x[0:2]"
   ]
  },
  {
   "cell_type": "code",
   "execution_count": 18,
   "metadata": {
    "colab": {
     "base_uri": "https://localhost:8080/",
     "height": 816
    },
    "colab_type": "code",
    "id": "4Vt6ugogmd98",
    "outputId": "7c2e1561-80ac-4aa9-c350-4626eaf2be5b"
   },
   "outputs": [],
   "source": [
    "# !cat /proc/meminfo"
   ]
  },
  {
   "cell_type": "code",
   "execution_count": 24,
   "metadata": {
    "colab": {
     "base_uri": "https://localhost:8080/",
     "height": 955
    },
    "colab_type": "code",
    "id": "bEQ4pRH0TTO7",
    "outputId": "d3805f00-540c-4a25-aee3-e5a06d8746ff"
   },
   "outputs": [],
   "source": [
    "# !cat /proc/cpuinfo"
   ]
  },
  {
   "cell_type": "code",
   "execution_count": 22,
   "metadata": {
    "colab": {
     "base_uri": "https://localhost:8080/",
     "height": 187
    },
    "colab_type": "code",
    "id": "YPSLUuNlTfC7",
    "outputId": "3aed114e-d45b-4731-a137-e579158cba02"
   },
   "outputs": [],
   "source": [
    "# !df -h"
   ]
  },
  {
   "cell_type": "code",
   "execution_count": 0,
   "metadata": {
    "colab": {},
    "colab_type": "code",
    "id": "yAKHERALTiix"
   },
   "outputs": [],
   "source": []
  }
 ],
 "metadata": {
  "colab": {
   "collapsed_sections": [],
   "name": "vaibhav-3.1.ipynb",
   "provenance": []
  },
  "kernelspec": {
   "display_name": "Python 3",
   "language": "python",
   "name": "python3"
  },
  "language_info": {
   "codemirror_mode": {
    "name": "ipython",
    "version": 3
   },
   "file_extension": ".py",
   "mimetype": "text/x-python",
   "name": "python",
   "nbconvert_exporter": "python",
   "pygments_lexer": "ipython3",
   "version": "3.7.2"
  }
 },
 "nbformat": 4,
 "nbformat_minor": 1
}
