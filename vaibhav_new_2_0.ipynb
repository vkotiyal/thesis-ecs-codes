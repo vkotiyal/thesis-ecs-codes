{
  "nbformat": 4,
  "nbformat_minor": 0,
  "metadata": {
    "colab": {
      "name": "vaibhav_new_2_0.ipynb",
      "provenance": [],
      "collapsed_sections": []
    },
    "kernelspec": {
      "name": "python3",
      "display_name": "Python 3"
    }
  },
  "cells": [
    {
      "cell_type": "code",
      "metadata": {
        "id": "t_dz8E8lJ3gX",
        "colab_type": "code",
        "colab": {}
      },
      "source": [
        "import numpy as np\n",
        "import matplotlib.pyplot as plt\n",
        "import pandas as pd\n",
        "from scipy.special import gamma as gamma_function"
      ],
      "execution_count": 0,
      "outputs": []
    },
    {
      "cell_type": "code",
      "metadata": {
        "id": "vzpc2IkaP3py",
        "colab_type": "code",
        "colab": {}
      },
      "source": [
        "# constant parameters\n",
        "X_min = 0\n",
        "X_max = 100\n",
        "alpha_min = 0.9\n",
        "alpha_max = 1.0\n",
        "pa_min = 0.05\n",
        "pa_max = 0.25\n",
        "N_nest = 25\n",
        "N_itertotal = 100\n",
        "\n",
        "gamma = 0.1          # noise factor\n",
        "lamda = 1.5          # constant used in le'vy flight"
      ],
      "execution_count": 0,
      "outputs": []
    },
    {
      "cell_type": "code",
      "metadata": {
        "id": "auLebkboQo7B",
        "colab_type": "code",
        "colab": {}
      },
      "source": [
        "# scalable parameters\n",
        "total_nodes = 100\n",
        "anchor_percent = 0.1\n",
        "M = int(anchor_percent*total_nodes) # no. of anchor nodes\n",
        "N = total_nodes - M # no. of unknown nodes\n",
        "\n",
        "t_range = 25 # transmission range"
      ],
      "execution_count": 0,
      "outputs": []
    },
    {
      "cell_type": "code",
      "metadata": {
        "id": "VveTW6TOfhm1",
        "colab_type": "code",
        "colab": {}
      },
      "source": [
        "# X_anchor = [[33,500],[1000,1000]]"
      ],
      "execution_count": 0,
      "outputs": []
    },
    {
      "cell_type": "code",
      "metadata": {
        "id": "ulSu6oyrgKx3",
        "colab_type": "code",
        "colab": {}
      },
      "source": [
        "# # distance calculator\n",
        "# def dist(x1,y1,x2,y2):\n",
        "#   dist_real = np.power(np.power(x1-x2,2) + np.power(y1-y2,2),0.5)\n",
        "#   dist_err = dist_real + np.random.normal(0, gamma*dist_real)\n",
        "#   return dist_real, dist_err"
      ],
      "execution_count": 0,
      "outputs": []
    },
    {
      "cell_type": "code",
      "metadata": {
        "id": "4ifq_35ZKAXF",
        "colab_type": "code",
        "colab": {}
      },
      "source": [
        "# neighbour anchors calculator\n",
        "def neighbours(x, y):\n",
        "  l = []\n",
        "  for j in range(len(X_anchor)): # for every anchor nodes\n",
        "    dist_real = np.power((np.power((x - X_anchor[j][0]), 2) + np.power((y - X_anchor[j][1]), 2)), 0.5)\n",
        "    dist_err = dist_real + np.random.normal(0, (gamma*dist_real))\n",
        "\n",
        "    if dist_err < t_range:\n",
        "      l.append(X_anchor[j])\n",
        "  \n",
        "  # return len(l),l # returns no. of neighbouring anchors and  their coords as a tuple\n",
        "  return l # neighbouring anchors coordinates"
      ],
      "execution_count": 0,
      "outputs": []
    },
    {
      "cell_type": "code",
      "metadata": {
        "id": "X3Kp-qxdfbsS",
        "colab_type": "code",
        "colab": {}
      },
      "source": [
        "# l = neighbours(2,3)\n",
        "# print(l)\n",
        "# print(len(l))"
      ],
      "execution_count": 0,
      "outputs": []
    },
    {
      "cell_type": "code",
      "metadata": {
        "id": "bVLYYDOcMft8",
        "colab_type": "code",
        "colab": {}
      },
      "source": [
        "# step size (alpha)\n",
        "def alpha(n_iter):\n",
        "  return alpha_max - ((n_iter/ N_itertotal) * (alpha_max - alpha_min)) # returns step size value\n",
        "\n",
        "# Le'vy flight function\n",
        "def levy():\n",
        "  temp = np.power(((gamma_function(1 + lamda) * np.sin(np.pi * (lamda /2))) / (gamma_function((1 + lamda)/2) * lamda * np.power(2, ((lamda - 1)/2)) )), 1/lamda)\n",
        "  u = np.random.normal(0, temp)\n",
        "  v = np.random.normal(0,1)\n",
        "  r = u / (np.power(abs(v), (1/lamda)))\n",
        "\n",
        "  return r  # random walk value\n"
      ],
      "execution_count": 0,
      "outputs": []
    },
    {
      "cell_type": "code",
      "metadata": {
        "id": "RUHTISXRVk8Z",
        "colab_type": "code",
        "colab": {}
      },
      "source": [
        "# location limit tester\n",
        "def limiter(x,y):\n",
        "  if x > X_max and y > X_max:\n",
        "    x,y = X_max, X_max\n",
        "    # X_j = X_rand\n",
        "  elif x > X_max and X_min < y < X_max:\n",
        "    x,y = X_max, y\n",
        "    # X_j = X_rand\n",
        "  elif x > X_max and y < X_min:\n",
        "    x,y = X_max, X_min\n",
        "    # X_j = X_rand\n",
        "  elif X_min < x < X_max and y < X_min:\n",
        "    x,y = x, X_min\n",
        "    # X_j = X_rand\n",
        "  elif x < X_min and y < X_min:\n",
        "    x,y = X_min, X_min\n",
        "    # X_j = X_rand\n",
        "  elif x < X_min and X_min < y < X_max:\n",
        "    x,y = X_min, y\n",
        "    # X_j = X_rand\n",
        "  elif x < X_min and y > X_max:\n",
        "    x,y = X_min, X_max\n",
        "    # X_j = X_rand\n",
        "  elif X_min < x < X_max and y > X_max:\n",
        "    x,y = x, X_max\n",
        "    # X_j = X_rand\n",
        "  \n",
        "  return x,y"
      ],
      "execution_count": 0,
      "outputs": []
    },
    {
      "cell_type": "code",
      "metadata": {
        "id": "7dEEKJ61YB-e",
        "colab_type": "code",
        "colab": {}
      },
      "source": [
        "# print(limiter(0,0))\n",
        "# print(limiter(100,0))\n",
        "# print(limiter(0,100))\n",
        "# print(limiter(100,100))\n",
        "# print(limiter(22,55))\n",
        "# print(limiter(150,150))\n",
        "# print(limiter(150,25))\n",
        "# print(limiter(151,-40))\n",
        "# print(limiter(34,-60))\n",
        "# print(limiter(-32,-45))\n",
        "# print(limiter(-70,22))\n",
        "# print(limiter(-70,120))\n",
        "# print(limiter(24,155))\n",
        "\n",
        "# v = limiter(24,155)\n",
        "# v = np.array(v)\n",
        "# print(v[0])"
      ],
      "execution_count": 0,
      "outputs": []
    },
    {
      "cell_type": "code",
      "metadata": {
        "id": "HmSE37QzZdHU",
        "colab_type": "code",
        "colab": {}
      },
      "source": [
        "# objective function (to minimize)\n",
        "def objective(x,y):\n",
        "  l = neighbours(x,y)\n",
        "  if len(l) >= 3:\n",
        "    m = len(l)\n",
        "    rerror = []\n",
        "    for ancn in l:\n",
        "      dist_real = np.power((np.power((x - ancn[0]), 2) + np.power((y - ancn[1]), 2)), 0.5)\n",
        "      dist_err = dist_real + np.random.normal(0, (gamma*dist_real))\n",
        "      rerror.append(np.power(dist_real - dist_err,2))\n",
        "    \n",
        "    return np.sum(rerror)/m or None # mean of square of ranging error\n"
      ],
      "execution_count": 0,
      "outputs": []
    },
    {
      "cell_type": "code",
      "metadata": {
        "id": "IK3ppVQXIvFN",
        "colab_type": "code",
        "colab": {}
      },
      "source": [
        "# X_anchor = [[29,68],[16,79],[45,57]]\n",
        "# neighbours(38,81)\n",
        "# v = objective(38,81)\n",
        "# print(v)"
      ],
      "execution_count": 0,
      "outputs": []
    },
    {
      "cell_type": "code",
      "metadata": {
        "id": "6CdtCOo9RmFH",
        "colab_type": "code",
        "colab": {}
      },
      "source": [
        "# # average localization error (ALE)\n",
        "# def ale():\n",
        "#   ans ="
      ],
      "execution_count": 0,
      "outputs": []
    },
    {
      "cell_type": "code",
      "metadata": {
        "id": "qj75nYc4Rp7B",
        "colab_type": "code",
        "colab": {}
      },
      "source": [
        "# localization success ratio (LSR)\n",
        "def lsr(x,y):\n",
        "  ans = (x/y) * 100\n",
        "\n",
        "  return ans"
      ],
      "execution_count": 0,
      "outputs": []
    },
    {
      "cell_type": "code",
      "metadata": {
        "id": "6a7BK54TYTY5",
        "colab_type": "code",
        "colab": {}
      },
      "source": [
        "# # modified CS algorithm (paper)\n",
        "# def mod_cs():\n",
        "#   X_nest = []\n",
        "#   for i in range(N_nest):\n",
        "#     x_nest = np.random.randint(100)\n",
        "#     y_nest = np.random.randint(100)\n",
        "\n",
        "#     X_nest.append([x_nest, y_nest])\n",
        "\n",
        "#   Obj_X_nest = []\n",
        "#   for i in range(len(X_nest)):\n",
        "#     Obj_X_nest.append(objective(X_nest[i][0],X_nest[i][1]))\n",
        "#   # print(Obj_X_nest)\n",
        "\n",
        "#   N_iter = 1\n",
        "#   while (N_iter < N_itertotal):\n",
        "#     X_js = []\n",
        "#     for i in range(len(X_nest)):\n",
        "#       X_j = X_nest[i]\n",
        "#       X_j[0] = X_nest[i][0] + alpha(N_iter) * levy()\n",
        "#       X_j[1] = X_nest[i][1] + alpha(N_iter) * levy()\n",
        "\n",
        "#       v = limiter(X_j[0],X_j[1])\n",
        "#       X_j[0] = v[0]\n",
        "#       X_j[1] = v[1]\n",
        "\n",
        "#       F_j = objective(X_j[0],X_j[1]) or 0\n",
        "#       rand_k = np.random.randint(0, len(X_nest))\n",
        "#       F_k = objective(X_nest[rand_k][0], X_nest[rand_k][1]) or 0\n",
        "\n",
        "#       if F_j > F_k:\n",
        "#         X_j[0] = X_nest[rand_k][0]\n",
        "#         X_j[1] = X_nest[rand_k][1]\n",
        "#         F_j = F_k\n",
        "\n",
        "#       X_js.append(X_j)\n",
        "#       # X_js = np.array(X_js)\n",
        "#       # print(X_js)\n",
        "#       # break\n",
        "\n",
        "#     # Fitness values of current iteration's solutions\n",
        "#     Obj_X_js = []\n",
        "#     for i in range(len(X_js)):\n",
        "#       Obj_X_js.append(objective(X_js[i][0], X_js[i][1]))\n",
        "    \n",
        "#     # Best solution selection\n",
        "#     Obj_X_js = np.array([np.inf if i is None else i for i in Obj_X_js])\n",
        "#     F_min = Obj_X_js[np.argmin(Obj_X_js)]\n",
        "#     best_sol = X_js[np.argmin(Obj_X_js)]\n",
        "\n",
        "#     # Mutation probability\n",
        "#     Pa_j = []\n",
        "#     for i in Obj_X_js:\n",
        "#       K = i - F_min\n",
        "#       if K < 1:\n",
        "#         Pa_j.append(pa_min + (pa_max - pa_min) * K)\n",
        "#       else:\n",
        "#         Pa_j.append(pa_max / N_iter)\n",
        "\n",
        "#     # New random solutions generation according to mutation probability\n",
        "#     for i in range(len(Pa_j)):\n",
        "#       rand_temp = np.random.uniform(0, 1)\n",
        "#       if rand_temp < Pa_j[i]:\n",
        "#         my_x = np.random.randint(100)\n",
        "#         my_y = np.random.randint(100)\n",
        "#         X_js[i] = [my_x, my_y]\n",
        "\n",
        "#         v = limiter(X_js[i][0],X_js[i][1])\n",
        "#         X_js[i][0] = v[0]\n",
        "#         X_js[i][1] = v[1]\n",
        "\n",
        "#         Obj_X_js[i] = objective(X_js[i][0],X_js[i][1])\n",
        "\n",
        "#     # Rank all solutions (and find current best)\n",
        "#     Obj_X_js = np.array([np.inf if i is None else i for i in Obj_X_js])\n",
        "#     F_min = Obj_X_js[np.argmin(Obj_X_js)]\n",
        "#     best_sol = X_js[np.argmin(Obj_X_js)]\n",
        "\n",
        "\n",
        "#     X_js = np.array(X_js)\n",
        "#     X_nest = X_js\n",
        "#     # print([X_js, Obj_X_js, best_sol, X_])\n",
        "#     # print(best_sol)\n",
        "    \n",
        "#     N_iter += 1\n",
        "#   return best_sol\n"
      ],
      "execution_count": 0,
      "outputs": []
    },
    {
      "cell_type": "code",
      "metadata": {
        "id": "rgn6dOULR8va",
        "colab_type": "code",
        "outputId": "a4e033a9-905c-4b01-e45f-1aa3369840d5",
        "colab": {
          "base_uri": "https://localhost:8080/",
          "height": 88
        }
      },
      "source": [
        "X_unknown = [20,5]\n",
        "X_anchor = [[13, 14],[40, 77],[81, 90],[8, 23],[25, 98],[17, 56],[99, 9],[30, 22],[9, 52],[2, 65]]\n",
        "loc = neighbours(X_unknown[0],X_unknown[1])\n",
        "if len(loc) >= 3:\n",
        "  X_anchor = loc\n",
        "\n",
        "  X_nest = []\n",
        "  for i in range(N_nest):\n",
        "    x_nest = np.random.randint(100)\n",
        "    y_nest = np.random.randint(100)\n",
        "\n",
        "    X_nest.append([x_nest, y_nest])\n",
        "  print(X_nest)\n",
        "  # print(N_nest)\n",
        "\n",
        "  Obj_X_nest = []\n",
        "  for i in range(len(X_nest)):\n",
        "    Obj_X_nest.append(objective(X_nest[i][0],X_nest[i][1]))\n",
        "  print(Obj_X_nest)\n",
        "  # print(X_anchor)\n",
        "\n",
        "N_iter = 1\n",
        "while (N_iter < N_itertotal):\n",
        "  X_js = []\n",
        "  for i in range(len(X_nest)):\n",
        "    X_j = X_nest[i]\n",
        "    X_j[0] = X_nest[i][0] + alpha(N_iter) * levy()\n",
        "    X_j[1] = X_nest[i][1] + alpha(N_iter) * levy()\n",
        "\n",
        "    v = limiter(X_j[0],X_j[1])\n",
        "    X_j[0] = v[0]\n",
        "    X_j[1] = v[1]\n",
        "\n",
        "    F_j = objective(X_j[0],X_j[1]) or np.inf\n",
        "    rand_k = np.random.randint(0, len(X_nest))\n",
        "    F_k = objective(X_nest[rand_k][0], X_nest[rand_k][1]) or np.inf\n",
        "\n",
        "    if F_j > F_k:\n",
        "      X_j[0] = X_nest[rand_k][0]\n",
        "      X_j[1] = X_nest[rand_k][1]\n",
        "      F_j = F_k\n",
        "\n",
        "    X_js.append(X_j)\n",
        "  \n",
        "  # print(X_js)\n",
        "\n",
        "  # Fitness values of current iteration's solutions\n",
        "  Obj_X_js = []\n",
        "  for i in range(len(X_js)):\n",
        "    Obj_X_js.append(objective(X_js[i][0], X_js[i][1]))\n",
        "  print(Obj_X_js)\n",
        "  \n",
        "  # Current global optimal fitness (F_min)\n",
        "  Obj_X_js = np.array([np.inf if i is None else i for i in Obj_X_js])\n",
        "  F_min = Obj_X_js[np.argmin(Obj_X_js)]\n",
        "  best_sol = X_js[np.argmin(Obj_X_js)]\n",
        "\n",
        "  break"
      ],
      "execution_count": 82,
      "outputs": [
        {
          "output_type": "stream",
          "text": [
            "[[40, 6], [48, 71], [51, 36], [11, 5], [86, 61], [67, 28], [22, 17], [14, 91], [10, 77], [26, 44], [50, 65], [2, 21], [8, 62], [28, 98], [96, 49], [68, 65], [2, 22], [91, 89], [55, 4], [4, 27], [69, 3], [80, 70], [39, 0], [57, 48], [18, 2]]\n",
            "[None, None, None, None, None, None, 1.0015074829454809, None, None, None, None, None, None, None, None, None, None, None, None, None, None, None, None, None, None]\n",
            "[None, None, None, 1.2766765023306124, None, None, 3.343339221495229, 1.9389847853135802, None, None, 3.4110629392541028, None, None, None, None, None, None, None, None, 1.3671119108778378, None, None, None, None, None]\n"
          ],
          "name": "stdout"
        }
      ]
    },
    {
      "cell_type": "code",
      "metadata": {
        "id": "yLPAiLnxjRVF",
        "colab_type": "code",
        "colab": {
          "base_uri": "https://localhost:8080/",
          "height": 34
        },
        "outputId": "e7df2ee7-b878-436b-8b93-a09327e2cabc"
      },
      "source": [
        "loc"
      ],
      "execution_count": 83,
      "outputs": [
        {
          "output_type": "execute_result",
          "data": {
            "text/plain": [
              "[[13, 14], [8, 23], [30, 22]]"
            ]
          },
          "metadata": {
            "tags": []
          },
          "execution_count": 83
        }
      ]
    },
    {
      "cell_type": "code",
      "metadata": {
        "id": "c2-hhcMN0D7-",
        "colab_type": "code",
        "colab": {
          "base_uri": "https://localhost:8080/",
          "height": 71
        },
        "outputId": "c1c1084d-298d-4693-c2de-d6aeacfe5aa9"
      },
      "source": [
        "print(X_nest)\n",
        "print(X_js)"
      ],
      "execution_count": 84,
      "outputs": [
        {
          "output_type": "stream",
          "text": [
            "[[41.05136599708606, 6.6380427011285486], [45.486711201634414, 71.20952147764783], [50.738096184627544, 38.33629202518598], [11.35146845810495, 7.779225522837352], [85.40900157103988, 72.59305592724144], [68.47716038274619, 26.235765009377452], [18.875572825464765, 17.64089589631314], [11.35146845810495, 7.779225522837352], [9.852002019941732, 77.21843240036875], [26.37308651063341, 45.84634655892503], [11.35146845810495, 7.779225522837352], [1.5001244933227484, 20.952296878768042], [8.17444681568719, 62.04002914242072], [28.156764053932463, 97.36100230005722], [94.47619851807433, 46.819516149143006], [2, 22], [2.275264045543992, 22.388931081915505], [90.43826426891249, 90.15507938479563], [54.044882505926324, 1.7900582761722736], [4.719941435727479, 26.318818831469667], [69.25088518004138, 2.7700498297728577], [79.74051233755374, 69.91956761559574], [39.71064574974668, 1.163973705066688], [56.094197833872315, 48.903041268815386], [22.3040905714873, 1.3965807773286414]]\n",
            "[[41.05136599708606, 6.6380427011285486], [45.486711201634414, 71.20952147764783], [50.738096184627544, 38.33629202518598], [11.35146845810495, 7.779225522837352], [85.40900157103988, 72.59305592724144], [68.47716038274619, 26.235765009377452], [18.875572825464765, 17.64089589631314], [11.35146845810495, 7.779225522837352], [9.852002019941732, 77.21843240036875], [26.37308651063341, 45.84634655892503], [11.35146845810495, 7.779225522837352], [1.5001244933227484, 20.952296878768042], [8.17444681568719, 62.04002914242072], [28.156764053932463, 97.36100230005722], [94.47619851807433, 46.819516149143006], [2, 22], [2.275264045543992, 22.388931081915505], [90.43826426891249, 90.15507938479563], [54.044882505926324, 1.7900582761722736], [4.719941435727479, 26.318818831469667], [69.25088518004138, 2.7700498297728577], [79.74051233755374, 69.91956761559574], [39.71064574974668, 1.163973705066688], [56.094197833872315, 48.903041268815386], [22.3040905714873, 1.3965807773286414]]\n"
          ],
          "name": "stdout"
        }
      ]
    },
    {
      "cell_type": "code",
      "metadata": {
        "id": "e3i9gGpHcUUK",
        "colab_type": "code",
        "colab": {
          "base_uri": "https://localhost:8080/",
          "height": 241
        },
        "outputId": "31459d94-75f8-436b-b40d-2028cefcfeb6"
      },
      "source": [
        "print('X_nest = ', X_nest)\n",
        "print('Obj_X_nest = ', Obj_X_nest)\n",
        "print('iteration check index = ', rand_k)\n",
        "print('X_js = ', X_js)\n",
        "print('Obj_X_js = ', Obj_X_js)\n",
        "print('np.argmin(Obj_X_js) = ', np.argmin(Obj_X_js))\n",
        "print('F_min = ', F_min)\n",
        "print('best_sol = ', best_sol)"
      ],
      "execution_count": 85,
      "outputs": [
        {
          "output_type": "stream",
          "text": [
            "X_nest =  [[41.05136599708606, 6.6380427011285486], [45.486711201634414, 71.20952147764783], [50.738096184627544, 38.33629202518598], [11.35146845810495, 7.779225522837352], [85.40900157103988, 72.59305592724144], [68.47716038274619, 26.235765009377452], [18.875572825464765, 17.64089589631314], [11.35146845810495, 7.779225522837352], [9.852002019941732, 77.21843240036875], [26.37308651063341, 45.84634655892503], [11.35146845810495, 7.779225522837352], [1.5001244933227484, 20.952296878768042], [8.17444681568719, 62.04002914242072], [28.156764053932463, 97.36100230005722], [94.47619851807433, 46.819516149143006], [2, 22], [2.275264045543992, 22.388931081915505], [90.43826426891249, 90.15507938479563], [54.044882505926324, 1.7900582761722736], [4.719941435727479, 26.318818831469667], [69.25088518004138, 2.7700498297728577], [79.74051233755374, 69.91956761559574], [39.71064574974668, 1.163973705066688], [56.094197833872315, 48.903041268815386], [22.3040905714873, 1.3965807773286414]]\n",
            "Obj_X_nest =  [None, None, None, None, None, None, 1.0015074829454809, None, None, None, None, None, None, None, None, None, None, None, None, None, None, None, None, None, None]\n",
            "iteration check index =  9\n",
            "X_js =  [[41.05136599708606, 6.6380427011285486], [45.486711201634414, 71.20952147764783], [50.738096184627544, 38.33629202518598], [11.35146845810495, 7.779225522837352], [85.40900157103988, 72.59305592724144], [68.47716038274619, 26.235765009377452], [18.875572825464765, 17.64089589631314], [11.35146845810495, 7.779225522837352], [9.852002019941732, 77.21843240036875], [26.37308651063341, 45.84634655892503], [11.35146845810495, 7.779225522837352], [1.5001244933227484, 20.952296878768042], [8.17444681568719, 62.04002914242072], [28.156764053932463, 97.36100230005722], [94.47619851807433, 46.819516149143006], [2, 22], [2.275264045543992, 22.388931081915505], [90.43826426891249, 90.15507938479563], [54.044882505926324, 1.7900582761722736], [4.719941435727479, 26.318818831469667], [69.25088518004138, 2.7700498297728577], [79.74051233755374, 69.91956761559574], [39.71064574974668, 1.163973705066688], [56.094197833872315, 48.903041268815386], [22.3040905714873, 1.3965807773286414]]\n",
            "Obj_X_js =  [       inf        inf        inf 1.2766765         inf        inf\n",
            " 3.34333922 1.93898479        inf        inf 3.41106294        inf\n",
            "        inf        inf        inf        inf        inf        inf\n",
            "        inf 1.36711191        inf        inf        inf        inf\n",
            "        inf]\n",
            "np.argmin(Obj_X_js) =  3\n",
            "F_min =  1.2766765023306124\n",
            "best_sol =  [11.35146845810495, 7.779225522837352]\n"
          ],
          "name": "stdout"
        }
      ]
    },
    {
      "cell_type": "code",
      "metadata": {
        "id": "Y6NEa0BDaz59",
        "colab_type": "code",
        "colab": {}
      },
      "source": [
        ""
      ],
      "execution_count": 0,
      "outputs": []
    },
    {
      "cell_type": "markdown",
      "metadata": {
        "id": "ZL8_2poGPJN4",
        "colab_type": "text"
      },
      "source": [
        "### MAIN"
      ]
    },
    {
      "cell_type": "code",
      "metadata": {
        "id": "CCSiVFF_Iw2o",
        "colab_type": "code",
        "colab": {}
      },
      "source": [
        "# anchor nodes random placement\n",
        "X_anchor = []\n",
        "\n",
        "for i in range(M):\n",
        "  x_anchor = np.random.randint(100)\n",
        "  y_anchor = np.random.randint(100)\n",
        "\n",
        "  X_anchor.append([x_anchor, y_anchor])"
      ],
      "execution_count": 0,
      "outputs": []
    },
    {
      "cell_type": "code",
      "metadata": {
        "id": "uPTpK6L7r47o",
        "colab_type": "code",
        "outputId": "b45a1980-0de6-4da0-922f-72a77ece7169",
        "colab": {
          "base_uri": "https://localhost:8080/",
          "height": 187
        }
      },
      "source": [
        "X_anchor"
      ],
      "execution_count": 18,
      "outputs": [
        {
          "output_type": "execute_result",
          "data": {
            "text/plain": [
              "[[13, 14],\n",
              " [40, 77],\n",
              " [81, 90],\n",
              " [8, 23],\n",
              " [25, 98],\n",
              " [17, 56],\n",
              " [99, 9],\n",
              " [30, 22],\n",
              " [9, 52],\n",
              " [2, 65]]"
            ]
          },
          "metadata": {
            "tags": []
          },
          "execution_count": 18
        }
      ]
    },
    {
      "cell_type": "code",
      "metadata": {
        "id": "UpxyIPJjO-2l",
        "colab_type": "code",
        "colab": {}
      },
      "source": [
        "# unknown nodes random placement\n",
        "X_unknown = []\n",
        "\n",
        "for i in range(N):\n",
        "  x_unknown = np.random.randint(100)\n",
        "  y_unknown = np.random.randint(100)\n",
        "\n",
        "  X_unknown.append([x_unknown, y_unknown])"
      ],
      "execution_count": 0,
      "outputs": []
    },
    {
      "cell_type": "code",
      "metadata": {
        "id": "iUfz4FAgTNty",
        "colab_type": "code",
        "colab": {
          "base_uri": "https://localhost:8080/",
          "height": 1000
        },
        "outputId": "e19c9813-02fc-492e-f3a1-e8f81cb2a4c2"
      },
      "source": [
        "X_unknown"
      ],
      "execution_count": 52,
      "outputs": [
        {
          "output_type": "execute_result",
          "data": {
            "text/plain": [
              "array([[41, 54],\n",
              "       [49, 38],\n",
              "       [ 3, 73],\n",
              "       [98, 10],\n",
              "       [58, 36],\n",
              "       [42, 77],\n",
              "       [52, 30],\n",
              "       [86, 55],\n",
              "       [79, 35],\n",
              "       [63, 12],\n",
              "       [78, 71],\n",
              "       [57, 72],\n",
              "       [58, 52],\n",
              "       [20,  5],\n",
              "       [86, 52],\n",
              "       [99, 88],\n",
              "       [44, 79],\n",
              "       [89, 89],\n",
              "       [64, 36],\n",
              "       [45,  6],\n",
              "       [16, 14],\n",
              "       [97, 27],\n",
              "       [79, 42],\n",
              "       [34, 44],\n",
              "       [79, 47],\n",
              "       [64, 26],\n",
              "       [ 3,  0],\n",
              "       [45, 52],\n",
              "       [69, 24],\n",
              "       [86, 15],\n",
              "       [24, 29],\n",
              "       [80, 32],\n",
              "       [68, 41],\n",
              "       [91, 35],\n",
              "       [48, 93],\n",
              "       [77, 73],\n",
              "       [69,  1],\n",
              "       [72, 74],\n",
              "       [12, 74],\n",
              "       [28, 34],\n",
              "       [22, 45],\n",
              "       [22, 95],\n",
              "       [91, 29],\n",
              "       [ 1, 55],\n",
              "       [53, 60],\n",
              "       [14,  1],\n",
              "       [25, 91],\n",
              "       [95, 15],\n",
              "       [15, 78],\n",
              "       [58, 44],\n",
              "       [61,  8],\n",
              "       [ 3,  0],\n",
              "       [ 7, 53],\n",
              "       [ 9, 25],\n",
              "       [77,  1],\n",
              "       [12, 38],\n",
              "       [84, 37],\n",
              "       [45, 34],\n",
              "       [58, 70],\n",
              "       [61, 66],\n",
              "       [39,  0],\n",
              "       [85, 69],\n",
              "       [52, 85],\n",
              "       [21, 77],\n",
              "       [ 1,  9],\n",
              "       [29,  8],\n",
              "       [64, 78],\n",
              "       [84,  6],\n",
              "       [46, 22],\n",
              "       [65, 31],\n",
              "       [ 2, 70],\n",
              "       [89, 12],\n",
              "       [ 3, 74],\n",
              "       [95, 16],\n",
              "       [70,  2],\n",
              "       [ 9, 58],\n",
              "       [81, 31],\n",
              "       [ 6, 84],\n",
              "       [41, 52],\n",
              "       [56,  9],\n",
              "       [85, 24],\n",
              "       [97, 47],\n",
              "       [53, 54],\n",
              "       [73, 64],\n",
              "       [37, 65],\n",
              "       [12, 25],\n",
              "       [72, 31],\n",
              "       [12, 16],\n",
              "       [15, 22],\n",
              "       [33, 17]])"
            ]
          },
          "metadata": {
            "tags": []
          },
          "execution_count": 52
        }
      ]
    },
    {
      "cell_type": "code",
      "metadata": {
        "id": "rwBgbqGIPmxH",
        "colab_type": "code",
        "colab": {}
      },
      "source": [
        "X_unknown = np.array(X_unknown)\n",
        "X_anchor = np.array(X_anchor)"
      ],
      "execution_count": 0,
      "outputs": []
    },
    {
      "cell_type": "code",
      "metadata": {
        "id": "v4m8GUQOr-YJ",
        "colab_type": "code",
        "outputId": "0cf673c1-2286-462e-d9ec-3da617d7394f",
        "colab": {
          "base_uri": "https://localhost:8080/",
          "height": 187
        }
      },
      "source": [
        "X_anchor"
      ],
      "execution_count": 21,
      "outputs": [
        {
          "output_type": "execute_result",
          "data": {
            "text/plain": [
              "array([[13, 14],\n",
              "       [40, 77],\n",
              "       [81, 90],\n",
              "       [ 8, 23],\n",
              "       [25, 98],\n",
              "       [17, 56],\n",
              "       [99,  9],\n",
              "       [30, 22],\n",
              "       [ 9, 52],\n",
              "       [ 2, 65]])"
            ]
          },
          "metadata": {
            "tags": []
          },
          "execution_count": 21
        }
      ]
    },
    {
      "cell_type": "code",
      "metadata": {
        "id": "u1_ROuW9PvXx",
        "colab_type": "code",
        "colab": {}
      },
      "source": [
        "# back up of original anchors and unknowns\n",
        "X_anchor_og = X_anchor.copy()\n",
        "X_unknown_og = X_unknown.copy()"
      ],
      "execution_count": 0,
      "outputs": []
    },
    {
      "cell_type": "code",
      "metadata": {
        "id": "RnxSpK_0P6i5",
        "colab_type": "code",
        "outputId": "6475b6da-56cc-42ae-8783-54494c11af41",
        "colab": {
          "base_uri": "https://localhost:8080/",
          "height": 483
        }
      },
      "source": [
        "plt.figure(figsize=(8, 8))\n",
        "plt.plot(X_unknown[:, 0], X_unknown[:, 1], 'ro', label=\"Unknown Node\")\n",
        "plt.plot(X_anchor[:, 0], X_anchor[:, 1], 'go', label=\"Anchor Node\")\n",
        "plt.legend()\n",
        "plt.grid()\n",
        "plt.show()"
      ],
      "execution_count": 23,
      "outputs": [
        {
          "output_type": "display_data",
          "data": {
            "image/png": "[encoded data removed]",
            "text/plain": [
              "<Figure size 576x576 with 1 Axes>"
            ]
          },
          "metadata": {
            "tags": [],
            "needs_background": "light"
          }
        }
      ]
    },
    {
      "cell_type": "code",
      "metadata": {
        "id": "0OXiE6q7QASs",
        "colab_type": "code",
        "outputId": "27cbcd43-0fcc-4fd8-b03a-b6122a4bfda4",
        "colab": {
          "base_uri": "https://localhost:8080/",
          "height": 54
        }
      },
      "source": [
        "X_obj = []\n",
        "for i in range(len(X_unknown)):\n",
        "  X_obj.append(objective(X_unknown[i][0],X_unknown[i][1]))\n",
        "print(X_obj)"
      ],
      "execution_count": 24,
      "outputs": [
        {
          "output_type": "stream",
          "text": [
            "[None, None, None, None, None, None, None, None, None, None, None, None, None, 2.0994454549361805, None, None, None, None, None, None, 0.1356556097860161, None, None, None, None, None, None, None, None, None, 5.71878728650088, None, None, None, None, None, None, None, 0.5557695503343547, None, 2.4421017358585035, None, None, 1.5593049493038158, None, None, None, None, 3.162544109540995, None, None, None, 0.5657843502862444, 0.017334825348504643, None, 1.366013314078069, None, None, None, None, None, None, None, 6.341855186187773, None, None, None, None, None, None, 0.4497543261390295, None, 0.16387365676050966, None, None, 0.8558641689065376, None, None, None, None, None, None, None, None, None, 0.7887500996702707, None, 1.1167474671663962, 6.486524059701597, 3.293465859843644]\n"
          ],
          "name": "stdout"
        }
      ]
    },
    {
      "cell_type": "code",
      "metadata": {
        "id": "nqdGTrKAQpSB",
        "colab_type": "code",
        "outputId": "3f6a941e-89e4-4a66-c526-edfbf51b840a",
        "colab": {
          "base_uri": "https://localhost:8080/",
          "height": 34
        }
      },
      "source": [
        "not_possible = 0\n",
        "for i in range(len(X_obj)):\n",
        "  if X_obj[i] == None:\n",
        "    not_possible += 1\n",
        "\n",
        "print(not_possible)"
      ],
      "execution_count": 25,
      "outputs": [
        {
          "output_type": "stream",
          "text": [
            "72\n"
          ],
          "name": "stdout"
        }
      ]
    },
    {
      "cell_type": "code",
      "metadata": {
        "id": "zYdGtrxoSu8O",
        "colab_type": "code",
        "colab": {}
      },
      "source": [
        "for i in range(len(X_unknown)):\n",
        "  loc = neighbours(X_unknown[i][0],X_unknown[i][1])\n",
        "  if len(loc) >= 3:\n",
        "    X_anchor = loc\n",
        "    f_start = objective(X_unknown[i][0],X_unknown[i][1])\n",
        "\n",
        "    # call modified CS algorithm\n",
        "    v = mod_cs()\n",
        "    print(X_unknown[i])\n",
        "    print(f_start)\n",
        "    print(X_anchor)\n",
        "    print(v)\n",
        "    print(objective(v[0],v[1]))\n",
        "  \n",
        "  # localize the best solution coordinates\n",
        "  # remove the current node [i] from \"unknown list\", and add best_sol [i] to \"anchor list\"\n",
        "\n",
        "  break"
      ],
      "execution_count": 0,
      "outputs": []
    },
    {
      "cell_type": "code",
      "metadata": {
        "id": "mupuIT3jx7kk",
        "colab_type": "code",
        "colab": {
          "base_uri": "https://localhost:8080/",
          "height": 163
        },
        "outputId": "9ba76228-a5b5-4e31-9977-c910fb016285"
      },
      "source": [
        "v"
      ],
      "execution_count": 35,
      "outputs": [
        {
          "output_type": "error",
          "ename": "NameError",
          "evalue": "ignored",
          "traceback": [
            "\u001b[0;31m---------------------------------------------------------------------------\u001b[0m",
            "\u001b[0;31mNameError\u001b[0m                                 Traceback (most recent call last)",
            "\u001b[0;32m<ipython-input-35-d0aa4386ac53>\u001b[0m in \u001b[0;36m<module>\u001b[0;34m()\u001b[0m\n\u001b[0;32m----> 1\u001b[0;31m \u001b[0mv\u001b[0m\u001b[0;34m\u001b[0m\u001b[0;34m\u001b[0m\u001b[0m\n\u001b[0m",
            "\u001b[0;31mNameError\u001b[0m: name 'v' is not defined"
          ]
        }
      ]
    },
    {
      "cell_type": "code",
      "metadata": {
        "id": "Dfu7QRpapxwV",
        "colab_type": "code",
        "colab": {}
      },
      "source": [
        "# X_unknown[i]"
      ],
      "execution_count": 0,
      "outputs": []
    },
    {
      "cell_type": "code",
      "metadata": {
        "id": "2awlGCDepx_l",
        "colab_type": "code",
        "colab": {
          "base_uri": "https://localhost:8080/",
          "height": 180
        },
        "outputId": "fb7551db-55ea-4a88-aa10-704a98f53257"
      },
      "source": [
        "print(f_start)\n",
        "print(X_anchor)"
      ],
      "execution_count": 36,
      "outputs": [
        {
          "output_type": "error",
          "ename": "NameError",
          "evalue": "ignored",
          "traceback": [
            "\u001b[0;31m---------------------------------------------------------------------------\u001b[0m",
            "\u001b[0;31mNameError\u001b[0m                                 Traceback (most recent call last)",
            "\u001b[0;32m<ipython-input-36-da5ae489c457>\u001b[0m in \u001b[0;36m<module>\u001b[0;34m()\u001b[0m\n\u001b[0;32m----> 1\u001b[0;31m \u001b[0mprint\u001b[0m\u001b[0;34m(\u001b[0m\u001b[0mf_start\u001b[0m\u001b[0;34m)\u001b[0m\u001b[0;34m\u001b[0m\u001b[0;34m\u001b[0m\u001b[0m\n\u001b[0m\u001b[1;32m      2\u001b[0m \u001b[0mprint\u001b[0m\u001b[0;34m(\u001b[0m\u001b[0mX_anchor\u001b[0m\u001b[0;34m)\u001b[0m\u001b[0;34m\u001b[0m\u001b[0;34m\u001b[0m\u001b[0m\n",
            "\u001b[0;31mNameError\u001b[0m: name 'f_start' is not defined"
          ]
        }
      ]
    },
    {
      "cell_type": "code",
      "metadata": {
        "id": "q6zKufEWpyVK",
        "colab_type": "code",
        "colab": {
          "base_uri": "https://localhost:8080/",
          "height": 34
        },
        "outputId": "dd517298-6cc9-4655-81f2-dc2b1e6dcbf4"
      },
      "source": [
        "ans = objective(1,2)\n",
        "print(ans)"
      ],
      "execution_count": 38,
      "outputs": [
        {
          "output_type": "stream",
          "text": [
            "None\n"
          ],
          "name": "stdout"
        }
      ]
    },
    {
      "cell_type": "code",
      "metadata": {
        "id": "ZJ-ZQ-KWPp_p",
        "colab_type": "code",
        "colab": {
          "base_uri": "https://localhost:8080/",
          "height": 34
        },
        "outputId": "934a6408-2dde-48f1-f6ed-3efd65793391"
      },
      "source": [
        "neighbours(1,2)"
      ],
      "execution_count": 39,
      "outputs": [
        {
          "output_type": "execute_result",
          "data": {
            "text/plain": [
              "[array([13, 14]), array([ 8, 23])]"
            ]
          },
          "metadata": {
            "tags": []
          },
          "execution_count": 39
        }
      ]
    },
    {
      "cell_type": "code",
      "metadata": {
        "id": "IT6FsZUVPvAu",
        "colab_type": "code",
        "colab": {}
      },
      "source": [
        ""
      ],
      "execution_count": 0,
      "outputs": []
    }
  ]
}